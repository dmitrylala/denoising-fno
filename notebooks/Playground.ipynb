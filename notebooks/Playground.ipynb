{
 "cells": [
  {
   "cell_type": "code",
   "execution_count": 1,
   "id": "d8a37527-00ef-410d-88b6-f6dfdc41ddda",
   "metadata": {},
   "outputs": [],
   "source": [
    "%load_ext autoreload\n",
    "%autoreload 2"
   ]
  },
  {
   "cell_type": "code",
   "execution_count": 23,
   "id": "dd5603d1-cffb-4123-8262-13ce76d2092e",
   "metadata": {},
   "outputs": [],
   "source": [
    "import torch\n",
    "from torch import nn\n",
    "from tltorch.factorized_tensors.core import FactorizedTensor\n",
    "\n",
    "from denoising import Environment\n",
    "from denoising.models.conv import SpectralConv, HartleySeparableSpectralConv"
   ]
  },
  {
   "cell_type": "code",
   "execution_count": 16,
   "id": "543f094e-5a42-4184-a504-b06ae1c8a27a",
   "metadata": {},
   "outputs": [],
   "source": [
    "# загружаем переменные окружения\n",
    "env = Environment(_env_file='../env')"
   ]
  },
  {
   "cell_type": "code",
   "execution_count": null,
   "id": "7829fc0a-4b7a-421e-8f93-508a637465f8",
   "metadata": {},
   "outputs": [],
   "source": []
  },
  {
   "cell_type": "code",
   "execution_count": null,
   "id": "ac12c8da-76d6-47d5-ae78-7d758a27a64c",
   "metadata": {},
   "outputs": [],
   "source": []
  },
  {
   "cell_type": "code",
   "execution_count": 24,
   "id": "a30158b7-e29a-4629-9e99-a2e3aa31d2b2",
   "metadata": {},
   "outputs": [],
   "source": [
    "kwargs = {\n",
    "    'in_channels': 3,\n",
    "    'out_channels': 1,\n",
    "    'n_modes': (4, 4),\n",
    "    'factorization': 'dense',\n",
    "    'rank': 0.42,\n",
    "}\n",
    "\n",
    "_ = torch.manual_seed(env.random_seed)\n",
    "conv = HartleySeparableSpectralConv(**kwargs)\n",
    "\n",
    "_ = torch.manual_seed(env.random_seed)\n",
    "conv_f = SpectralConv(**kwargs)\n",
    "\n",
    "_ = torch.manual_seed(env.random_seed)\n",
    "x = torch.randn(2, kwargs['in_channels'], 6, 6)"
   ]
  },
  {
   "cell_type": "code",
   "execution_count": null,
   "id": "9b108aae-ca54-48e1-81bc-f66f059d3faf",
   "metadata": {},
   "outputs": [],
   "source": []
  },
  {
   "cell_type": "code",
   "execution_count": 44,
   "id": "5e909ef2-e287-4028-8c08-9e1d317236d6",
   "metadata": {},
   "outputs": [
    {
     "data": {
      "text/plain": [
       "(tensor([[[[ 0.3385, -0.4014, -0.6542],\n",
       "           [ 0.7838, -0.8771,  0.4499],\n",
       "           [ 0.4499, -0.8771,  0.7838],\n",
       "           [-0.6542, -0.4014,  0.3385]]],\n",
       " \n",
       " \n",
       "         [[[-0.4650, -0.2417,  0.5009],\n",
       "           [ 0.7459,  0.0330, -0.1067],\n",
       "           [-0.1067,  0.0330,  0.7459],\n",
       "           [ 0.5009, -0.2417, -0.4650]]],\n",
       " \n",
       " \n",
       "         [[[ 0.1771,  0.3354,  0.5967],\n",
       "           [ 0.0709,  0.7308, -0.6319],\n",
       "           [-0.6319,  0.7308,  0.0709],\n",
       "           [ 0.5967,  0.3354,  0.1771]]]], grad_fn=<DivBackward0>),\n",
       " tensor([[[[-0.0523, -0.5563,  0.3023],\n",
       "           [-0.4482, -0.8974, -0.1049],\n",
       "           [ 0.1049,  0.8974,  0.4482],\n",
       "           [-0.3023,  0.5563,  0.0523]]],\n",
       " \n",
       " \n",
       "         [[[ 0.3340,  0.7740, -0.2146],\n",
       "           [-0.6197, -0.2568,  0.5229],\n",
       "           [-0.5229,  0.2568,  0.6197],\n",
       "           [ 0.2146, -0.7740, -0.3340]]],\n",
       " \n",
       " \n",
       "         [[[-0.2732,  0.8210, -0.1338],\n",
       "           [ 0.3364,  0.0764,  0.6450],\n",
       "           [-0.6450, -0.0764, -0.3364],\n",
       "           [ 0.1338, -0.8210,  0.2732]]]], grad_fn=<DivBackward0>))"
      ]
     },
     "execution_count": 44,
     "metadata": {},
     "output_type": "execute_result"
    }
   ],
   "source": [
    "a = conv.weight.to_tensor()\n",
    "flipped_a = torch.flip(a, dims=(-2, -1))\n",
    "a_even = (a + flipped_a) / 2\n",
    "a_odd = (a - flipped_a) / 2\n",
    "\n",
    "a_even, a_odd\n",
    "\n",
    "# a_even_flipped = torch.flip(a_even, dims=(-2, -1))\n",
    "# a_even_even = (a_even + a_even_flipped) / 2\n",
    "# a_even_odd = (a_even - a_even_flipped) / 2\n",
    "\n",
    "# a_even, a_even_even, a_even_odd"
   ]
  },
  {
   "cell_type": "code",
   "execution_count": null,
   "id": "ab90f2b1-9576-4749-9de1-45a00a98e91e",
   "metadata": {},
   "outputs": [],
   "source": []
  },
  {
   "cell_type": "code",
   "execution_count": null,
   "id": "c8ad7e7c-27ed-46a7-b698-0880d477cfee",
   "metadata": {},
   "outputs": [],
   "source": []
  },
  {
   "cell_type": "code",
   "execution_count": null,
   "id": "f32ef9b7-fe49-4149-90df-7e7685c0805b",
   "metadata": {},
   "outputs": [],
   "source": []
  },
  {
   "cell_type": "code",
   "execution_count": null,
   "id": "74676505-132e-4ab8-88b9-3a9eeda75c9f",
   "metadata": {},
   "outputs": [],
   "source": []
  },
  {
   "cell_type": "code",
   "execution_count": null,
   "id": "6724b96a-0a31-457a-a4e3-afa6456bd852",
   "metadata": {},
   "outputs": [],
   "source": []
  },
  {
   "cell_type": "code",
   "execution_count": null,
   "id": "ca190f93-2b1b-445d-8927-8486a63c42d9",
   "metadata": {},
   "outputs": [],
   "source": []
  },
  {
   "cell_type": "code",
   "execution_count": null,
   "id": "3bca73d5-0416-4aef-b869-5a207c11382f",
   "metadata": {},
   "outputs": [],
   "source": []
  },
  {
   "cell_type": "code",
   "execution_count": null,
   "id": "f9729073-5387-4c8e-b3a1-ecbb821b43d2",
   "metadata": {},
   "outputs": [],
   "source": []
  },
  {
   "cell_type": "code",
   "execution_count": null,
   "id": "baed7c57-ee7c-48a0-a6e1-5c1d15665772",
   "metadata": {},
   "outputs": [],
   "source": []
  }
 ],
 "metadata": {
  "kernelspec": {
   "display_name": "Python 3 (ipykernel)",
   "language": "python",
   "name": "python3"
  },
  "language_info": {
   "codemirror_mode": {
    "name": "ipython",
    "version": 3
   },
   "file_extension": ".py",
   "mimetype": "text/x-python",
   "name": "python",
   "nbconvert_exporter": "python",
   "pygments_lexer": "ipython3",
   "version": "3.10.16"
  }
 },
 "nbformat": 4,
 "nbformat_minor": 5
}
