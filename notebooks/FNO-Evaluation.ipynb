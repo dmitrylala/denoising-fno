{
 "cells": [
  {
   "cell_type": "code",
   "execution_count": 1,
   "id": "a9457bc3-a2bf-4de9-ae89-b0306648d868",
   "metadata": {},
   "outputs": [],
   "source": [
    "%load_ext autoreload\n",
    "%autoreload 2"
   ]
  },
  {
   "cell_type": "code",
   "execution_count": 9,
   "id": "5a3db0e7-dc1e-44fb-b97b-2d43745d9043",
   "metadata": {},
   "outputs": [],
   "source": [
    "import neuralop\n",
    "import torch\n",
    "\n",
    "from denoising import (\n",
    "    Environment,\n",
    "    ModelRegistry,\n",
    ")\n",
    "from config import model_load_configs"
   ]
  },
  {
   "cell_type": "code",
   "execution_count": 3,
   "id": "ea98d940-e0d8-467b-8e80-1693f5b5f29a",
   "metadata": {},
   "outputs": [
    {
     "name": "stdout",
     "output_type": "stream",
     "text": [
      "torch 2.6.0+cu124\n",
      "neuralop 1.0.2\n"
     ]
    }
   ],
   "source": [
    "print('torch ' + torch.__version__)\n",
    "print('neuralop ' + neuralop.__version__)"
   ]
  },
  {
   "cell_type": "code",
   "execution_count": 4,
   "id": "df1890e9-0801-4888-899f-5b058794e67e",
   "metadata": {},
   "outputs": [
    {
     "name": "stdout",
     "output_type": "stream",
     "text": [
      "Used device: cuda:2, weights_dir: /home/d.nesterov/denoising-fno/notebooks\n"
     ]
    }
   ],
   "source": [
    "# загружаем переменные окружения\n",
    "env = Environment(_env_file='../env')\n",
    "print(f'Used device: {env.device}, weights_dir: {env.weights}')"
   ]
  },
  {
   "cell_type": "markdown",
   "id": "bd35ccb4-c965-4458-93c8-b15c970f789f",
   "metadata": {},
   "source": [
    "# Инициализация датасетов"
   ]
  },
  {
   "cell_type": "code",
   "execution_count": 5,
   "id": "780fc104-7c1a-4995-8ba2-c47d58ec0f35",
   "metadata": {},
   "outputs": [],
   "source": [
    "from denoising import (\n",
    "    make_bsd_dset_config,\n",
    "    make_fno_dset_config,\n",
    "    make_load_params,\n",
    ")\n",
    "from denoising.data import DatasetRegistry"
   ]
  },
  {
   "cell_type": "code",
   "execution_count": 6,
   "id": "7353843c-b5ce-45e1-a98f-dc6aba0acbed",
   "metadata": {},
   "outputs": [],
   "source": [
    "mri_root = env.data / 'MRI/IXI_0_1/255'\n",
    "bsd_root = env.data / 'BSDS300-horizontal-synthetic'\n",
    "sidd_root = env.data / 'SIDD_Small_sRGB_Only'\n",
    "\n",
    "mri_sketch_load_params = make_load_params('sketch', [145, 145], 'float32')\n",
    "mri_image_load_params = make_load_params('image', [145, 145], 'float32')\n",
    "mri_gt_load_params = make_load_params('gt', [255, 255], 'float32')\n",
    "pm_load_params = [mri_sketch_load_params, mri_image_load_params]\n",
    "gt_load_params = [mri_sketch_load_params, mri_gt_load_params]\n",
    "\n",
    "sidd_noisy_load_params = make_load_params('noisy', [512, 512, 3], 'uint8')\n",
    "sidd_gt_load_params = make_load_params('gt', [512, 512, 3], 'uint8')\n",
    "sidd_load_params = [sidd_noisy_load_params, sidd_gt_load_params]\n",
    "\n",
    "datasets_configs = {\n",
    "    # MRI datasets\n",
    "    'mri_pm_test': make_fno_dset_config(\n",
    "        mri_root,\n",
    "        env.data / 'MRI/lists/IXI_0_1/train_pmLR_gibbsnoiseLR_val.csv',\n",
    "        pm_load_params,\n",
    "    ),\n",
    "    'mri_gt_test': make_fno_dset_config(\n",
    "        mri_root,\n",
    "        env.data / 'MRI/lists/IXI_0_1/train_gtLR_gibbsnoiseLR_val.csv',\n",
    "        gt_load_params,\n",
    "    ),\n",
    "    # BSD datasets\n",
    "    'bsd_synth_0.01_test': make_bsd_dset_config(bsd_root, 0.01, 'test'),\n",
    "    # SIDD datasets, patches\n",
    "    'sidd_test': make_fno_dset_config(\n",
    "        sidd_root / 'val',\n",
    "        sidd_root / 'patches_val.csv',\n",
    "        sidd_load_params,\n",
    "        normalize=True,\n",
    "    ),\n",
    "}"
   ]
  },
  {
   "cell_type": "code",
   "execution_count": 7,
   "id": "3db75f67-620a-4ca5-b51f-1726d18a8f6e",
   "metadata": {},
   "outputs": [
    {
     "name": "stdout",
     "output_type": "stream",
     "text": [
      "Got n_samples = 2093  in dataset mri_pm_test         with sample size = torch.Size([1, 145, 145])\n",
      "Got n_samples = 2093  in dataset mri_gt_test         with sample size = torch.Size([1, 145, 145])\n",
      "Got n_samples = 77    in dataset bsd_synth_0.01_test with sample size = torch.Size([1, 321, 481])\n",
      "Got n_samples = 3008  in dataset sidd_test           with sample size = torch.Size([3, 512, 512])\n"
     ]
    },
    {
     "data": {
      "text/plain": [
       "DatasetRegistry(['mri_pm_test', 'mri_gt_test', 'bsd_synth_0.01_test', 'sidd_test'])"
      ]
     },
     "execution_count": 7,
     "metadata": {},
     "output_type": "execute_result"
    }
   ],
   "source": [
    "dataset_registry = DatasetRegistry()\n",
    "dataset_registry.load(datasets_configs, verbose=True)\n",
    "dataset_registry"
   ]
  },
  {
   "cell_type": "markdown",
   "id": "8d3dd999-aff9-4087-932e-835c8d457f1f",
   "metadata": {},
   "source": [
    "# Инициализация моделей"
   ]
  },
  {
   "cell_type": "code",
   "execution_count": 10,
   "id": "7d1f152a-c947-40a9-bdd4-1a7a6f309ae5",
   "metadata": {},
   "outputs": [
    {
     "name": "stdout",
     "output_type": "stream",
     "text": [
      "Loaded  model mri-fno-neuralop with n_parameters = 2010449\n",
      "Loaded  model mri-fno-custom   with n_parameters = 2010449\n",
      "Loaded  model mri-fno-spectral2d with n_parameters = 2010449\n",
      "Loaded  model mri-hno          with n_parameters = 4476513\n",
      "Loaded  model sidd-fno-run2    with n_parameters = 2011091\n",
      "Loaded  model sidd-fno-run3    with n_parameters = 2011091\n",
      "Loaded  model sidd-fno-run4    with n_parameters = 2028627\n",
      "Loaded  model sidd-hno-run5    with n_parameters = 1786579\n",
      "Loaded  model bsd-fno          with n_parameters = 2010449\n"
     ]
    },
    {
     "data": {
      "text/plain": [
       "ModelRegistry(['mri-fno-neuralop', 'mri-fno-custom', 'mri-fno-spectral2d', 'mri-hno', 'sidd-fno-run2', 'sidd-fno-run3', 'sidd-fno-run4', 'sidd-hno-run5', 'bsd-fno'])"
      ]
     },
     "execution_count": 10,
     "metadata": {},
     "output_type": "execute_result"
    }
   ],
   "source": [
    "model_registry = ModelRegistry()\n",
    "model_registry.load(model_load_configs, random_seed=env.random_seed, device='cpu', verbose=True)\n",
    "model_registry"
   ]
  },
  {
   "cell_type": "markdown",
   "id": "58e2e872-1be8-4e66-8c05-6099b9f8b935",
   "metadata": {},
   "source": [
    "# Инференс и подсчет метрик"
   ]
  },
  {
   "cell_type": "code",
   "execution_count": 11,
   "id": "779cb6e8-3838-4381-8a19-fd5a00f79743",
   "metadata": {},
   "outputs": [],
   "source": [
    "from torchmetrics.image import StructuralSimilarityIndexMeasure as SSIM\n",
    "\n",
    "from denoising import Metrics, make_metric_config"
   ]
  },
  {
   "cell_type": "code",
   "execution_count": 12,
   "id": "461c5190-90bd-4a75-8ecb-b69dff766ba5",
   "metadata": {},
   "outputs": [],
   "source": [
    "metrics = Metrics([make_metric_config('ssim', SSIM, {'data_range': 1.0})])"
   ]
  },
  {
   "cell_type": "code",
   "execution_count": 13,
   "id": "088ee1a0-0c6b-4b7b-916e-e5343be467fc",
   "metadata": {},
   "outputs": [
    {
     "name": "stdout",
     "output_type": "stream",
     "text": [
      "Available datasets: DatasetRegistry(['mri_pm_test', 'mri_gt_test', 'bsd_synth_0.01_test', 'sidd_test'])\n",
      "Available models:   ModelRegistry(['mri-fno-neuralop', 'mri-fno-custom', 'mri-fno-spectral2d', 'mri-hno', 'sidd-fno-run2', 'sidd-fno-run3', 'sidd-fno-run4', 'sidd-hno-run5', 'bsd-fno'])\n",
      "Metrics to compute: Metrics(['ssim'])\n"
     ]
    }
   ],
   "source": [
    "print(f'Available datasets: {dataset_registry}')\n",
    "print(f'Available models:   {model_registry}')\n",
    "print(f'Metrics to compute: {metrics}')"
   ]
  },
  {
   "cell_type": "code",
   "execution_count": 14,
   "id": "4e8a7401-d644-493b-b5a3-520cbc4e8664",
   "metadata": {},
   "outputs": [],
   "source": [
    "from denoising import Evaluator"
   ]
  },
  {
   "cell_type": "code",
   "execution_count": 15,
   "id": "27c2641c-047f-4d42-9a34-bce36ba3e988",
   "metadata": {},
   "outputs": [],
   "source": [
    "ev = Evaluator(model_registry, dataset_registry, metrics, device=env.device)"
   ]
  },
  {
   "cell_type": "code",
   "execution_count": 20,
   "id": "e35542f6-b765-4e36-8ef5-8e59b918d126",
   "metadata": {},
   "outputs": [
    {
     "name": "stdout",
     "output_type": "stream",
     "text": [
      "Computing predicts for ('mri-fno-neuralop', 'mri_gt_test') from model\n"
     ]
    },
    {
     "name": "stderr",
     "output_type": "stream",
     "text": [
      "100%|██████████████████████████████████████████████████████████████████████████████████████████████████████████████████████████████████████████████████████████████████| 17/17 [00:04<00:00,  3.65it/s]\n"
     ]
    },
    {
     "name": "stdout",
     "output_type": "stream",
     "text": [
      "Saved predicts for ('mri-fno-neuralop', 'mri_gt_test') to cache\n",
      "Computing predicts for ('mri-fno-custom', 'mri_gt_test') from model\n"
     ]
    },
    {
     "name": "stderr",
     "output_type": "stream",
     "text": [
      "100%|██████████████████████████████████████████████████████████████████████████████████████████████████████████████████████████████████████████████████████████████████| 17/17 [00:04<00:00,  3.75it/s]\n"
     ]
    },
    {
     "name": "stdout",
     "output_type": "stream",
     "text": [
      "Saved predicts for ('mri-fno-custom', 'mri_gt_test') to cache\n"
     ]
    },
    {
     "data": {
      "text/plain": [
       "{'mri-fno-neuralop_ssim': tensor(0.9333),\n",
       " 'mri-fno-custom_ssim': tensor(0.8398),\n",
       " 'mri_pm_test_ssim': tensor(0.9360)}"
      ]
     },
     "execution_count": 20,
     "metadata": {},
     "output_type": "execute_result"
    }
   ],
   "source": [
    "m_mri = ev.evaluate(\n",
    "    ['mri-fno-neuralop', 'mri-fno-custom', 'mri_pm_test'],\n",
    "    'mri_gt_test',\n",
    "    batch_size=128,\n",
    ")\n",
    "m_mri"
   ]
  },
  {
   "cell_type": "code",
   "execution_count": 23,
   "id": "ea0c1774-16ea-49b5-9cac-9316675b8e6f",
   "metadata": {},
   "outputs": [
    {
     "name": "stdout",
     "output_type": "stream",
     "text": [
      "Retrieving predicts for ('sidd-fno-run4', 'sidd_test') from cache\n"
     ]
    },
    {
     "data": {
      "text/plain": [
       "{'sidd-fno-run4_ssim': tensor(0.5579)}"
      ]
     },
     "execution_count": 23,
     "metadata": {},
     "output_type": "execute_result"
    }
   ],
   "source": [
    "m_sidd = ev.evaluate(\n",
    "    ['sidd-fno-run4'],\n",
    "    # ['sidd-fno-run4', 'sidd-hno-run5'],\n",
    "    'sidd_test',\n",
    "    batch_size=32,\n",
    ")\n",
    "m_sidd"
   ]
  },
  {
   "cell_type": "code",
   "execution_count": 27,
   "id": "66b96ddf-4761-4bd9-bdba-b17b24b2041b",
   "metadata": {},
   "outputs": [
    {
     "name": "stdout",
     "output_type": "stream",
     "text": [
      "Computing predicts for ('bsd-fno', 'bsd_synth_0.01_test') from model\n"
     ]
    },
    {
     "name": "stderr",
     "output_type": "stream",
     "text": [
      "100%|█████████████████████████████████████████████████████████████████████████████████████████████████████████████████████████████████████████████████████████████████████| 1/1 [00:01<00:00,  1.63s/it]\n"
     ]
    },
    {
     "name": "stdout",
     "output_type": "stream",
     "text": [
      "Saved predicts for ('bsd-fno', 'bsd_synth_0.01_test') to cache\n"
     ]
    },
    {
     "data": {
      "text/plain": [
       "{'bsd-fno_ssim': tensor(0.1189)}"
      ]
     },
     "execution_count": 27,
     "metadata": {},
     "output_type": "execute_result"
    }
   ],
   "source": [
    "m_bsd = ev.evaluate(['bsd-fno'], 'bsd_synth_0.01_test', batch_size=128)\n",
    "m_bsd"
   ]
  },
  {
   "cell_type": "code",
   "execution_count": null,
   "id": "2936bfb9-c1fa-4105-8c38-a8d246906717",
   "metadata": {},
   "outputs": [],
   "source": []
  },
  {
   "cell_type": "code",
   "execution_count": 22,
   "id": "e60f2fe8-c1e5-41d2-a8ba-0153c268a9e1",
   "metadata": {},
   "outputs": [
    {
     "data": {
      "text/plain": [
       "{'mri-fno-neuralop_ssim': tensor(0.9333),\n",
       " 'mri-fno-custom_ssim': tensor(0.8398),\n",
       " 'mri_pm_test_ssim': tensor(0.9360)}"
      ]
     },
     "execution_count": 22,
     "metadata": {},
     "output_type": "execute_result"
    }
   ],
   "source": [
    "m_mri"
   ]
  },
  {
   "cell_type": "code",
   "execution_count": 21,
   "id": "e7ef1789-b7d6-402d-9bd6-33ef3be6f8e8",
   "metadata": {},
   "outputs": [
    {
     "data": {
      "text/plain": [
       "{'sidd-fno-run2_ssim': tensor(0.8911),\n",
       " 'sidd-fno-run3_ssim': tensor(0.8871),\n",
       " 'sidd-fno-run4_ssim': tensor(0.9105)}"
      ]
     },
     "execution_count": 21,
     "metadata": {},
     "output_type": "execute_result"
    }
   ],
   "source": [
    "m_sidd"
   ]
  },
  {
   "cell_type": "code",
   "execution_count": 31,
   "id": "fd70f860-87f9-4ddb-94e0-70d8d1de650b",
   "metadata": {},
   "outputs": [
    {
     "data": {
      "text/plain": [
       "{'bsd-fno_ssim': tensor(0.1189)}"
      ]
     },
     "execution_count": 31,
     "metadata": {},
     "output_type": "execute_result"
    }
   ],
   "source": [
    "m_bsd"
   ]
  },
  {
   "cell_type": "code",
   "execution_count": null,
   "id": "cd7ecdd5-a012-459c-b805-0f000196e0e7",
   "metadata": {},
   "outputs": [],
   "source": []
  },
  {
   "cell_type": "code",
   "execution_count": 24,
   "id": "628318a2-e36f-49f9-8388-dc951e2ed878",
   "metadata": {},
   "outputs": [
    {
     "data": {
      "text/plain": [
       "FNO(\n",
       "  (positional_embedding): GridEmbeddingND()\n",
       "  (fno_blocks): FNOBlocks(\n",
       "    (convs): ModuleList(\n",
       "      (0-15): 16 x SpectralConv2D(\n",
       "        (weight): TuckerTensor(shape=(16, 16, 32, 17), rank=(13, 13, 26, 14))\n",
       "      )\n",
       "    )\n",
       "    (fno_skips): ModuleList(\n",
       "      (0-15): 16 x Flattened1dConv(\n",
       "        (conv): Conv1d(16, 16, kernel_size=(1,), stride=(1,), bias=False)\n",
       "      )\n",
       "    )\n",
       "    (channel_mlp): ModuleList(\n",
       "      (0-15): 16 x ChannelMLP(\n",
       "        (fcs): ModuleList(\n",
       "          (0): Conv1d(16, 8, kernel_size=(1,), stride=(1,))\n",
       "          (1): Conv1d(8, 16, kernel_size=(1,), stride=(1,))\n",
       "        )\n",
       "      )\n",
       "    )\n",
       "    (channel_mlp_skips): ModuleList(\n",
       "      (0-15): 16 x SoftGating()\n",
       "    )\n",
       "  )\n",
       "  (lifting): ChannelMLP(\n",
       "    (fcs): ModuleList(\n",
       "      (0): Conv1d(5, 128, kernel_size=(1,), stride=(1,))\n",
       "      (1): Conv1d(128, 16, kernel_size=(1,), stride=(1,))\n",
       "    )\n",
       "  )\n",
       "  (projection): ChannelMLP(\n",
       "    (fcs): ModuleList(\n",
       "      (0): Conv1d(16, 32, kernel_size=(1,), stride=(1,))\n",
       "      (1): Conv1d(32, 3, kernel_size=(1,), stride=(1,))\n",
       "    )\n",
       "  )\n",
       ")"
      ]
     },
     "execution_count": 24,
     "metadata": {},
     "output_type": "execute_result"
    }
   ],
   "source": [
    "model_registry['sidd-fno-run4']"
   ]
  },
  {
   "cell_type": "code",
   "execution_count": null,
   "id": "7f929139-8f75-4c2a-ba68-7b94c6bec205",
   "metadata": {},
   "outputs": [],
   "source": []
  },
  {
   "cell_type": "code",
   "execution_count": null,
   "id": "cad99390-1afe-4df0-9383-0c878b38e1e8",
   "metadata": {},
   "outputs": [],
   "source": []
  },
  {
   "cell_type": "code",
   "execution_count": null,
   "id": "27c42664-248a-4b7a-8e9a-07b6cea1288b",
   "metadata": {},
   "outputs": [],
   "source": []
  },
  {
   "cell_type": "code",
   "execution_count": null,
   "id": "44b2728e-59eb-4c8c-a5bd-172f6a5ae684",
   "metadata": {},
   "outputs": [],
   "source": []
  },
  {
   "cell_type": "code",
   "execution_count": null,
   "id": "61171116-cdc2-4617-af22-e7700518357a",
   "metadata": {},
   "outputs": [],
   "source": []
  },
  {
   "cell_type": "code",
   "execution_count": null,
   "id": "31ac5a47-45c0-42e1-8475-e70ee8e00b66",
   "metadata": {},
   "outputs": [],
   "source": []
  },
  {
   "cell_type": "code",
   "execution_count": null,
   "id": "e9354544-4170-451d-84df-753f9da436d4",
   "metadata": {},
   "outputs": [],
   "source": []
  },
  {
   "cell_type": "code",
   "execution_count": null,
   "id": "b8cc6abf-33f4-4f3c-bac6-885933c0b708",
   "metadata": {},
   "outputs": [],
   "source": []
  }
 ],
 "metadata": {
  "kernelspec": {
   "display_name": "Python 3 (ipykernel)",
   "language": "python",
   "name": "python3"
  },
  "language_info": {
   "codemirror_mode": {
    "name": "ipython",
    "version": 3
   },
   "file_extension": ".py",
   "mimetype": "text/x-python",
   "name": "python",
   "nbconvert_exporter": "python",
   "pygments_lexer": "ipython3",
   "version": "3.10.16"
  }
 },
 "nbformat": 4,
 "nbformat_minor": 5
}
