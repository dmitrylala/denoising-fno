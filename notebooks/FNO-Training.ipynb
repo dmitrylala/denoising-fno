{
 "cells": [
  {
   "cell_type": "code",
   "execution_count": 1,
   "id": "b9e79dad-2e4f-41ad-93db-b5f1753f4a13",
   "metadata": {},
   "outputs": [],
   "source": [
    "%load_ext autoreload\n",
    "%autoreload 2"
   ]
  },
  {
   "cell_type": "code",
   "execution_count": 2,
   "id": "647d0ede-50b7-40c3-a82d-ae8820fbd332",
   "metadata": {},
   "outputs": [],
   "source": [
    "from pathlib import Path\n",
    "\n",
    "import torch\n",
    "import wandb\n",
    "\n",
    "from denoising import Environment, prepare_training\n",
    "from denoising.configs import TrainConfig\n",
    "from denoising.utils import seed_everything"
   ]
  },
  {
   "cell_type": "code",
   "execution_count": 3,
   "id": "97b1935f-8883-4494-98f2-314a7e8127d3",
   "metadata": {},
   "outputs": [],
   "source": [
    "CWD = Path.cwd()"
   ]
  },
  {
   "cell_type": "code",
   "execution_count": 4,
   "id": "8f4ac2b8-a81d-425b-b851-e5b6e7c118e3",
   "metadata": {},
   "outputs": [],
   "source": [
    "env = Environment(_env_file=CWD / '../env')"
   ]
  },
  {
   "cell_type": "code",
   "execution_count": 5,
   "id": "542a3668-a438-4e54-a9b6-e03ebf08b5ae",
   "metadata": {},
   "outputs": [
    {
     "name": "stderr",
     "output_type": "stream",
     "text": [
      "\u001b[34m\u001b[1mwandb\u001b[0m: Using wandb-core as the SDK backend.  Please refer to https://wandb.me/wandb-core for more information.\n",
      "\u001b[34m\u001b[1mwandb\u001b[0m: \u001b[33mWARNING\u001b[0m If you're specifying your api key in code, ensure this code is not shared publicly.\n",
      "\u001b[34m\u001b[1mwandb\u001b[0m: \u001b[33mWARNING\u001b[0m Consider setting the WANDB_API_KEY environment variable, or running `wandb login` from the command line.\n",
      "\u001b[34m\u001b[1mwandb\u001b[0m: Appending key for api.wandb.ai to your netrc file: /home/d.nesterov/.netrc\n",
      "\u001b[34m\u001b[1mwandb\u001b[0m: Currently logged in as: \u001b[33mdmitrylala\u001b[0m to \u001b[32mhttps://api.wandb.ai\u001b[0m. Use \u001b[1m`wandb login --relogin`\u001b[0m to force relogin\n"
     ]
    },
    {
     "data": {
      "text/plain": [
       "True"
      ]
     },
     "execution_count": 5,
     "metadata": {},
     "output_type": "execute_result"
    }
   ],
   "source": [
    "wandb.login(key=env.wandb_api_key)"
   ]
  },
  {
   "cell_type": "markdown",
   "id": "7d99881a-a80e-4612-ae43-e5d6e8af5f15",
   "metadata": {},
   "source": [
    "# Конфиг обучения и подготовка"
   ]
  },
  {
   "cell_type": "code",
   "execution_count": 6,
   "id": "cb0d707b-973d-49d8-9355-194f77abd650",
   "metadata": {},
   "outputs": [],
   "source": [
    "run_idx = 17\n",
    "save_dir = CWD / 'mri'\n",
    "\n",
    "cfg = TrainConfig(\n",
    "    # Datasets params\n",
    "    train_dset='mri_pm_train',\n",
    "    test_dset='mri_pm_test',\n",
    "    train_batch_size=128,\n",
    "    test_batch_size=256,\n",
    "\n",
    "    # Model params\n",
    "    name_model='mri-hno-v2-retrain',\n",
    "    cfg_fno={\n",
    "        'n_modes': (32, 32),\n",
    "        'in_channels': 1,\n",
    "        'hidden_channels': 32,\n",
    "        'lifting_channel_ratio': 8,\n",
    "        'projection_channel_ratio': 2,\n",
    "        'out_channels': 1,\n",
    "        'factorization': 'dense',\n",
    "        'n_layers': 4,\n",
    "        'rank': 0.42,\n",
    "        'spectral': 'hartley',\n",
    "    },\n",
    "\n",
    "    # Run params\n",
    "    random_seed=42,\n",
    "    device='cuda:2',\n",
    "    run_name=f'Run {run_idx}, HNO v2 (retrain)',\n",
    "    save_weights_path=save_dir / f'run-{run_idx}-weights.pt',\n",
    "\n",
    "    # Train params\n",
    "    n_epochs=50,\n",
    "    lr=1e-3,\n",
    "    wandb_log=False,\n",
    "    save_dir=save_dir / f'run-{run_idx}',\n",
    "    verbose=True,\n",
    ")"
   ]
  },
  {
   "cell_type": "code",
   "execution_count": 7,
   "id": "b46d2e49-93f6-49f7-9b99-d83c578f8b8b",
   "metadata": {},
   "outputs": [
    {
     "name": "stdout",
     "output_type": "stream",
     "text": [
      "Got n_samples = 8380  in dataset mri_pm_train        with sample size = torch.Size([1, 145, 145])\n",
      "Got n_samples = 2093  in dataset mri_pm_test         with sample size = torch.Size([1, 145, 145])\n",
      "Got n_samples = 2093  in dataset mri_gt_test         with sample size = torch.Size([1, 145, 145])\n",
      "Got n_samples = 137   in dataset bsd_synth_0.01_train with sample size = torch.Size([1, 321, 481])\n",
      "Got n_samples = 77    in dataset bsd_synth_0.01_test with sample size = torch.Size([1, 321, 481])\n",
      "Got n_samples = 12296 in dataset sidd_train          with sample size = torch.Size([3, 512, 512])\n",
      "Got n_samples = 3008  in dataset sidd_test           with sample size = torch.Size([3, 512, 512])\n",
      "torch.Size([128, 1, 145, 145]) torch.Size([128, 1, 145, 145])\n",
      "Loaded  model mri-fno-neuralop with n_parameters = 2010449\n",
      "Loaded  model mri-fno-custom   with n_parameters = 2010449\n",
      "Loaded  model mri-fno-dense    with n_parameters = 4476513\n",
      "Loaded  model mri-hno-separable with n_parameters = 2248289\n",
      "Loaded  model mri-hno-v2       with n_parameters = 2248289\n",
      "Loaded  model sidd-fno-run2    with n_parameters = 2011091\n",
      "Loaded  model sidd-fno-run3    with n_parameters = 2011091\n",
      "Loaded  model sidd-fno-run4    with n_parameters = 2028627\n",
      "Loaded  model bsd-fno          with n_parameters = 2010449\n",
      "Created model mri-hno-v2-retrain with n_parameters = 2248289\n",
      "Logging to wandb enabled: False\n"
     ]
    }
   ],
   "source": [
    "trainer, train_kwargs, run = prepare_training(env, cfg)"
   ]
  },
  {
   "cell_type": "markdown",
   "id": "02f40e6b-94c7-4047-851e-cbed41b49dfc",
   "metadata": {},
   "source": [
    "# Запуск"
   ]
  },
  {
   "cell_type": "code",
   "execution_count": 19,
   "id": "e24299d8-3114-4643-94a0-097b9c7a73ef",
   "metadata": {
    "scrolled": true
   },
   "outputs": [],
   "source": [
    "seed_everything(cfg.random_seed)\n",
    "trainer.train(**train_kwargs)"
   ]
  },
  {
   "cell_type": "code",
   "execution_count": 16,
   "id": "0fdd48a9-1cc2-46c3-84fc-3883ef341541",
   "metadata": {},
   "outputs": [],
   "source": [
    "if run is not None:\n",
    "    run.finish()"
   ]
  },
  {
   "cell_type": "code",
   "execution_count": 20,
   "id": "4c76b507-096f-4ff2-bd71-8f78e5fae664",
   "metadata": {},
   "outputs": [],
   "source": [
    "torch.save(trainer.model.to('cpu').state_dict(), cfg.save_weights_path)"
   ]
  },
  {
   "cell_type": "code",
   "execution_count": null,
   "id": "7aea9de7-2afb-443a-b11f-1fe8bc45c39c",
   "metadata": {},
   "outputs": [],
   "source": []
  },
  {
   "cell_type": "code",
   "execution_count": null,
   "id": "c8a59942-6280-4363-aa43-37d16bb68733",
   "metadata": {},
   "outputs": [],
   "source": []
  },
  {
   "cell_type": "code",
   "execution_count": null,
   "id": "3ec58339-6630-4312-9a37-741feb134944",
   "metadata": {},
   "outputs": [],
   "source": []
  },
  {
   "cell_type": "code",
   "execution_count": null,
   "id": "e1d8a1f7-1c0f-4fff-82df-a037bfa97fb1",
   "metadata": {},
   "outputs": [],
   "source": []
  },
  {
   "cell_type": "code",
   "execution_count": null,
   "id": "b91011db-3644-4784-b3d1-d50bd6f8c388",
   "metadata": {},
   "outputs": [],
   "source": []
  },
  {
   "cell_type": "code",
   "execution_count": null,
   "id": "95be1981-7d88-496a-9e09-cf0c3396cba2",
   "metadata": {},
   "outputs": [],
   "source": []
  },
  {
   "cell_type": "code",
   "execution_count": null,
   "id": "c2870465-7ef7-4a14-a268-eb6696fd1d0c",
   "metadata": {},
   "outputs": [],
   "source": []
  }
 ],
 "metadata": {
  "kernelspec": {
   "display_name": "Python 3 (ipykernel)",
   "language": "python",
   "name": "python3"
  },
  "language_info": {
   "codemirror_mode": {
    "name": "ipython",
    "version": 3
   },
   "file_extension": ".py",
   "mimetype": "text/x-python",
   "name": "python",
   "nbconvert_exporter": "python",
   "pygments_lexer": "ipython3",
   "version": "3.10.16"
  }
 },
 "nbformat": 4,
 "nbformat_minor": 5
}
