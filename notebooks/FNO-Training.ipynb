{
 "cells": [
  {
   "cell_type": "code",
   "execution_count": 1,
   "id": "254a8883-cea3-4755-a2dc-a7fdd80e7398",
   "metadata": {},
   "outputs": [],
   "source": [
    "%load_ext autoreload\n",
    "%autoreload 2"
   ]
  },
  {
   "cell_type": "code",
   "execution_count": 2,
   "id": "43764263-e45a-4f13-9b44-21ac846514da",
   "metadata": {},
   "outputs": [],
   "source": [
    "import neuralop\n",
    "import torch\n",
    "import wandb\n",
    "\n",
    "from denoising import (\n",
    "    Environment,\n",
    "    make_model_config,\n",
    "    DatasetRegistry,\n",
    "    ModelRegistry,\n",
    ")\n",
    "from config import (\n",
    "    get_model_configs,\n",
    "    get_datasets_configs,\n",
    ")"
   ]
  },
  {
   "cell_type": "code",
   "execution_count": 3,
   "id": "e756dfd5-af13-401c-b0cc-765e98bf1776",
   "metadata": {},
   "outputs": [
    {
     "name": "stdout",
     "output_type": "stream",
     "text": [
      "torch 2.6.0+cu124\n",
      "neuralop 1.0.2\n"
     ]
    }
   ],
   "source": [
    "print('torch ' + torch.__version__)\n",
    "print('neuralop ' + neuralop.__version__)"
   ]
  },
  {
   "cell_type": "code",
   "execution_count": 4,
   "id": "8c7055a4-cbf7-4a40-a14d-9d0774853c67",
   "metadata": {},
   "outputs": [],
   "source": [
    "# загружаем переменные окружения\n",
    "env = Environment(_env_file='../env')"
   ]
  },
  {
   "cell_type": "code",
   "execution_count": 5,
   "id": "9d4a7fa7-3009-4eb2-98c3-dacddd017de7",
   "metadata": {},
   "outputs": [
    {
     "name": "stderr",
     "output_type": "stream",
     "text": [
      "\u001b[34m\u001b[1mwandb\u001b[0m: Using wandb-core as the SDK backend.  Please refer to https://wandb.me/wandb-core for more information.\n",
      "\u001b[34m\u001b[1mwandb\u001b[0m: \u001b[33mWARNING\u001b[0m If you're specifying your api key in code, ensure this code is not shared publicly.\n",
      "\u001b[34m\u001b[1mwandb\u001b[0m: \u001b[33mWARNING\u001b[0m Consider setting the WANDB_API_KEY environment variable, or running `wandb login` from the command line.\n",
      "\u001b[34m\u001b[1mwandb\u001b[0m: Appending key for api.wandb.ai to your netrc file: /home/d.nesterov/.netrc\n",
      "\u001b[34m\u001b[1mwandb\u001b[0m: Currently logged in as: \u001b[33mdmitrylala\u001b[0m to \u001b[32mhttps://api.wandb.ai\u001b[0m. Use \u001b[1m`wandb login --relogin`\u001b[0m to force relogin\n"
     ]
    },
    {
     "data": {
      "text/plain": [
       "True"
      ]
     },
     "execution_count": 5,
     "metadata": {},
     "output_type": "execute_result"
    }
   ],
   "source": [
    "wandb.login(key=env.wandb_api_key)"
   ]
  },
  {
   "cell_type": "markdown",
   "id": "1512c32f-9664-40a2-9212-ebb67ec0f4d9",
   "metadata": {},
   "source": [
    "# Инициализация данных"
   ]
  },
  {
   "cell_type": "code",
   "execution_count": 6,
   "id": "45376b06-77b1-4b79-936a-649a5eecccb2",
   "metadata": {
    "jupyter": {
     "source_hidden": true
    }
   },
   "outputs": [],
   "source": [
    "import matplotlib.pyplot as plt\n",
    "\n",
    "\n",
    "def show_sample(item: dict[str, torch.Tensor]) -> None:\n",
    "    def prep(v):\n",
    "        return v.detach().cpu().permute(1, 2, 0)\n",
    "\n",
    "    x, y = prep(item['x']), prep(item['y'])\n",
    "\n",
    "    fig = plt.figure(figsize=(7, 7))\n",
    "    ax = fig.add_subplot(1, 2, 1)\n",
    "    ax.imshow(x)\n",
    "    ax.set_title('input x')\n",
    "    ax = fig.add_subplot(1, 2, 2)\n",
    "    ax.imshow(y)\n",
    "    ax.set_title('input y')\n",
    "    fig.show()"
   ]
  },
  {
   "cell_type": "code",
   "execution_count": 7,
   "id": "56928608-f6ba-4f1f-8162-0c52a082a08a",
   "metadata": {},
   "outputs": [
    {
     "name": "stdout",
     "output_type": "stream",
     "text": [
      "Got n_samples = 8380  in dataset mri_pm_train        with sample size = torch.Size([1, 145, 145])\n",
      "Got n_samples = 2093  in dataset mri_pm_test         with sample size = torch.Size([1, 145, 145])\n",
      "Got n_samples = 2093  in dataset mri_gt_test         with sample size = torch.Size([1, 145, 145])\n",
      "Got n_samples = 137   in dataset bsd_synth_0.01_train with sample size = torch.Size([1, 321, 481])\n",
      "Got n_samples = 77    in dataset bsd_synth_0.01_test with sample size = torch.Size([1, 321, 481])\n",
      "Got n_samples = 12296 in dataset sidd_train          with sample size = torch.Size([3, 512, 512])\n",
      "Got n_samples = 3008  in dataset sidd_test           with sample size = torch.Size([3, 512, 512])\n"
     ]
    },
    {
     "data": {
      "text/plain": [
       "DatasetRegistry(['mri_pm_train', 'mri_pm_test', 'mri_gt_test', 'bsd_synth_0.01_train', 'bsd_synth_0.01_test', 'sidd_train', 'sidd_test'])"
      ]
     },
     "execution_count": 7,
     "metadata": {},
     "output_type": "execute_result"
    }
   ],
   "source": [
    "dataset_registry = DatasetRegistry()\n",
    "dataset_registry.load(get_datasets_configs(env.data), verbose=True)\n",
    "dataset_registry"
   ]
  },
  {
   "cell_type": "code",
   "execution_count": 8,
   "id": "e168f994-2033-4594-9281-475e8b5bf472",
   "metadata": {},
   "outputs": [],
   "source": [
    "# MRI\n",
    "train_loader = dataset_registry.make_dl('mri_pm_train', batch_size=128, shuffle=True)\n",
    "test_loader = dataset_registry.make_dl('mri_pm_test', batch_size=256)\n",
    "\n",
    "# BSD\n",
    "# train_loader = dataset_registry.make_dl('bsd_synth_0.01_train', batch_size=32, shuffle=True)\n",
    "# test_loader = dataset_registry.make_dl('bsd_synth_0.01_test', batch_size=64)\n",
    "\n",
    "# SIDD patches\n",
    "# train_loader = dataset_registry.make_dl('sidd_train', batch_size=16, shuffle=True)\n",
    "# test_loader = dataset_registry.make_dl('sidd_test', batch_size=64)"
   ]
  },
  {
   "cell_type": "code",
   "execution_count": 9,
   "id": "62f3e560-adb1-40d1-8954-d5011c478ad0",
   "metadata": {},
   "outputs": [
    {
     "name": "stdout",
     "output_type": "stream",
     "text": [
      "torch.Size([128, 1, 145, 145]) torch.Size([128, 1, 145, 145])\n"
     ]
    }
   ],
   "source": [
    "for batch in train_loader:\n",
    "    print(batch.x.size(), batch.y.size())\n",
    "    break"
   ]
  },
  {
   "cell_type": "code",
   "execution_count": 12,
   "id": "0b94a116-b409-48b2-97f4-b14b58fad950",
   "metadata": {},
   "outputs": [],
   "source": [
    "# Uncomment to show sample\n",
    "\n",
    "# idx = 10\n",
    "# sample = train_loader.dataset[idx]\n",
    "\n",
    "# x, y = sample['x'], sample['y']\n",
    "# print(f'Training sample {idx} has shape: {x.size()}')\n",
    "\n",
    "# show_sample(sample)"
   ]
  },
  {
   "cell_type": "markdown",
   "id": "b21ec465-576a-4142-abbb-c55831e6bde0",
   "metadata": {},
   "source": [
    "# Инициализация FNO"
   ]
  },
  {
   "cell_type": "code",
   "execution_count": 13,
   "id": "dac1b46c-f168-48a9-85fe-655c1b0e4099",
   "metadata": {
    "jupyter": {
     "source_hidden": true
    }
   },
   "outputs": [],
   "source": [
    "# Параметры запусков\n",
    "\n",
    "\n",
    "# run 6, params from paper (best on MRI)\n",
    "# fno_cfg = {\n",
    "#     'n_modes': (32, 32),\n",
    "#     'in_channels': 1,\n",
    "#     'hidden_channels': 32,\n",
    "#     'lifting_channel_ratio': 8,\n",
    "#     'projection_channel_ratio': 2,\n",
    "#     'out_channels': 1,\n",
    "#     'factorization': 'tucker',\n",
    "#     'n_layers': 4,\n",
    "#     'rank': 0.42,\n",
    "# }\n",
    "# optimizer = torch.optim.Adam(train_model.parameters(), lr=1e-3, weight_decay=1e-4)\n",
    "# scheduler = torch.optim.lr_scheduler.CosineAnnealingLR(optimizer, T_max=30)\n",
    "\n",
    "# для BSD меньше lr\n",
    "# optimizer = torch.optim.Adam(train_model.parameters(), lr=1e-4, weight_decay=1e-5)\n",
    "\n",
    "\n",
    "# run 5\n",
    "# fno_cfg = {\n",
    "#     'n_modes': (16, 16),\n",
    "#     'in_channels': 1,\n",
    "#     'hidden_channels': 16,\n",
    "#     'projection_channel_ratio': 2,\n",
    "#     'out_channels': 1,\n",
    "#     'factorization': 'tucker',\n",
    "#     'n_layers': 32,\n",
    "#     'rank': 0.42,\n",
    "#     'positional_embedding': GridEmbedding2D(in_channels=1, grid_boundaries=[[0, 1], [0, 1.5]]),\n",
    "# }"
   ]
  },
  {
   "cell_type": "code",
   "execution_count": 14,
   "id": "269dc2b8-6afd-4685-a2c0-4a76b081ebf3",
   "metadata": {},
   "outputs": [
    {
     "name": "stdout",
     "output_type": "stream",
     "text": [
      "Loaded  model mri-fno-neuralop with n_parameters = 2010449\n",
      "Loaded  model mri-fno-custom   with n_parameters = 2010449\n",
      "Loaded  model mri-fno-dense    with n_parameters = 4476513\n",
      "Loaded  model mri-hno-separable with n_parameters = 2248289\n",
      "Loaded  model sidd-fno-run2    with n_parameters = 2011091\n",
      "Loaded  model sidd-fno-run3    with n_parameters = 2011091\n",
      "Loaded  model sidd-fno-run4    with n_parameters = 2028627\n",
      "Loaded  model bsd-fno          with n_parameters = 2010449\n"
     ]
    },
    {
     "data": {
      "text/plain": [
       "ModelRegistry(['mri-fno-neuralop', 'mri-fno-custom', 'mri-fno-dense', 'mri-hno-separable', 'sidd-fno-run2', 'sidd-fno-run3', 'sidd-fno-run4', 'bsd-fno'])"
      ]
     },
     "execution_count": 14,
     "metadata": {},
     "output_type": "execute_result"
    }
   ],
   "source": [
    "model_registry = ModelRegistry()\n",
    "model_registry.load(\n",
    "    get_model_configs(env.weights), random_seed=env.random_seed, device='cpu', verbose=True\n",
    ")\n",
    "model_registry"
   ]
  },
  {
   "cell_type": "code",
   "execution_count": 17,
   "id": "6f158d24-1690-4855-b5c5-a7a974ec837a",
   "metadata": {},
   "outputs": [
    {
     "name": "stdout",
     "output_type": "stream",
     "text": [
      "Created model mri-hno-v2       with n_parameters = 2248289\n",
      "Using device=cuda:2\n"
     ]
    }
   ],
   "source": [
    "new_cfg = {\n",
    "    'n_modes': (32, 32),\n",
    "    'in_channels': 1,\n",
    "    'hidden_channels': 32,\n",
    "    'lifting_channel_ratio': 8,\n",
    "    'projection_channel_ratio': 2,\n",
    "    'out_channels': 1,\n",
    "    'factorization': 'dense',\n",
    "    'n_layers': 4,\n",
    "    'rank': 0.42,\n",
    "    'spectral': 'hartley',\n",
    "}\n",
    "model_name = 'mri-hno-v2'\n",
    "\n",
    "new_fno_cfg = {\n",
    "    model_name: make_model_config(new_cfg, None, 'FNO'),\n",
    "}\n",
    "\n",
    "model_registry.load(new_fno_cfg, random_seed=env.random_seed, device=env.device, verbose=True)\n",
    "model = model_registry[model_name]\n",
    "print(f'Using device={env.device}')"
   ]
  },
  {
   "cell_type": "markdown",
   "id": "6e2ca7ea-3cb2-43dd-80bc-17319cee9424",
   "metadata": {},
   "source": [
    "# Обучение"
   ]
  },
  {
   "cell_type": "code",
   "execution_count": 18,
   "id": "7e2b6f2b-9f43-4ae7-90f4-2adb72384fd7",
   "metadata": {},
   "outputs": [],
   "source": [
    "from dataclasses import dataclass, field\n",
    "from pathlib import Path\n",
    "\n",
    "from neuralop import H1Loss, LpLoss, Trainer\n",
    "from torch import nn\n",
    "from torch.utils.data import DataLoader\n",
    "\n",
    "\n",
    "@dataclass\n",
    "class TrainConfig:\n",
    "    train_loader: DataLoader\n",
    "    test_loader: DataLoader\n",
    "    model: nn.Module\n",
    "    lr: float\n",
    "    n_epochs: int\n",
    "    device: str | torch.device\n",
    "\n",
    "    run_name: str\n",
    "    save_dir_run: Path\n",
    "    save_weights_path: Path\n",
    "    tags: list[str] = field(default_factory=list)\n",
    "\n",
    "\n",
    "def make_run(cfg: TrainConfig):\n",
    "    wandb_init_args = dict(\n",
    "        project='Denoising MRI',\n",
    "        name=cfg.run_name,\n",
    "        group='FNO 2025',\n",
    "        entity='Dmitrylala',\n",
    "        tags=cfg.tags,\n",
    "    )\n",
    "\n",
    "    return wandb.init(**wandb_init_args)\n",
    "\n",
    "\n",
    "def prepare_training(cfg: TrainConfig) -> tuple:\n",
    "    trainer_cfg = {\n",
    "        'model': cfg.model,\n",
    "        'n_epochs': cfg.n_epochs,\n",
    "        'device': cfg.device,\n",
    "        'wandb_log': True,\n",
    "        'eval_interval': 1,\n",
    "        'log_output': True,\n",
    "        'verbose': True,\n",
    "    }\n",
    "\n",
    "    trainer = Trainer(**trainer_cfg)\n",
    "    print(f'Logging to wandb enabled: {trainer.wandb_log}')\n",
    "\n",
    "    optimizer = torch.optim.Adam(cfg.model.parameters(), lr=cfg.lr, weight_decay=cfg.lr / 10.0)\n",
    "    scheduler = torch.optim.lr_scheduler.CosineAnnealingLR(optimizer, T_max=30)\n",
    "\n",
    "    l2loss = LpLoss(d=2, p=2)\n",
    "    h1loss = H1Loss(d=2)\n",
    "\n",
    "    trainer_cfg = {\n",
    "        'train_loader': cfg.train_loader,\n",
    "        'test_loaders': {'test': cfg.test_loader},\n",
    "        'optimizer': optimizer,\n",
    "        'scheduler': None,\n",
    "        'scheduler': scheduler,\n",
    "        'save_every': 1,\n",
    "        'save_dir': cfg.save_dir_run,\n",
    "        'training_loss': h1loss,\n",
    "        'eval_losses': {'h1': h1loss, 'l2': l2loss},\n",
    "    }\n",
    "\n",
    "    return trainer, trainer_cfg"
   ]
  },
  {
   "cell_type": "code",
   "execution_count": 19,
   "id": "53d233de-0639-4832-adfe-48712c43135b",
   "metadata": {},
   "outputs": [],
   "source": [
    "run_idx = 15\n",
    "save_dir = Path('mri')\n",
    "\n",
    "run_name = f'Run {run_idx}, HNO v2'\n",
    "save_dir_run = save_dir / f'run-{run_idx}'\n",
    "save_weights_path = save_dir / f'run-{run_idx}-weights.pt'\n",
    "\n",
    "train_cfg = TrainConfig(\n",
    "    train_loader=train_loader,\n",
    "    test_loader=train_loader,\n",
    "    model=model,\n",
    "    lr=1e-3,\n",
    "    n_epochs=50,\n",
    "    device=env.device,\n",
    "    run_name=run_name,\n",
    "    save_dir_run=save_dir_run,\n",
    "    save_weights_path=save_weights_path,\n",
    "    tags=['MRI', 'no augs'],\n",
    ")"
   ]
  },
  {
   "cell_type": "code",
   "execution_count": 20,
   "id": "71a3423e-e95b-42c5-9ded-93e01eef8ee1",
   "metadata": {},
   "outputs": [
    {
     "data": {
      "text/html": [
       "Tracking run with wandb version 0.19.9"
      ],
      "text/plain": [
       "<IPython.core.display.HTML object>"
      ]
     },
     "metadata": {},
     "output_type": "display_data"
    },
    {
     "data": {
      "text/html": [
       "Run data is saved locally in <code>/home/d.nesterov/denoising-fno/notebooks/wandb/run-20250415_122435-8q1g772l</code>"
      ],
      "text/plain": [
       "<IPython.core.display.HTML object>"
      ]
     },
     "metadata": {},
     "output_type": "display_data"
    },
    {
     "data": {
      "text/html": [
       "Syncing run <strong><a href='https://wandb.ai/dmitrylala/Denoising%20MRI/runs/8q1g772l' target=\"_blank\">Run 15, HNO v2</a></strong> to <a href='https://wandb.ai/dmitrylala/Denoising%20MRI' target=\"_blank\">Weights & Biases</a> (<a href='https://wandb.me/developer-guide' target=\"_blank\">docs</a>)<br>"
      ],
      "text/plain": [
       "<IPython.core.display.HTML object>"
      ]
     },
     "metadata": {},
     "output_type": "display_data"
    },
    {
     "data": {
      "text/html": [
       " View project at <a href='https://wandb.ai/dmitrylala/Denoising%20MRI' target=\"_blank\">https://wandb.ai/dmitrylala/Denoising%20MRI</a>"
      ],
      "text/plain": [
       "<IPython.core.display.HTML object>"
      ]
     },
     "metadata": {},
     "output_type": "display_data"
    },
    {
     "data": {
      "text/html": [
       " View run at <a href='https://wandb.ai/dmitrylala/Denoising%20MRI/runs/8q1g772l' target=\"_blank\">https://wandb.ai/dmitrylala/Denoising%20MRI/runs/8q1g772l</a>"
      ],
      "text/plain": [
       "<IPython.core.display.HTML object>"
      ]
     },
     "metadata": {},
     "output_type": "display_data"
    }
   ],
   "source": [
    "run = make_run(train_cfg)"
   ]
  },
  {
   "cell_type": "code",
   "execution_count": 21,
   "id": "ad8a06c3-8f1f-4fc9-ad77-f9d4d069609f",
   "metadata": {},
   "outputs": [
    {
     "name": "stdout",
     "output_type": "stream",
     "text": [
      "Logging to wandb enabled: True\n"
     ]
    }
   ],
   "source": [
    "trainer, trainer_cfg = prepare_training(train_cfg)"
   ]
  },
  {
   "cell_type": "code",
   "execution_count": 22,
   "id": "9ee0faeb-cc61-4757-8a8b-37baa01568e8",
   "metadata": {
    "scrolled": true
   },
   "outputs": [
    {
     "name": "stdout",
     "output_type": "stream",
     "text": [
      "Training on 8380 samples\n",
      "Testing on [8380] samples         on resolutions ['test'].\n"
     ]
    },
    {
     "name": "stderr",
     "output_type": "stream",
     "text": [
      "/home/d.nesterov/denoising-fno/denoising/models/dht.py:45: UserWarning: Casting complex values to real discards the imaginary part (Triggered internally at /pytorch/aten/src/ATen/native/Copy.cpp:308.)\n",
      "  fft = torch.fft.fft2(x.float(), norm=norm, dim=dim, s=s)\n"
     ]
    },
    {
     "name": "stdout",
     "output_type": "stream",
     "text": [
      "Raw outputs of shape torch.Size([128, 1, 145, 145])\n",
      "[0] time=35.38, avg_loss=0.3235, train_err=41.0765\n",
      "Eval: test_h1=0.1206, test_l2=0.0958\n",
      "[Rank 0]: saved training state to mri/run-15\n",
      "[1] time=33.39, avg_loss=0.1193, train_err=15.1442\n",
      "Eval: test_h1=0.1186, test_l2=0.0599\n",
      "[Rank 0]: saved training state to mri/run-15\n",
      "[2] time=33.39, avg_loss=0.1181, train_err=14.9995\n",
      "Eval: test_h1=0.1175, test_l2=0.0560\n",
      "[Rank 0]: saved training state to mri/run-15\n",
      "[3] time=33.55, avg_loss=0.1167, train_err=14.8177\n",
      "Eval: test_h1=0.1156, test_l2=0.0674\n",
      "[Rank 0]: saved training state to mri/run-15\n",
      "[4] time=33.73, avg_loss=0.1139, train_err=14.4577\n",
      "Eval: test_h1=0.1122, test_l2=0.0617\n",
      "[Rank 0]: saved training state to mri/run-15\n",
      "[5] time=33.70, avg_loss=0.1103, train_err=14.0027\n",
      "Eval: test_h1=0.1082, test_l2=0.0782\n",
      "[Rank 0]: saved training state to mri/run-15\n",
      "[6] time=33.59, avg_loss=0.1081, train_err=13.7192\n",
      "Eval: test_h1=0.1085, test_l2=0.0436\n",
      "[Rank 0]: saved training state to mri/run-15\n",
      "[7] time=33.69, avg_loss=0.1079, train_err=13.6978\n",
      "Eval: test_h1=0.1076, test_l2=0.0481\n",
      "[Rank 0]: saved training state to mri/run-15\n",
      "[8] time=33.71, avg_loss=0.1077, train_err=13.6761\n",
      "Eval: test_h1=0.1076, test_l2=0.0465\n",
      "[Rank 0]: saved training state to mri/run-15\n",
      "[9] time=33.79, avg_loss=0.1078, train_err=13.6816\n",
      "Eval: test_h1=0.1077, test_l2=0.0529\n",
      "[Rank 0]: saved training state to mri/run-15\n",
      "[10] time=33.53, avg_loss=0.1076, train_err=13.6576\n",
      "Eval: test_h1=0.1074, test_l2=0.0488\n",
      "[Rank 0]: saved training state to mri/run-15\n",
      "[11] time=33.58, avg_loss=0.1073, train_err=13.6272\n",
      "Eval: test_h1=0.1078, test_l2=0.0537\n",
      "[Rank 0]: saved training state to mri/run-15\n",
      "[12] time=33.51, avg_loss=0.1075, train_err=13.6438\n",
      "Eval: test_h1=0.1072, test_l2=0.0479\n",
      "[Rank 0]: saved training state to mri/run-15\n",
      "[13] time=33.32, avg_loss=0.1073, train_err=13.6184\n",
      "Eval: test_h1=0.1072, test_l2=0.0507\n",
      "[Rank 0]: saved training state to mri/run-15\n",
      "[14] time=33.02, avg_loss=0.1073, train_err=13.6203\n",
      "Eval: test_h1=0.1071, test_l2=0.0480\n",
      "[Rank 0]: saved training state to mri/run-15\n",
      "[15] time=32.97, avg_loss=0.1072, train_err=13.6110\n",
      "Eval: test_h1=0.1071, test_l2=0.0489\n",
      "[Rank 0]: saved training state to mri/run-15\n",
      "[16] time=33.47, avg_loss=0.1071, train_err=13.6027\n",
      "Eval: test_h1=0.1072, test_l2=0.0510\n",
      "[Rank 0]: saved training state to mri/run-15\n",
      "[17] time=33.33, avg_loss=0.1072, train_err=13.6063\n",
      "Eval: test_h1=0.1074, test_l2=0.0445\n",
      "[Rank 0]: saved training state to mri/run-15\n",
      "[18] time=33.46, avg_loss=0.1071, train_err=13.6012\n",
      "Eval: test_h1=0.1076, test_l2=0.0434\n",
      "[Rank 0]: saved training state to mri/run-15\n",
      "[19] time=33.46, avg_loss=0.1071, train_err=13.6026\n",
      "Eval: test_h1=0.1074, test_l2=0.0533\n",
      "[Rank 0]: saved training state to mri/run-15\n",
      "[20] time=33.44, avg_loss=0.1071, train_err=13.5952\n",
      "Eval: test_h1=0.1070, test_l2=0.0483\n",
      "[Rank 0]: saved training state to mri/run-15\n",
      "[21] time=33.56, avg_loss=0.1071, train_err=13.5933\n",
      "Eval: test_h1=0.1070, test_l2=0.0484\n",
      "[Rank 0]: saved training state to mri/run-15\n",
      "[22] time=33.39, avg_loss=0.1070, train_err=13.5892\n",
      "Eval: test_h1=0.1070, test_l2=0.0490\n",
      "[Rank 0]: saved training state to mri/run-15\n",
      "[23] time=33.51, avg_loss=0.1070, train_err=13.5883\n",
      "Eval: test_h1=0.1070, test_l2=0.0493\n",
      "[Rank 0]: saved training state to mri/run-15\n",
      "[24] time=33.49, avg_loss=0.1070, train_err=13.5873\n",
      "Eval: test_h1=0.1070, test_l2=0.0486\n",
      "[Rank 0]: saved training state to mri/run-15\n",
      "[25] time=33.38, avg_loss=0.1070, train_err=13.5883\n",
      "Eval: test_h1=0.1070, test_l2=0.0486\n",
      "[Rank 0]: saved training state to mri/run-15\n",
      "[26] time=33.66, avg_loss=0.1070, train_err=13.5852\n",
      "Eval: test_h1=0.1070, test_l2=0.0488\n",
      "[Rank 0]: saved training state to mri/run-15\n",
      "[27] time=33.09, avg_loss=0.1070, train_err=13.5853\n",
      "Eval: test_h1=0.1070, test_l2=0.0499\n",
      "[Rank 0]: saved training state to mri/run-15\n",
      "[28] time=33.39, avg_loss=0.1070, train_err=13.5850\n",
      "Eval: test_h1=0.1070, test_l2=0.0495\n",
      "[Rank 0]: saved training state to mri/run-15\n",
      "[29] time=33.34, avg_loss=0.1070, train_err=13.5843\n",
      "Eval: test_h1=0.1070, test_l2=0.0491\n",
      "[Rank 0]: saved training state to mri/run-15\n",
      "[30] time=33.24, avg_loss=0.1070, train_err=13.5842\n",
      "Eval: test_h1=0.1070, test_l2=0.0491\n",
      "[Rank 0]: saved training state to mri/run-15\n",
      "[31] time=33.27, avg_loss=0.1070, train_err=13.5842\n",
      "Eval: test_h1=0.1070, test_l2=0.0490\n",
      "[Rank 0]: saved training state to mri/run-15\n",
      "[32] time=33.23, avg_loss=0.1070, train_err=13.5844\n",
      "Eval: test_h1=0.1070, test_l2=0.0495\n",
      "[Rank 0]: saved training state to mri/run-15\n",
      "[33] time=33.33, avg_loss=0.1070, train_err=13.5851\n",
      "Eval: test_h1=0.1070, test_l2=0.0502\n",
      "[Rank 0]: saved training state to mri/run-15\n",
      "[34] time=33.22, avg_loss=0.1070, train_err=13.5854\n",
      "Eval: test_h1=0.1070, test_l2=0.0506\n",
      "[Rank 0]: saved training state to mri/run-15\n",
      "[35] time=33.71, avg_loss=0.1070, train_err=13.5859\n",
      "Eval: test_h1=0.1070, test_l2=0.0495\n",
      "[Rank 0]: saved training state to mri/run-15\n",
      "[36] time=33.22, avg_loss=0.1070, train_err=13.5878\n",
      "Eval: test_h1=0.1071, test_l2=0.0515\n",
      "[Rank 0]: saved training state to mri/run-15\n",
      "[37] time=33.30, avg_loss=0.1070, train_err=13.5919\n",
      "Eval: test_h1=0.1070, test_l2=0.0491\n",
      "[Rank 0]: saved training state to mri/run-15\n",
      "[38] time=33.59, avg_loss=0.1070, train_err=13.5904\n",
      "Eval: test_h1=0.1071, test_l2=0.0516\n",
      "[Rank 0]: saved training state to mri/run-15\n",
      "[39] time=33.53, avg_loss=0.1071, train_err=13.5927\n",
      "Eval: test_h1=0.1070, test_l2=0.0473\n",
      "[Rank 0]: saved training state to mri/run-15\n",
      "[40] time=33.05, avg_loss=0.1071, train_err=13.5925\n",
      "Eval: test_h1=0.1070, test_l2=0.0499\n",
      "[Rank 0]: saved training state to mri/run-15\n",
      "[41] time=33.68, avg_loss=0.1071, train_err=13.5938\n",
      "Eval: test_h1=0.1070, test_l2=0.0484\n",
      "[Rank 0]: saved training state to mri/run-15\n",
      "[42] time=33.31, avg_loss=0.1071, train_err=13.5954\n",
      "Eval: test_h1=0.1071, test_l2=0.0523\n",
      "[Rank 0]: saved training state to mri/run-15\n",
      "[43] time=33.05, avg_loss=0.1073, train_err=13.6220\n",
      "Eval: test_h1=0.1074, test_l2=0.0548\n",
      "[Rank 0]: saved training state to mri/run-15\n",
      "[44] time=33.33, avg_loss=0.1072, train_err=13.6081\n",
      "Eval: test_h1=0.1070, test_l2=0.0502\n",
      "[Rank 0]: saved training state to mri/run-15\n",
      "[45] time=33.25, avg_loss=0.1073, train_err=13.6247\n",
      "Eval: test_h1=0.1082, test_l2=0.0574\n",
      "[Rank 0]: saved training state to mri/run-15\n",
      "[46] time=33.11, avg_loss=0.1072, train_err=13.6088\n",
      "Eval: test_h1=0.1069, test_l2=0.0507\n",
      "[Rank 0]: saved training state to mri/run-15\n",
      "[47] time=33.39, avg_loss=0.1070, train_err=13.5868\n",
      "Eval: test_h1=0.1070, test_l2=0.0517\n",
      "[Rank 0]: saved training state to mri/run-15\n",
      "[48] time=33.34, avg_loss=0.1071, train_err=13.5981\n",
      "Eval: test_h1=0.1076, test_l2=0.0562\n",
      "[Rank 0]: saved training state to mri/run-15\n",
      "[49] time=33.40, avg_loss=0.1073, train_err=13.6257\n",
      "Eval: test_h1=0.1071, test_l2=0.0477\n",
      "[Rank 0]: saved training state to mri/run-15\n"
     ]
    },
    {
     "data": {
      "text/html": [],
      "text/plain": [
       "<IPython.core.display.HTML object>"
      ]
     },
     "metadata": {},
     "output_type": "display_data"
    },
    {
     "data": {
      "text/html": [
       "<br>    <style><br>        .wandb-row {<br>            display: flex;<br>            flex-direction: row;<br>            flex-wrap: wrap;<br>            justify-content: flex-start;<br>            width: 100%;<br>        }<br>        .wandb-col {<br>            display: flex;<br>            flex-direction: column;<br>            flex-basis: 100%;<br>            flex: 1;<br>            padding: 10px;<br>        }<br>    </style><br><div class=\"wandb-row\"><div class=\"wandb-col\"><h3>Run history:</h3><br/><table class=\"wandb\"><tr><td>avg_loss</td><td>█▁▁▁▁▁▁▁▁▁▁▁▁▁▁▁▁▁▁▁▁▁▁▁▁▁▁▁▁▁▁▁▁▁▁▁▁▁▁▁</td></tr><tr><td>lr</td><td>█████▇▇▇▆▆▅▅▅▄▄▃▃▂▂▂▁▁▁▁▁▁▁▁▁▂▂▂▃▃▃▄▅▅▆▆</td></tr><tr><td>test_h1</td><td>█▇▆▅▄▂▁▁▁▁▁▁▁▁▁▁▁▁▁▁▁▁▁▁▁▁▁▁▁▁▁▁▁▁▁▁▂▁▁▁</td></tr><tr><td>test_l2</td><td>█▃▃▄▃▁▁▂▂▂▂▁▂▂▁▂▂▂▂▂▂▂▂▂▂▂▂▂▂▂▂▁▂▂▂▂▃▂▂▁</td></tr><tr><td>time</td><td>█▂▂▃▃▃▃▃▃▃▁▁▂▂▂▂▃▂▃▃▃▁▂▂▂▂▂▂▃▂▃▃▁▃▂▂▂▁▂▂</td></tr><tr><td>train_err</td><td>█▁▁▁▁▁▁▁▁▁▁▁▁▁▁▁▁▁▁▁▁▁▁▁▁▁▁▁▁▁▁▁▁▁▁▁▁▁▁▁</td></tr></table><br/></div><div class=\"wandb-col\"><h3>Run summary:</h3><br/><table class=\"wandb\"><tr><td>avg_loss</td><td>0.10731</td></tr><tr><td>lr</td><td>0.00075</td></tr><tr><td>test_h1</td><td>0.10712</td></tr><tr><td>test_l2</td><td>0.04767</td></tr><tr><td>time</td><td>33.39771</td></tr><tr><td>train_err</td><td>13.62569</td></tr></table><br/></div></div>"
      ],
      "text/plain": [
       "<IPython.core.display.HTML object>"
      ]
     },
     "metadata": {},
     "output_type": "display_data"
    },
    {
     "data": {
      "text/html": [
       " View run <strong style=\"color:#cdcd00\">Run 15, HNO v2</strong> at: <a href='https://wandb.ai/dmitrylala/Denoising%20MRI/runs/8q1g772l' target=\"_blank\">https://wandb.ai/dmitrylala/Denoising%20MRI/runs/8q1g772l</a><br> View project at: <a href='https://wandb.ai/dmitrylala/Denoising%20MRI' target=\"_blank\">https://wandb.ai/dmitrylala/Denoising%20MRI</a><br>Synced 5 W&B file(s), 50 media file(s), 0 artifact file(s) and 0 other file(s)"
      ],
      "text/plain": [
       "<IPython.core.display.HTML object>"
      ]
     },
     "metadata": {},
     "output_type": "display_data"
    },
    {
     "data": {
      "text/html": [
       "Find logs at: <code>./wandb/run-20250415_122435-8q1g772l/logs</code>"
      ],
      "text/plain": [
       "<IPython.core.display.HTML object>"
      ]
     },
     "metadata": {},
     "output_type": "display_data"
    }
   ],
   "source": [
    "trainer.train(**trainer_cfg)\n",
    "run.finish()"
   ]
  },
  {
   "cell_type": "code",
   "execution_count": 23,
   "id": "9fb39052-7c9d-4f0f-b8e6-02c310079bf4",
   "metadata": {},
   "outputs": [],
   "source": [
    "torch.save(train_cfg.model.to('cpu').state_dict(), train_cfg.save_weights_path)"
   ]
  },
  {
   "cell_type": "code",
   "execution_count": null,
   "id": "f0ce613c-35e0-4bc3-8edf-e15e4a80fe0e",
   "metadata": {},
   "outputs": [],
   "source": []
  },
  {
   "cell_type": "code",
   "execution_count": null,
   "id": "d9c6d5f1-067b-4e21-b2dd-2a6d369829d0",
   "metadata": {},
   "outputs": [],
   "source": []
  },
  {
   "cell_type": "code",
   "execution_count": null,
   "id": "352a2a19-3142-45d8-adf1-cc2916913ea9",
   "metadata": {},
   "outputs": [],
   "source": []
  },
  {
   "cell_type": "code",
   "execution_count": null,
   "id": "a36b6240-bacd-4797-99ff-cadcb38f175d",
   "metadata": {},
   "outputs": [],
   "source": []
  },
  {
   "cell_type": "code",
   "execution_count": null,
   "id": "d5d227fe-63b3-44be-8ab5-cf44b208d9d4",
   "metadata": {},
   "outputs": [],
   "source": []
  },
  {
   "cell_type": "code",
   "execution_count": null,
   "id": "6ef18252-0c7b-40aa-9fda-a81609725562",
   "metadata": {},
   "outputs": [],
   "source": []
  },
  {
   "cell_type": "code",
   "execution_count": null,
   "id": "13bbe9c8-e7bf-4eca-ac09-c24f284dcd64",
   "metadata": {},
   "outputs": [],
   "source": []
  },
  {
   "cell_type": "code",
   "execution_count": null,
   "id": "71be8756-487b-4f42-9d69-ef4a6c9be8ce",
   "metadata": {},
   "outputs": [],
   "source": []
  },
  {
   "cell_type": "code",
   "execution_count": null,
   "id": "7f0588e7-f520-4a85-bd53-fa455bbbec1b",
   "metadata": {},
   "outputs": [],
   "source": []
  },
  {
   "cell_type": "code",
   "execution_count": null,
   "id": "5f989d11-eeb8-48c0-9c0c-d473add2aa72",
   "metadata": {},
   "outputs": [],
   "source": []
  },
  {
   "cell_type": "code",
   "execution_count": null,
   "id": "b9e79dad-2e4f-41ad-93db-b5f1753f4a13",
   "metadata": {},
   "outputs": [],
   "source": []
  },
  {
   "cell_type": "code",
   "execution_count": null,
   "id": "e24299d8-3114-4643-94a0-097b9c7a73ef",
   "metadata": {},
   "outputs": [],
   "source": []
  },
  {
   "cell_type": "code",
   "execution_count": null,
   "id": "3ec58339-6630-4312-9a37-741feb134944",
   "metadata": {},
   "outputs": [],
   "source": []
  },
  {
   "cell_type": "code",
   "execution_count": null,
   "id": "e1d8a1f7-1c0f-4fff-82df-a037bfa97fb1",
   "metadata": {},
   "outputs": [],
   "source": []
  },
  {
   "cell_type": "code",
   "execution_count": null,
   "id": "b91011db-3644-4784-b3d1-d50bd6f8c388",
   "metadata": {},
   "outputs": [],
   "source": []
  },
  {
   "cell_type": "code",
   "execution_count": null,
   "id": "95be1981-7d88-496a-9e09-cf0c3396cba2",
   "metadata": {},
   "outputs": [],
   "source": []
  },
  {
   "cell_type": "code",
   "execution_count": null,
   "id": "c2870465-7ef7-4a14-a268-eb6696fd1d0c",
   "metadata": {},
   "outputs": [],
   "source": []
  }
 ],
 "metadata": {
  "kernelspec": {
   "display_name": "Python 3 (ipykernel)",
   "language": "python",
   "name": "python3"
  },
  "language_info": {
   "codemirror_mode": {
    "name": "ipython",
    "version": 3
   },
   "file_extension": ".py",
   "mimetype": "text/x-python",
   "name": "python",
   "nbconvert_exporter": "python",
   "pygments_lexer": "ipython3",
   "version": "3.10.16"
  }
 },
 "nbformat": 4,
 "nbformat_minor": 5
}
