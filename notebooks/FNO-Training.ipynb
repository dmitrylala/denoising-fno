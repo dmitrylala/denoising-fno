{
 "cells": [
  {
   "cell_type": "code",
   "execution_count": 1,
   "id": "254a8883-cea3-4755-a2dc-a7fdd80e7398",
   "metadata": {},
   "outputs": [],
   "source": [
    "%load_ext autoreload\n",
    "%autoreload 2"
   ]
  },
  {
   "cell_type": "code",
   "execution_count": 2,
   "id": "43764263-e45a-4f13-9b44-21ac846514da",
   "metadata": {},
   "outputs": [
    {
     "ename": "ImportError",
     "evalue": "cannot import name 'builder' from 'google.protobuf.internal' (/home/d.nesterov/denoising-fno/.venv/lib/python3.10/site-packages/google/protobuf/internal/__init__.py)",
     "output_type": "error",
     "traceback": [
      "\u001b[0;31m---------------------------------------------------------------------------\u001b[0m",
      "\u001b[0;31mImportError\u001b[0m                               Traceback (most recent call last)",
      "Cell \u001b[0;32mIn[2], line 1\u001b[0m\n\u001b[0;32m----> 1\u001b[0m \u001b[38;5;28;01mimport\u001b[39;00m\u001b[38;5;250m \u001b[39m\u001b[38;5;21;01mneuralop\u001b[39;00m\n\u001b[1;32m      2\u001b[0m \u001b[38;5;28;01mimport\u001b[39;00m\u001b[38;5;250m \u001b[39m\u001b[38;5;21;01mtorch\u001b[39;00m\n\u001b[1;32m      3\u001b[0m \u001b[38;5;28;01mimport\u001b[39;00m\u001b[38;5;250m \u001b[39m\u001b[38;5;21;01mwandb\u001b[39;00m\n",
      "File \u001b[0;32m~/denoising-fno/.venv/lib/python3.10/site-packages/neuralop/__init__.py:3\u001b[0m\n\u001b[1;32m      1\u001b[0m __version__ \u001b[38;5;241m=\u001b[39m \u001b[38;5;124m'\u001b[39m\u001b[38;5;124m1.0.2\u001b[39m\u001b[38;5;124m'\u001b[39m\n\u001b[0;32m----> 3\u001b[0m \u001b[38;5;28;01mfrom\u001b[39;00m\u001b[38;5;250m \u001b[39m\u001b[38;5;21;01m.\u001b[39;00m\u001b[38;5;21;01mmodels\u001b[39;00m\u001b[38;5;250m \u001b[39m\u001b[38;5;28;01mimport\u001b[39;00m TFNO3d, TFNO2d, TFNO1d, TFNO\n\u001b[1;32m      4\u001b[0m \u001b[38;5;28;01mfrom\u001b[39;00m\u001b[38;5;250m \u001b[39m\u001b[38;5;21;01m.\u001b[39;00m\u001b[38;5;21;01mmodels\u001b[39;00m\u001b[38;5;250m \u001b[39m\u001b[38;5;28;01mimport\u001b[39;00m get_model\n\u001b[1;32m      5\u001b[0m \u001b[38;5;28;01mfrom\u001b[39;00m\u001b[38;5;250m \u001b[39m\u001b[38;5;21;01m.\u001b[39;00m\u001b[38;5;21;01mdata\u001b[39;00m\u001b[38;5;250m \u001b[39m\u001b[38;5;28;01mimport\u001b[39;00m datasets, transforms\n",
      "File \u001b[0;32m~/denoising-fno/.venv/lib/python3.10/site-packages/neuralop/models/__init__.py:1\u001b[0m\n\u001b[0;32m----> 1\u001b[0m \u001b[38;5;28;01mfrom\u001b[39;00m\u001b[38;5;250m \u001b[39m\u001b[38;5;21;01m.\u001b[39;00m\u001b[38;5;21;01mfno\u001b[39;00m\u001b[38;5;250m \u001b[39m\u001b[38;5;28;01mimport\u001b[39;00m TFNO, TFNO1d, TFNO2d, TFNO3d\n\u001b[1;32m      2\u001b[0m \u001b[38;5;28;01mfrom\u001b[39;00m\u001b[38;5;250m \u001b[39m\u001b[38;5;21;01m.\u001b[39;00m\u001b[38;5;21;01mfno\u001b[39;00m\u001b[38;5;250m \u001b[39m\u001b[38;5;28;01mimport\u001b[39;00m FNO, FNO1d, FNO2d, FNO3d\n\u001b[1;32m      3\u001b[0m \u001b[38;5;66;03m# only import SFNO if torch_harmonics is built locally\u001b[39;00m\n",
      "File \u001b[0;32m~/denoising-fno/.venv/lib/python3.10/site-packages/neuralop/models/fno.py:11\u001b[0m\n\u001b[1;32m      8\u001b[0m \u001b[38;5;28;01mimport\u001b[39;00m\u001b[38;5;250m \u001b[39m\u001b[38;5;21;01mtorch\u001b[39;00m\u001b[38;5;21;01m.\u001b[39;00m\u001b[38;5;21;01mnn\u001b[39;00m\u001b[38;5;21;01m.\u001b[39;00m\u001b[38;5;21;01mfunctional\u001b[39;00m\u001b[38;5;250m \u001b[39m\u001b[38;5;28;01mas\u001b[39;00m\u001b[38;5;250m \u001b[39m\u001b[38;5;21;01mF\u001b[39;00m\n\u001b[1;32m     10\u001b[0m \u001b[38;5;28;01mfrom\u001b[39;00m\u001b[38;5;250m \u001b[39m\u001b[38;5;21;01m.\u001b[39;00m\u001b[38;5;21;01m.\u001b[39;00m\u001b[38;5;21;01mlayers\u001b[39;00m\u001b[38;5;21;01m.\u001b[39;00m\u001b[38;5;21;01membeddings\u001b[39;00m\u001b[38;5;250m \u001b[39m\u001b[38;5;28;01mimport\u001b[39;00m GridEmbeddingND, GridEmbedding2D\n\u001b[0;32m---> 11\u001b[0m \u001b[38;5;28;01mfrom\u001b[39;00m\u001b[38;5;250m \u001b[39m\u001b[38;5;21;01m.\u001b[39;00m\u001b[38;5;21;01m.\u001b[39;00m\u001b[38;5;21;01mlayers\u001b[39;00m\u001b[38;5;21;01m.\u001b[39;00m\u001b[38;5;21;01mspectral_convolution\u001b[39;00m\u001b[38;5;250m \u001b[39m\u001b[38;5;28;01mimport\u001b[39;00m SpectralConv\n\u001b[1;32m     12\u001b[0m \u001b[38;5;28;01mfrom\u001b[39;00m\u001b[38;5;250m \u001b[39m\u001b[38;5;21;01m.\u001b[39;00m\u001b[38;5;21;01m.\u001b[39;00m\u001b[38;5;21;01mlayers\u001b[39;00m\u001b[38;5;21;01m.\u001b[39;00m\u001b[38;5;21;01mpadding\u001b[39;00m\u001b[38;5;250m \u001b[39m\u001b[38;5;28;01mimport\u001b[39;00m DomainPadding\n\u001b[1;32m     13\u001b[0m \u001b[38;5;28;01mfrom\u001b[39;00m\u001b[38;5;250m \u001b[39m\u001b[38;5;21;01m.\u001b[39;00m\u001b[38;5;21;01m.\u001b[39;00m\u001b[38;5;21;01mlayers\u001b[39;00m\u001b[38;5;21;01m.\u001b[39;00m\u001b[38;5;21;01mfno_block\u001b[39;00m\u001b[38;5;250m \u001b[39m\u001b[38;5;28;01mimport\u001b[39;00m FNOBlocks\n",
      "File \u001b[0;32m~/denoising-fno/.venv/lib/python3.10/site-packages/neuralop/layers/spectral_convolution.py:3\u001b[0m\n\u001b[1;32m      1\u001b[0m \u001b[38;5;28;01mfrom\u001b[39;00m\u001b[38;5;250m \u001b[39m\u001b[38;5;21;01mtyping\u001b[39;00m\u001b[38;5;250m \u001b[39m\u001b[38;5;28;01mimport\u001b[39;00m List, Optional, Tuple, Union\n\u001b[0;32m----> 3\u001b[0m \u001b[38;5;28;01mfrom\u001b[39;00m\u001b[38;5;250m \u001b[39m\u001b[38;5;21;01m.\u001b[39;00m\u001b[38;5;21;01m.\u001b[39;00m\u001b[38;5;21;01mutils\u001b[39;00m\u001b[38;5;250m \u001b[39m\u001b[38;5;28;01mimport\u001b[39;00m validate_scaling_factor\n\u001b[1;32m      5\u001b[0m \u001b[38;5;28;01mimport\u001b[39;00m\u001b[38;5;250m \u001b[39m\u001b[38;5;21;01mtorch\u001b[39;00m\n\u001b[1;32m      6\u001b[0m \u001b[38;5;28;01mfrom\u001b[39;00m\u001b[38;5;250m \u001b[39m\u001b[38;5;21;01mtorch\u001b[39;00m\u001b[38;5;250m \u001b[39m\u001b[38;5;28;01mimport\u001b[39;00m nn\n",
      "File \u001b[0;32m~/denoising-fno/.venv/lib/python3.10/site-packages/neuralop/utils.py:9\u001b[0m\n\u001b[1;32m      7\u001b[0m wandb_available \u001b[38;5;241m=\u001b[39m \u001b[38;5;28;01mFalse\u001b[39;00m\n\u001b[1;32m      8\u001b[0m \u001b[38;5;28;01mtry\u001b[39;00m:\n\u001b[0;32m----> 9\u001b[0m     \u001b[38;5;28;01mimport\u001b[39;00m\u001b[38;5;250m \u001b[39m\u001b[38;5;21;01mwandb\u001b[39;00m\n\u001b[1;32m     10\u001b[0m     wandb_available \u001b[38;5;241m=\u001b[39m \u001b[38;5;28;01mTrue\u001b[39;00m\n\u001b[1;32m     11\u001b[0m \u001b[38;5;28;01mexcept\u001b[39;00m \u001b[38;5;167;01mModuleNotFoundError\u001b[39;00m:\n",
      "File \u001b[0;32m~/denoising-fno/.venv/lib/python3.10/site-packages/wandb/__init__.py:22\u001b[0m\n\u001b[1;32m     19\u001b[0m \u001b[38;5;28;01mfrom\u001b[39;00m\u001b[38;5;250m \u001b[39m\u001b[38;5;21;01mwandb\u001b[39;00m\u001b[38;5;21;01m.\u001b[39;00m\u001b[38;5;21;01merrors\u001b[39;00m\u001b[38;5;21;01m.\u001b[39;00m\u001b[38;5;21;01mterm\u001b[39;00m\u001b[38;5;250m \u001b[39m\u001b[38;5;28;01mimport\u001b[39;00m termsetup, termlog, termerror, termwarn\n\u001b[1;32m     21\u001b[0m \u001b[38;5;66;03m# Configure the logger as early as possible for consistent behavior.\u001b[39;00m\n\u001b[0;32m---> 22\u001b[0m \u001b[38;5;28;01mfrom\u001b[39;00m\u001b[38;5;250m \u001b[39m\u001b[38;5;21;01mwandb\u001b[39;00m\u001b[38;5;21;01m.\u001b[39;00m\u001b[38;5;21;01msdk\u001b[39;00m\u001b[38;5;21;01m.\u001b[39;00m\u001b[38;5;21;01mlib\u001b[39;00m\u001b[38;5;250m \u001b[39m\u001b[38;5;28;01mimport\u001b[39;00m wb_logging \u001b[38;5;28;01mas\u001b[39;00m _wb_logging\n\u001b[1;32m     23\u001b[0m _wb_logging\u001b[38;5;241m.\u001b[39mconfigure_wandb_logger()\n\u001b[1;32m     25\u001b[0m \u001b[38;5;28;01mfrom\u001b[39;00m\u001b[38;5;250m \u001b[39m\u001b[38;5;21;01mwandb\u001b[39;00m\u001b[38;5;250m \u001b[39m\u001b[38;5;28;01mimport\u001b[39;00m sdk \u001b[38;5;28;01mas\u001b[39;00m wandb_sdk\n",
      "File \u001b[0;32m~/denoising-fno/.venv/lib/python3.10/site-packages/wandb/sdk/__init__.py:24\u001b[0m\n\u001b[1;32m      1\u001b[0m \u001b[38;5;124;03m\"\"\"W&B SDK module.\"\"\"\u001b[39;00m\n\u001b[1;32m      3\u001b[0m __all__ \u001b[38;5;241m=\u001b[39m (\n\u001b[1;32m      4\u001b[0m     \u001b[38;5;124m\"\u001b[39m\u001b[38;5;124mConfig\u001b[39m\u001b[38;5;124m\"\u001b[39m,\n\u001b[1;32m      5\u001b[0m     \u001b[38;5;124m\"\u001b[39m\u001b[38;5;124mSettings\u001b[39m\u001b[38;5;124m\"\u001b[39m,\n\u001b[0;32m   (...)\u001b[0m\n\u001b[1;32m     21\u001b[0m     \u001b[38;5;124m\"\u001b[39m\u001b[38;5;124mhelper\u001b[39m\u001b[38;5;124m\"\u001b[39m,\n\u001b[1;32m     22\u001b[0m )\n\u001b[0;32m---> 24\u001b[0m \u001b[38;5;28;01mfrom\u001b[39;00m\u001b[38;5;250m \u001b[39m\u001b[38;5;21;01m.\u001b[39;00m\u001b[38;5;250m \u001b[39m\u001b[38;5;28;01mimport\u001b[39;00m wandb_helper \u001b[38;5;28;01mas\u001b[39;00m helper\n\u001b[1;32m     25\u001b[0m \u001b[38;5;28;01mfrom\u001b[39;00m\u001b[38;5;250m \u001b[39m\u001b[38;5;21;01m.\u001b[39;00m\u001b[38;5;21;01martifacts\u001b[39;00m\u001b[38;5;21;01m.\u001b[39;00m\u001b[38;5;21;01martifact\u001b[39;00m\u001b[38;5;250m \u001b[39m\u001b[38;5;28;01mimport\u001b[39;00m Artifact\n\u001b[1;32m     26\u001b[0m \u001b[38;5;28;01mfrom\u001b[39;00m\u001b[38;5;250m \u001b[39m\u001b[38;5;21;01m.\u001b[39;00m\u001b[38;5;21;01mwandb_alerts\u001b[39;00m\u001b[38;5;250m \u001b[39m\u001b[38;5;28;01mimport\u001b[39;00m AlertLevel\n",
      "File \u001b[0;32m~/denoising-fno/.venv/lib/python3.10/site-packages/wandb/sdk/wandb_helper.py:6\u001b[0m\n\u001b[1;32m      2\u001b[0m \u001b[38;5;28;01mimport\u001b[39;00m\u001b[38;5;250m \u001b[39m\u001b[38;5;21;01mtypes\u001b[39;00m\n\u001b[1;32m      4\u001b[0m \u001b[38;5;28;01mfrom\u001b[39;00m\u001b[38;5;250m \u001b[39m\u001b[38;5;21;01mwandb\u001b[39;00m\u001b[38;5;21;01m.\u001b[39;00m\u001b[38;5;21;01merrors\u001b[39;00m\u001b[38;5;250m \u001b[39m\u001b[38;5;28;01mimport\u001b[39;00m UsageError\n\u001b[0;32m----> 6\u001b[0m \u001b[38;5;28;01mfrom\u001b[39;00m\u001b[38;5;250m \u001b[39m\u001b[38;5;21;01m.\u001b[39;00m\u001b[38;5;21;01mlib\u001b[39;00m\u001b[38;5;250m \u001b[39m\u001b[38;5;28;01mimport\u001b[39;00m config_util\n\u001b[1;32m      9\u001b[0m \u001b[38;5;28;01mdef\u001b[39;00m\u001b[38;5;250m \u001b[39m\u001b[38;5;21mparse_config\u001b[39m(params, exclude\u001b[38;5;241m=\u001b[39m\u001b[38;5;28;01mNone\u001b[39;00m, include\u001b[38;5;241m=\u001b[39m\u001b[38;5;28;01mNone\u001b[39;00m):\n\u001b[1;32m     10\u001b[0m     \u001b[38;5;28;01mif\u001b[39;00m exclude \u001b[38;5;129;01mand\u001b[39;00m include:\n",
      "File \u001b[0;32m~/denoising-fno/.venv/lib/python3.10/site-packages/wandb/sdk/lib/__init__.py:2\u001b[0m\n\u001b[1;32m      1\u001b[0m \u001b[38;5;28;01mfrom\u001b[39;00m\u001b[38;5;250m \u001b[39m\u001b[38;5;21;01m.\u001b[39;00m\u001b[38;5;250m \u001b[39m\u001b[38;5;28;01mimport\u001b[39;00m lazyloader\n\u001b[0;32m----> 2\u001b[0m \u001b[38;5;28;01mfrom\u001b[39;00m\u001b[38;5;250m \u001b[39m\u001b[38;5;21;01m.\u001b[39;00m\u001b[38;5;21;01mdisabled\u001b[39;00m\u001b[38;5;250m \u001b[39m\u001b[38;5;28;01mimport\u001b[39;00m RunDisabled, SummaryDisabled\n\u001b[1;32m      3\u001b[0m \u001b[38;5;28;01mfrom\u001b[39;00m\u001b[38;5;250m \u001b[39m\u001b[38;5;21;01m.\u001b[39;00m\u001b[38;5;21;01mrun_moment\u001b[39;00m\u001b[38;5;250m \u001b[39m\u001b[38;5;28;01mimport\u001b[39;00m RunMoment\n\u001b[1;32m      5\u001b[0m __all__ \u001b[38;5;241m=\u001b[39m (\u001b[38;5;124m\"\u001b[39m\u001b[38;5;124mlazyloader\u001b[39m\u001b[38;5;124m\"\u001b[39m, \u001b[38;5;124m\"\u001b[39m\u001b[38;5;124mRunDisabled\u001b[39m\u001b[38;5;124m\"\u001b[39m, \u001b[38;5;124m\"\u001b[39m\u001b[38;5;124mSummaryDisabled\u001b[39m\u001b[38;5;124m\"\u001b[39m, \u001b[38;5;124m\"\u001b[39m\u001b[38;5;124mRunMoment\u001b[39m\u001b[38;5;124m\"\u001b[39m)\n",
      "File \u001b[0;32m~/denoising-fno/.venv/lib/python3.10/site-packages/wandb/sdk/lib/disabled.py:3\u001b[0m\n\u001b[1;32m      1\u001b[0m \u001b[38;5;28;01mfrom\u001b[39;00m\u001b[38;5;250m \u001b[39m\u001b[38;5;21;01mtyping\u001b[39;00m\u001b[38;5;250m \u001b[39m\u001b[38;5;28;01mimport\u001b[39;00m Any\n\u001b[0;32m----> 3\u001b[0m \u001b[38;5;28;01mfrom\u001b[39;00m\u001b[38;5;250m \u001b[39m\u001b[38;5;21;01mwandb\u001b[39;00m\u001b[38;5;21;01m.\u001b[39;00m\u001b[38;5;21;01msdk\u001b[39;00m\u001b[38;5;21;01m.\u001b[39;00m\u001b[38;5;21;01mlib\u001b[39;00m\u001b[38;5;250m \u001b[39m\u001b[38;5;28;01mimport\u001b[39;00m deprecate\n\u001b[1;32m      6\u001b[0m \u001b[38;5;28;01mclass\u001b[39;00m\u001b[38;5;250m \u001b[39m\u001b[38;5;21;01mSummaryDisabled\u001b[39;00m(\u001b[38;5;28mdict\u001b[39m):\n\u001b[1;32m      7\u001b[0m     \u001b[38;5;21m__setattr__\u001b[39m \u001b[38;5;241m=\u001b[39m \u001b[38;5;28mdict\u001b[39m\u001b[38;5;241m.\u001b[39m\u001b[38;5;21m__setitem__\u001b[39m\n",
      "File \u001b[0;32m~/denoising-fno/.venv/lib/python3.10/site-packages/wandb/sdk/lib/deprecate.py:7\u001b[0m\n\u001b[1;32m      5\u001b[0m \u001b[38;5;28;01mimport\u001b[39;00m\u001b[38;5;250m \u001b[39m\u001b[38;5;21;01mwandb\u001b[39;00m\n\u001b[1;32m      6\u001b[0m \u001b[38;5;28;01mfrom\u001b[39;00m\u001b[38;5;250m \u001b[39m\u001b[38;5;21;01mwandb\u001b[39;00m\u001b[38;5;21;01m.\u001b[39;00m\u001b[38;5;21;01mproto\u001b[39;00m\u001b[38;5;21;01m.\u001b[39;00m\u001b[38;5;21;01mwandb_deprecated\u001b[39;00m\u001b[38;5;250m \u001b[39m\u001b[38;5;28;01mimport\u001b[39;00m DEPRECATED_FEATURES, Deprecated\n\u001b[0;32m----> 7\u001b[0m \u001b[38;5;28;01mfrom\u001b[39;00m\u001b[38;5;250m \u001b[39m\u001b[38;5;21;01mwandb\u001b[39;00m\u001b[38;5;21;01m.\u001b[39;00m\u001b[38;5;21;01mproto\u001b[39;00m\u001b[38;5;21;01m.\u001b[39;00m\u001b[38;5;21;01mwandb_telemetry_pb2\u001b[39;00m\u001b[38;5;250m \u001b[39m\u001b[38;5;28;01mimport\u001b[39;00m Deprecated \u001b[38;5;28;01mas\u001b[39;00m TelemetryDeprecated\n\u001b[1;32m      9\u001b[0m \u001b[38;5;66;03m# avoid cycle, use string type reference\u001b[39;00m\n\u001b[1;32m     10\u001b[0m \u001b[38;5;28;01mif\u001b[39;00m TYPE_CHECKING:\n",
      "File \u001b[0;32m~/denoising-fno/.venv/lib/python3.10/site-packages/wandb/proto/wandb_telemetry_pb2.py:10\u001b[0m\n\u001b[1;32m      8\u001b[0m     \u001b[38;5;28;01mfrom\u001b[39;00m\u001b[38;5;250m \u001b[39m\u001b[38;5;21;01mwandb\u001b[39;00m\u001b[38;5;21;01m.\u001b[39;00m\u001b[38;5;21;01mproto\u001b[39;00m\u001b[38;5;21;01m.\u001b[39;00m\u001b[38;5;21;01mv4\u001b[39;00m\u001b[38;5;21;01m.\u001b[39;00m\u001b[38;5;21;01mwandb_telemetry_pb2\u001b[39;00m\u001b[38;5;250m \u001b[39m\u001b[38;5;28;01mimport\u001b[39;00m \u001b[38;5;241m*\u001b[39m\n\u001b[1;32m      9\u001b[0m \u001b[38;5;28;01melif\u001b[39;00m protobuf_version \u001b[38;5;241m==\u001b[39m \u001b[38;5;124m\"\u001b[39m\u001b[38;5;124m5\u001b[39m\u001b[38;5;124m\"\u001b[39m:\n\u001b[0;32m---> 10\u001b[0m     \u001b[38;5;28;01mfrom\u001b[39;00m\u001b[38;5;250m \u001b[39m\u001b[38;5;21;01mwandb\u001b[39;00m\u001b[38;5;21;01m.\u001b[39;00m\u001b[38;5;21;01mproto\u001b[39;00m\u001b[38;5;21;01m.\u001b[39;00m\u001b[38;5;21;01mv5\u001b[39;00m\u001b[38;5;21;01m.\u001b[39;00m\u001b[38;5;21;01mwandb_telemetry_pb2\u001b[39;00m\u001b[38;5;250m \u001b[39m\u001b[38;5;28;01mimport\u001b[39;00m \u001b[38;5;241m*\u001b[39m\n",
      "File \u001b[0;32m~/denoising-fno/.venv/lib/python3.10/site-packages/wandb/proto/v5/wandb_telemetry_pb2.py:9\u001b[0m\n\u001b[1;32m      7\u001b[0m \u001b[38;5;28;01mfrom\u001b[39;00m\u001b[38;5;250m \u001b[39m\u001b[38;5;21;01mgoogle\u001b[39;00m\u001b[38;5;21;01m.\u001b[39;00m\u001b[38;5;21;01mprotobuf\u001b[39;00m\u001b[38;5;250m \u001b[39m\u001b[38;5;28;01mimport\u001b[39;00m descriptor_pool \u001b[38;5;28;01mas\u001b[39;00m _descriptor_pool\n\u001b[1;32m      8\u001b[0m \u001b[38;5;28;01mfrom\u001b[39;00m\u001b[38;5;250m \u001b[39m\u001b[38;5;21;01mgoogle\u001b[39;00m\u001b[38;5;21;01m.\u001b[39;00m\u001b[38;5;21;01mprotobuf\u001b[39;00m\u001b[38;5;250m \u001b[39m\u001b[38;5;28;01mimport\u001b[39;00m symbol_database \u001b[38;5;28;01mas\u001b[39;00m _symbol_database\n\u001b[0;32m----> 9\u001b[0m \u001b[38;5;28;01mfrom\u001b[39;00m\u001b[38;5;250m \u001b[39m\u001b[38;5;21;01mgoogle\u001b[39;00m\u001b[38;5;21;01m.\u001b[39;00m\u001b[38;5;21;01mprotobuf\u001b[39;00m\u001b[38;5;21;01m.\u001b[39;00m\u001b[38;5;21;01minternal\u001b[39;00m\u001b[38;5;250m \u001b[39m\u001b[38;5;28;01mimport\u001b[39;00m builder \u001b[38;5;28;01mas\u001b[39;00m _builder\n\u001b[1;32m     10\u001b[0m \u001b[38;5;66;03m# @@protoc_insertion_point(imports)\u001b[39;00m\n\u001b[1;32m     12\u001b[0m _sym_db \u001b[38;5;241m=\u001b[39m _symbol_database\u001b[38;5;241m.\u001b[39mDefault()\n",
      "\u001b[0;31mImportError\u001b[0m: cannot import name 'builder' from 'google.protobuf.internal' (/home/d.nesterov/denoising-fno/.venv/lib/python3.10/site-packages/google/protobuf/internal/__init__.py)"
     ]
    }
   ],
   "source": [
    "import neuralop\n",
    "import torch\n",
    "import wandb\n",
    "\n",
    "from denoising import (\n",
    "    Environment,\n",
    "    make_model_config,\n",
    "    ModelRegistry,\n",
    ")\n",
    "from config import model_load_configs"
   ]
  },
  {
   "cell_type": "code",
   "execution_count": 3,
   "id": "e756dfd5-af13-401c-b0cc-765e98bf1776",
   "metadata": {},
   "outputs": [
    {
     "name": "stdout",
     "output_type": "stream",
     "text": [
      "torch 2.6.0+cu124\n",
      "neuralop 1.0.2\n"
     ]
    }
   ],
   "source": [
    "print('torch ' + torch.__version__)\n",
    "print('neuralop ' + neuralop.__version__)"
   ]
  },
  {
   "cell_type": "code",
   "execution_count": 4,
   "id": "8c7055a4-cbf7-4a40-a14d-9d0774853c67",
   "metadata": {},
   "outputs": [],
   "source": [
    "# загружаем переменные окружения\n",
    "env = Environment(_env_file='../env')"
   ]
  },
  {
   "cell_type": "code",
   "execution_count": 5,
   "id": "9d4a7fa7-3009-4eb2-98c3-dacddd017de7",
   "metadata": {},
   "outputs": [
    {
     "name": "stderr",
     "output_type": "stream",
     "text": [
      "\u001b[34m\u001b[1mwandb\u001b[0m: Using wandb-core as the SDK backend.  Please refer to https://wandb.me/wandb-core for more information.\n",
      "\u001b[34m\u001b[1mwandb\u001b[0m: \u001b[33mWARNING\u001b[0m If you're specifying your api key in code, ensure this code is not shared publicly.\n",
      "\u001b[34m\u001b[1mwandb\u001b[0m: \u001b[33mWARNING\u001b[0m Consider setting the WANDB_API_KEY environment variable, or running `wandb login` from the command line.\n",
      "\u001b[34m\u001b[1mwandb\u001b[0m: Appending key for api.wandb.ai to your netrc file: /home/d.nesterov/.netrc\n",
      "\u001b[34m\u001b[1mwandb\u001b[0m: Currently logged in as: \u001b[33mdmitrylala\u001b[0m to \u001b[32mhttps://api.wandb.ai\u001b[0m. Use \u001b[1m`wandb login --relogin`\u001b[0m to force relogin\n"
     ]
    },
    {
     "data": {
      "text/plain": [
       "True"
      ]
     },
     "execution_count": 5,
     "metadata": {},
     "output_type": "execute_result"
    }
   ],
   "source": [
    "wandb.login(key=env.wandb_api_key)"
   ]
  },
  {
   "cell_type": "markdown",
   "id": "1512c32f-9664-40a2-9212-ebb67ec0f4d9",
   "metadata": {},
   "source": [
    "# Инициализация данных"
   ]
  },
  {
   "cell_type": "code",
   "execution_count": 6,
   "id": "45376b06-77b1-4b79-936a-649a5eecccb2",
   "metadata": {
    "jupyter": {
     "source_hidden": true
    }
   },
   "outputs": [],
   "source": [
    "import matplotlib.pyplot as plt\n",
    "\n",
    "\n",
    "def show_sample(item: dict[str, torch.Tensor]) -> None:\n",
    "    def prep(v):\n",
    "        return v.detach().cpu().permute(1, 2, 0)\n",
    "\n",
    "    x, y = prep(item['x']), prep(item['y'])\n",
    "\n",
    "    fig = plt.figure(figsize=(7, 7))\n",
    "    ax = fig.add_subplot(1, 2, 1)\n",
    "    ax.imshow(x)\n",
    "    ax.set_title('input x')\n",
    "    ax = fig.add_subplot(1, 2, 2)\n",
    "    ax.imshow(y)\n",
    "    ax.set_title('input y')\n",
    "    fig.show()"
   ]
  },
  {
   "cell_type": "code",
   "execution_count": 7,
   "id": "56928608-f6ba-4f1f-8162-0c52a082a08a",
   "metadata": {},
   "outputs": [],
   "source": [
    "from denoising import (\n",
    "    make_bsd_dset_config,\n",
    "    make_fno_dset_config,\n",
    "    make_load_params,\n",
    ")\n",
    "from denoising.data import DatasetRegistry"
   ]
  },
  {
   "cell_type": "code",
   "execution_count": 8,
   "id": "fa2c29f2-8b9e-4292-bcd0-83f979a4264e",
   "metadata": {},
   "outputs": [],
   "source": [
    "mri_root = env.data / 'MRI/IXI_0_1/255'\n",
    "bsd_root = env.data / 'BSDS300-horizontal-synthetic'\n",
    "sidd_root = env.data / 'SIDD_Small_sRGB_Only'\n",
    "\n",
    "mri_sketch_load_params = make_load_params('sketch', [145, 145], 'float32')\n",
    "mri_image_load_params = make_load_params('image', [145, 145], 'float32')\n",
    "mri_gt_load_params = make_load_params('gt', [255, 255], 'float32')\n",
    "pm_load_params = [mri_sketch_load_params, mri_image_load_params]\n",
    "gt_load_params = [mri_sketch_load_params, mri_gt_load_params]\n",
    "\n",
    "sidd_noisy_load_params = make_load_params('noisy', [512, 512, 3], 'uint8')\n",
    "sidd_gt_load_params = make_load_params('gt', [512, 512, 3], 'uint8')\n",
    "sidd_load_params = [sidd_noisy_load_params, sidd_gt_load_params]\n",
    "\n",
    "datasets_configs = {\n",
    "    # MRI datasets\n",
    "    'mri_pm_train': make_fno_dset_config(\n",
    "        mri_root,\n",
    "        env.data / 'MRI/lists/IXI_0_1/train_pmLR_gibbsnoiseLR_train.csv',\n",
    "        pm_load_params,\n",
    "    ),\n",
    "    'mri_pm_test': make_fno_dset_config(\n",
    "        mri_root,\n",
    "        env.data / 'MRI/lists/IXI_0_1/train_pmLR_gibbsnoiseLR_val.csv',\n",
    "        pm_load_params,\n",
    "    ),\n",
    "    'mri_gt_test': make_fno_dset_config(\n",
    "        mri_root,\n",
    "        env.data / 'MRI/lists/IXI_0_1/train_gtLR_gibbsnoiseLR_val.csv',\n",
    "        gt_load_params,\n",
    "    ),\n",
    "    # BSD datasets\n",
    "    'bsd_synth_0.01_train': make_bsd_dset_config(bsd_root, 0.01, 'train'),\n",
    "    'bsd_synth_0.01_test': make_bsd_dset_config(bsd_root, 0.01, 'test'),\n",
    "    # SIDD datasets, patches\n",
    "    'sidd_train': make_fno_dset_config(\n",
    "        sidd_root / 'train',\n",
    "        sidd_root / 'patches_train.csv',\n",
    "        sidd_load_params,\n",
    "        normalize=True,\n",
    "    ),\n",
    "    'sidd_test': make_fno_dset_config(\n",
    "        sidd_root / 'val',\n",
    "        sidd_root / 'patches_val.csv',\n",
    "        sidd_load_params,\n",
    "        normalize=True,\n",
    "    ),\n",
    "}"
   ]
  },
  {
   "cell_type": "code",
   "execution_count": 9,
   "id": "94a86d07-56b9-40b2-bf96-be8adb1bb4f3",
   "metadata": {},
   "outputs": [
    {
     "name": "stdout",
     "output_type": "stream",
     "text": [
      "Got n_samples = 8380  in dataset mri_pm_train        with sample size = torch.Size([1, 145, 145])\n",
      "Got n_samples = 2093  in dataset mri_pm_test         with sample size = torch.Size([1, 145, 145])\n",
      "Got n_samples = 2093  in dataset mri_gt_test         with sample size = torch.Size([1, 145, 145])\n",
      "Got n_samples = 137   in dataset bsd_synth_0.01_train with sample size = torch.Size([1, 321, 481])\n",
      "Got n_samples = 77    in dataset bsd_synth_0.01_test with sample size = torch.Size([1, 321, 481])\n",
      "Got n_samples = 12296 in dataset sidd_train          with sample size = torch.Size([3, 512, 512])\n",
      "Got n_samples = 3008  in dataset sidd_test           with sample size = torch.Size([3, 512, 512])\n"
     ]
    },
    {
     "data": {
      "text/plain": [
       "DatasetRegistry(['mri_pm_train', 'mri_pm_test', 'mri_gt_test', 'bsd_synth_0.01_train', 'bsd_synth_0.01_test', 'sidd_train', 'sidd_test'])"
      ]
     },
     "execution_count": 9,
     "metadata": {},
     "output_type": "execute_result"
    }
   ],
   "source": [
    "dataset_registry = DatasetRegistry()\n",
    "dataset_registry.load(datasets_configs, verbose=True)\n",
    "dataset_registry"
   ]
  },
  {
   "cell_type": "code",
   "execution_count": 10,
   "id": "e168f994-2033-4594-9281-475e8b5bf472",
   "metadata": {},
   "outputs": [],
   "source": [
    "# MRI\n",
    "train_loader = dataset_registry.make_dl('mri_pm_train', batch_size=64, shuffle=True)\n",
    "test_loader = dataset_registry.make_dl('mri_pm_test', batch_size=128)\n",
    "\n",
    "# BSD\n",
    "# train_loader = dataset_registry.make_dl('bsd_synth_0.01_train', batch_size=32, shuffle=True)\n",
    "# test_loader = dataset_registry.make_dl('bsd_synth_0.01_test', batch_size=64)\n",
    "\n",
    "# SIDD patches\n",
    "# train_loader = dataset_registry.make_dl('sidd_train', batch_size=16, shuffle=True)\n",
    "# test_loader = dataset_registry.make_dl('sidd_test', batch_size=64)"
   ]
  },
  {
   "cell_type": "code",
   "execution_count": 11,
   "id": "62f3e560-adb1-40d1-8954-d5011c478ad0",
   "metadata": {},
   "outputs": [
    {
     "name": "stdout",
     "output_type": "stream",
     "text": [
      "torch.Size([64, 1, 145, 145]) torch.Size([64, 1, 145, 145])\n"
     ]
    }
   ],
   "source": [
    "for batch in train_loader:\n",
    "    print(batch.x.size(), batch.y.size())\n",
    "    break"
   ]
  },
  {
   "cell_type": "code",
   "execution_count": 12,
   "id": "0b94a116-b409-48b2-97f4-b14b58fad950",
   "metadata": {},
   "outputs": [],
   "source": [
    "# Uncomment to show sample\n",
    "\n",
    "# idx = 10\n",
    "# sample = train_loader.dataset[idx]\n",
    "\n",
    "# x, y = sample['x'], sample['y']\n",
    "# print(f'Training sample {idx} has shape: {x.size()}')\n",
    "\n",
    "# show_sample(sample)"
   ]
  },
  {
   "cell_type": "markdown",
   "id": "b21ec465-576a-4142-abbb-c55831e6bde0",
   "metadata": {},
   "source": [
    "# Инициализация FNO"
   ]
  },
  {
   "cell_type": "code",
   "execution_count": 25,
   "id": "dac1b46c-f168-48a9-85fe-655c1b0e4099",
   "metadata": {
    "jupyter": {
     "source_hidden": true
    }
   },
   "outputs": [],
   "source": [
    "# Параметры запусков\n",
    "\n",
    "\n",
    "# run 6, params from paper (best on MRI)\n",
    "# fno_cfg = {\n",
    "#     'n_modes': (32, 32),\n",
    "#     'in_channels': 1,\n",
    "#     'hidden_channels': 32,\n",
    "#     'lifting_channel_ratio': 8,\n",
    "#     'projection_channel_ratio': 2,\n",
    "#     'out_channels': 1,\n",
    "#     'factorization': 'tucker',\n",
    "#     'n_layers': 4,\n",
    "#     'rank': 0.42,\n",
    "# }\n",
    "# optimizer = torch.optim.Adam(train_model.parameters(), lr=1e-3, weight_decay=1e-4)\n",
    "# scheduler = torch.optim.lr_scheduler.CosineAnnealingLR(optimizer, T_max=30)\n",
    "\n",
    "# для BSD меньше lr\n",
    "# optimizer = torch.optim.Adam(train_model.parameters(), lr=1e-4, weight_decay=1e-5)\n",
    "\n",
    "\n",
    "# run 5\n",
    "# fno_cfg = {\n",
    "#     'n_modes': (16, 16),\n",
    "#     'in_channels': 1,\n",
    "#     'hidden_channels': 16,\n",
    "#     'projection_channel_ratio': 2,\n",
    "#     'out_channels': 1,\n",
    "#     'factorization': 'tucker',\n",
    "#     'n_layers': 32,\n",
    "#     'rank': 0.42,\n",
    "#     'positional_embedding': GridEmbedding2D(in_channels=1, grid_boundaries=[[0, 1], [0, 1.5]]),\n",
    "# }"
   ]
  },
  {
   "cell_type": "code",
   "execution_count": 26,
   "id": "269dc2b8-6afd-4685-a2c0-4a76b081ebf3",
   "metadata": {},
   "outputs": [
    {
     "name": "stdout",
     "output_type": "stream",
     "text": [
      "Loaded  model mri-fno-neuralop with n_parameters = 1015257\n",
      "Loaded  model mri-fno-custom   with n_parameters = 1015257\n",
      "Loaded  model sidd-fno-run2    with n_parameters = 1015899\n",
      "Loaded  model sidd-fno-run3    with n_parameters = 1015899\n",
      "Loaded  model sidd-fno-run4    with n_parameters = 1020595\n",
      "Loaded  model bsd-fno          with n_parameters = 1015257\n"
     ]
    },
    {
     "data": {
      "text/plain": [
       "ModelRegistry(['mri-fno-neuralop', 'mri-fno-custom', 'sidd-fno-run2', 'sidd-fno-run3', 'sidd-fno-run4', 'bsd-fno'])"
      ]
     },
     "execution_count": 26,
     "metadata": {},
     "output_type": "execute_result"
    }
   ],
   "source": [
    "model_registry = ModelRegistry()\n",
    "model_registry.load(model_load_configs, random_seed=env.random_seed, device='cpu', verbose=True)\n",
    "model_registry"
   ]
  },
  {
   "cell_type": "code",
   "execution_count": 27,
   "id": "6f158d24-1690-4855-b5c5-a7a974ec837a",
   "metadata": {},
   "outputs": [
    {
     "name": "stdout",
     "output_type": "stream",
     "text": [
      "Created model new-fno          with n_parameters = 1020595\n"
     ]
    }
   ],
   "source": [
    "new_cfg = {\n",
    "    'n_modes': (32, 32),\n",
    "    'in_channels': 3,\n",
    "    'hidden_channels': 16,  # less hidden: 32 -> 16\n",
    "    'lifting_channel_ratio': 8,\n",
    "    'projection_channel_ratio': 2,\n",
    "    'out_channels': 3,\n",
    "    'factorization': 'tucker',\n",
    "    'n_layers': 16,  # stack more layers: 4 -> 16\n",
    "    'rank': 0.42,\n",
    "}\n",
    "model_name = 'new-fno'\n",
    "\n",
    "new_fno_cfg = {\n",
    "    model_name: make_model_config(new_cfg, None, 'FNO'),\n",
    "}\n",
    "\n",
    "model_registry.load(new_fno_cfg, random_seed=env.random_seed, device=env.device, verbose=True)\n",
    "model = model_registry[model_name]"
   ]
  },
  {
   "cell_type": "markdown",
   "id": "6e2ca7ea-3cb2-43dd-80bc-17319cee9424",
   "metadata": {},
   "source": [
    "# Обучение"
   ]
  },
  {
   "cell_type": "code",
   "execution_count": 29,
   "id": "7e2b6f2b-9f43-4ae7-90f4-2adb72384fd7",
   "metadata": {
    "jupyter": {
     "source_hidden": true
    }
   },
   "outputs": [],
   "source": [
    "from dataclasses import dataclass, field\n",
    "from pathlib import Path\n",
    "\n",
    "from neuralop import H1Loss, LpLoss, Trainer\n",
    "from torch import nn\n",
    "from torch.utils.data import DataLoader\n",
    "\n",
    "\n",
    "@dataclass\n",
    "class TrainConfig:\n",
    "    train_loader: DataLoader\n",
    "    test_loader: DataLoader\n",
    "    model: nn.Module\n",
    "    lr: float\n",
    "    n_epochs: int\n",
    "    device: str | torch.device\n",
    "\n",
    "    run_name: str\n",
    "    save_dir_run: Path\n",
    "    save_weights_path: Path\n",
    "    tags: list[str] = field(default_factory=list)\n",
    "\n",
    "\n",
    "def make_run(cfg: TrainConfig):\n",
    "    wandb_init_args = dict(\n",
    "        project='Denoising MRI',\n",
    "        name=cfg.run_name,\n",
    "        group='FNO 2025',\n",
    "        entity='Dmitrylala',\n",
    "        tags=cfg.tags,\n",
    "    )\n",
    "\n",
    "    return wandb.init(**wandb_init_args)\n",
    "\n",
    "\n",
    "def prepare_training(cfg: TrainConfig) -> tuple:\n",
    "    trainer_cfg = {\n",
    "        'model': cfg.model,\n",
    "        'n_epochs': cfg.n_epochs,\n",
    "        'device': cfg.device,\n",
    "        'wandb_log': True,\n",
    "        'eval_interval': 1,\n",
    "        'log_output': True,\n",
    "        'verbose': True,\n",
    "    }\n",
    "\n",
    "    trainer = Trainer(**trainer_cfg)\n",
    "    print(f'Logging to wandb enabled: {trainer.wandb_log}')\n",
    "\n",
    "    optimizer = torch.optim.Adam(cfg.model.parameters(), lr=cfg.lr, weight_decay=cfg.lr / 10.0)\n",
    "    scheduler = torch.optim.lr_scheduler.CosineAnnealingLR(optimizer, T_max=30)\n",
    "\n",
    "    l2loss = LpLoss(d=2, p=2)\n",
    "    h1loss = H1Loss(d=2)\n",
    "\n",
    "    trainer_cfg = {\n",
    "        'train_loader': cfg.train_loader,\n",
    "        'test_loaders': {'test': cfg.test_loader},\n",
    "        'optimizer': optimizer,\n",
    "        'scheduler': None,\n",
    "        'scheduler': scheduler,\n",
    "        'save_every': 1,\n",
    "        'save_dir': cfg.save_dir_run,\n",
    "        'training_loss': h1loss,\n",
    "        'eval_losses': {'h1': h1loss, 'l2': l2loss},\n",
    "    }\n",
    "\n",
    "    return trainer, trainer_cfg"
   ]
  },
  {
   "cell_type": "code",
   "execution_count": 30,
   "id": "53d233de-0639-4832-adfe-48712c43135b",
   "metadata": {},
   "outputs": [],
   "source": [
    "run_idx = 4\n",
    "save_dir = Path('sidd_patches')\n",
    "\n",
    "run_name = f'Run {run_idx}, SIDD, more layers'\n",
    "save_dir_run = save_dir / f'run-{run_idx}'\n",
    "save_weights_path = save_dir / f'run-{run_idx}-weights.pt'\n",
    "\n",
    "train_cfg = TrainConfig(\n",
    "    train_loader=train_loader,\n",
    "    test_loader=train_loader,\n",
    "    model=model,\n",
    "    lr=1e-3,\n",
    "    n_epochs=50,\n",
    "    device=env.device,\n",
    "    run_name=run_name,\n",
    "    save_dir_run=save_dir_run,\n",
    "    save_weights_path=save_weights_path,\n",
    "    tags=['SIDD', 'no augs'],\n",
    ")"
   ]
  },
  {
   "cell_type": "code",
   "execution_count": 18,
   "id": "71a3423e-e95b-42c5-9ded-93e01eef8ee1",
   "metadata": {},
   "outputs": [
    {
     "data": {
      "text/html": [
       "Tracking run with wandb version 0.19.8"
      ],
      "text/plain": [
       "<IPython.core.display.HTML object>"
      ]
     },
     "metadata": {},
     "output_type": "display_data"
    },
    {
     "data": {
      "text/html": [
       "Run data is saved locally in <code>/home/d.nesterov/denoising-fno/notebooks/wandb/run-20250407_215948-eno49fuy</code>"
      ],
      "text/plain": [
       "<IPython.core.display.HTML object>"
      ]
     },
     "metadata": {},
     "output_type": "display_data"
    },
    {
     "data": {
      "text/html": [
       "Syncing run <strong><a href='https://wandb.ai/dmitrylala/Denoising%20MRI/runs/eno49fuy' target=\"_blank\">Run 4, SIDD, more layers</a></strong> to <a href='https://wandb.ai/dmitrylala/Denoising%20MRI' target=\"_blank\">Weights & Biases</a> (<a href='https://wandb.me/developer-guide' target=\"_blank\">docs</a>)<br>"
      ],
      "text/plain": [
       "<IPython.core.display.HTML object>"
      ]
     },
     "metadata": {},
     "output_type": "display_data"
    },
    {
     "data": {
      "text/html": [
       " View project at <a href='https://wandb.ai/dmitrylala/Denoising%20MRI' target=\"_blank\">https://wandb.ai/dmitrylala/Denoising%20MRI</a>"
      ],
      "text/plain": [
       "<IPython.core.display.HTML object>"
      ]
     },
     "metadata": {},
     "output_type": "display_data"
    },
    {
     "data": {
      "text/html": [
       " View run at <a href='https://wandb.ai/dmitrylala/Denoising%20MRI/runs/eno49fuy' target=\"_blank\">https://wandb.ai/dmitrylala/Denoising%20MRI/runs/eno49fuy</a>"
      ],
      "text/plain": [
       "<IPython.core.display.HTML object>"
      ]
     },
     "metadata": {},
     "output_type": "display_data"
    }
   ],
   "source": [
    "run = make_run(train_cfg)"
   ]
  },
  {
   "cell_type": "code",
   "execution_count": 21,
   "id": "ad8a06c3-8f1f-4fc9-ad77-f9d4d069609f",
   "metadata": {},
   "outputs": [
    {
     "name": "stdout",
     "output_type": "stream",
     "text": [
      "Logging to wandb enabled: True\n"
     ]
    }
   ],
   "source": [
    "trainer, trainer_cfg = prepare_training(train_cfg)"
   ]
  },
  {
   "cell_type": "code",
   "execution_count": null,
   "id": "9ee0faeb-cc61-4757-8a8b-37baa01568e8",
   "metadata": {},
   "outputs": [
    {
     "name": "stdout",
     "output_type": "stream",
     "text": [
      "Training on 12296 samples\n",
      "Testing on [12296] samples         on resolutions ['test'].\n",
      "Raw outputs of shape torch.Size([16, 3, 512, 512])\n"
     ]
    }
   ],
   "source": [
    "trainer.train(**trainer_cfg)\n",
    "run.finish()"
   ]
  },
  {
   "cell_type": "code",
   "execution_count": 27,
   "id": "9fb39052-7c9d-4f0f-b8e6-02c310079bf4",
   "metadata": {},
   "outputs": [],
   "source": [
    "torch.save(train_cfg.model.to('cpu').state_dict(), train_cfg.save_weights_path)"
   ]
  },
  {
   "cell_type": "code",
   "execution_count": null,
   "id": "f0ce613c-35e0-4bc3-8edf-e15e4a80fe0e",
   "metadata": {},
   "outputs": [],
   "source": []
  },
  {
   "cell_type": "code",
   "execution_count": null,
   "id": "d542564c-4394-4436-a3a5-0aa7c5edb5e0",
   "metadata": {},
   "outputs": [],
   "source": []
  },
  {
   "cell_type": "code",
   "execution_count": null,
   "id": "41857c3e-b281-4dde-89ed-b2c454dee9e4",
   "metadata": {},
   "outputs": [],
   "source": []
  },
  {
   "cell_type": "code",
   "execution_count": null,
   "id": "ec9d5f81-fccf-4873-a5bd-113d663ec13a",
   "metadata": {},
   "outputs": [],
   "source": []
  },
  {
   "cell_type": "code",
   "execution_count": null,
   "id": "a36b6240-bacd-4797-99ff-cadcb38f175d",
   "metadata": {},
   "outputs": [],
   "source": []
  },
  {
   "cell_type": "code",
   "execution_count": null,
   "id": "7f0588e7-f520-4a85-bd53-fa455bbbec1b",
   "metadata": {},
   "outputs": [],
   "source": []
  },
  {
   "cell_type": "code",
   "execution_count": null,
   "id": "593baf0c-5625-45dc-a102-9521abaf92e1",
   "metadata": {},
   "outputs": [],
   "source": []
  },
  {
   "cell_type": "code",
   "execution_count": null,
   "id": "f8f5e0fa-c300-46aa-933d-8e799ad3eea0",
   "metadata": {},
   "outputs": [],
   "source": []
  },
  {
   "cell_type": "code",
   "execution_count": null,
   "id": "5e24b074-6fb9-4e86-9224-4cbe236ce413",
   "metadata": {},
   "outputs": [],
   "source": []
  },
  {
   "cell_type": "code",
   "execution_count": null,
   "id": "afe01ace-da47-414b-8d96-3c0d57f77b50",
   "metadata": {},
   "outputs": [],
   "source": []
  },
  {
   "cell_type": "code",
   "execution_count": null,
   "id": "35c6bc9e-afb1-422b-994b-2ba065f8357e",
   "metadata": {},
   "outputs": [],
   "source": []
  },
  {
   "cell_type": "code",
   "execution_count": null,
   "id": "1c8ff2ed-e1d6-430d-89f3-5832e8dc468b",
   "metadata": {},
   "outputs": [],
   "source": []
  },
  {
   "cell_type": "code",
   "execution_count": null,
   "id": "b9e79dad-2e4f-41ad-93db-b5f1753f4a13",
   "metadata": {},
   "outputs": [],
   "source": []
  },
  {
   "cell_type": "code",
   "execution_count": null,
   "id": "02173743-515f-4b87-ab96-4e2c21771efa",
   "metadata": {},
   "outputs": [],
   "source": []
  },
  {
   "cell_type": "code",
   "execution_count": null,
   "id": "fe769285-ddb6-4772-a7a4-04138d938df8",
   "metadata": {},
   "outputs": [],
   "source": []
  },
  {
   "cell_type": "code",
   "execution_count": null,
   "id": "140a96cc-759d-46c0-adde-19e54a5a0b82",
   "metadata": {},
   "outputs": [],
   "source": []
  },
  {
   "cell_type": "code",
   "execution_count": null,
   "id": "08b11f9a-d282-4132-9f6c-938f5c25e79f",
   "metadata": {},
   "outputs": [],
   "source": []
  },
  {
   "cell_type": "code",
   "execution_count": null,
   "id": "b9f6f0c1-57df-4264-973f-316f2264460b",
   "metadata": {},
   "outputs": [],
   "source": []
  },
  {
   "cell_type": "code",
   "execution_count": null,
   "id": "dab45f40-6260-48b5-ba01-52ee75d4b83b",
   "metadata": {},
   "outputs": [],
   "source": []
  },
  {
   "cell_type": "code",
   "execution_count": null,
   "id": "40afdaaa-85cc-48b1-a4a3-5eec2d362ba0",
   "metadata": {},
   "outputs": [],
   "source": []
  },
  {
   "cell_type": "code",
   "execution_count": null,
   "id": "40cee2cf-4391-454c-9437-d7d0c8b7e1ed",
   "metadata": {},
   "outputs": [],
   "source": []
  },
  {
   "cell_type": "code",
   "execution_count": null,
   "id": "802b7f32-2ef2-4e44-99de-1b6097d36d0d",
   "metadata": {},
   "outputs": [],
   "source": []
  },
  {
   "cell_type": "code",
   "execution_count": null,
   "id": "c3d0c67e-338b-4151-ab7c-75ba514896a6",
   "metadata": {},
   "outputs": [],
   "source": []
  },
  {
   "cell_type": "code",
   "execution_count": null,
   "id": "e24299d8-3114-4643-94a0-097b9c7a73ef",
   "metadata": {},
   "outputs": [],
   "source": []
  }
 ],
 "metadata": {
  "kernelspec": {
   "display_name": "Python 3 (ipykernel)",
   "language": "python",
   "name": "python3"
  },
  "language_info": {
   "codemirror_mode": {
    "name": "ipython",
    "version": 3
   },
   "file_extension": ".py",
   "mimetype": "text/x-python",
   "name": "python",
   "nbconvert_exporter": "python",
   "pygments_lexer": "ipython3",
   "version": "3.10.16"
  }
 },
 "nbformat": 4,
 "nbformat_minor": 5
}
