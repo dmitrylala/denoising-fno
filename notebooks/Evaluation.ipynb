{
 "cells": [
  {
   "cell_type": "code",
   "execution_count": 1,
   "id": "a9457bc3-a2bf-4de9-ae89-b0306648d868",
   "metadata": {},
   "outputs": [],
   "source": [
    "%load_ext autoreload\n",
    "%autoreload 2"
   ]
  },
  {
   "cell_type": "code",
   "execution_count": 2,
   "id": "5a3db0e7-dc1e-44fb-b97b-2d43745d9043",
   "metadata": {},
   "outputs": [],
   "source": [
    "import neuralop\n",
    "import torch\n",
    "from torch import nn\n",
    "\n",
    "from denoising import (\n",
    "    DatasetRegistry,\n",
    "    ModelRegistry,\n",
    ")\n",
    "from config import (\n",
    "    Environment,\n",
    "    get_model_configs,\n",
    "    get_datasets_configs,\n",
    ")"
   ]
  },
  {
   "cell_type": "code",
   "execution_count": 3,
   "id": "ea98d940-e0d8-467b-8e80-1693f5b5f29a",
   "metadata": {},
   "outputs": [
    {
     "name": "stdout",
     "output_type": "stream",
     "text": [
      "torch 2.6.0+cu124\n",
      "neuralop 1.0.2\n"
     ]
    }
   ],
   "source": [
    "print('torch ' + torch.__version__)\n",
    "print('neuralop ' + neuralop.__version__)"
   ]
  },
  {
   "cell_type": "code",
   "execution_count": 4,
   "id": "df1890e9-0801-4888-899f-5b058794e67e",
   "metadata": {},
   "outputs": [
    {
     "name": "stdout",
     "output_type": "stream",
     "text": [
      "Weights_dir: /home/d.nesterov/denoising-fno/notebooks\n"
     ]
    }
   ],
   "source": [
    "# загружаем переменные окружения\n",
    "env = Environment(_env_file='../env')\n",
    "print(f'Weights_dir: {env.weights}')"
   ]
  },
  {
   "cell_type": "markdown",
   "id": "bd35ccb4-c965-4458-93c8-b15c970f789f",
   "metadata": {},
   "source": [
    "# Инициализация датасетов"
   ]
  },
  {
   "cell_type": "code",
   "execution_count": 5,
   "id": "3db75f67-620a-4ca5-b51f-1726d18a8f6e",
   "metadata": {},
   "outputs": [
    {
     "name": "stdout",
     "output_type": "stream",
     "text": [
      "Got n_samples = 8380  in dataset mri_pm_train        with sample size = torch.Size([1, 145, 145])\n",
      "Got n_samples = 2093  in dataset mri_pm_test         with sample size = torch.Size([1, 145, 145])\n",
      "Got n_samples = 6704  in dataset mri_gt_train        with sample size = torch.Size([1, 145, 145])\n",
      "Got n_samples = 1676  in dataset mri_gt_val          with sample size = torch.Size([1, 145, 145])\n",
      "Got n_samples = 2093  in dataset mri_gt_test         with sample size = torch.Size([1, 145, 145])\n",
      "Got n_samples = 137   in dataset bsd_synth_0.01_train with sample size = torch.Size([1, 321, 481])\n",
      "Got n_samples = 77    in dataset bsd_synth_0.01_test with sample size = torch.Size([1, 321, 481])\n",
      "Got n_samples = 12296 in dataset sidd_train          with sample size = torch.Size([3, 512, 512])\n",
      "Got n_samples = 3008  in dataset sidd_test           with sample size = torch.Size([3, 512, 512])\n"
     ]
    },
    {
     "data": {
      "text/plain": [
       "DatasetRegistry(['mri_pm_train', 'mri_pm_test', 'mri_gt_train', 'mri_gt_val', 'mri_gt_test', 'bsd_synth_0.01_train', 'bsd_synth_0.01_test', 'sidd_train', 'sidd_test'])"
      ]
     },
     "execution_count": 5,
     "metadata": {},
     "output_type": "execute_result"
    }
   ],
   "source": [
    "dataset_registry = DatasetRegistry()\n",
    "dataset_registry.load(get_datasets_configs(env.data), verbose=True)\n",
    "dataset_registry"
   ]
  },
  {
   "cell_type": "markdown",
   "id": "8d3dd999-aff9-4087-932e-835c8d457f1f",
   "metadata": {},
   "source": [
    "# Инициализация моделей"
   ]
  },
  {
   "cell_type": "code",
   "execution_count": 6,
   "id": "7d1f152a-c947-40a9-bdd4-1a7a6f309ae5",
   "metadata": {},
   "outputs": [
    {
     "name": "stdout",
     "output_type": "stream",
     "text": [
      "Loaded  model mri-fno-neuralop with n_parameters = 2010449\n",
      "Loaded  model mri-fno-tucker   with n_parameters = 2010449\n",
      "Loaded  model mri-fno-dense    with n_parameters = 4476513\n",
      "Loaded  model mri-hno          with n_parameters = 1098977\n",
      "Loaded  model mri-hno-optuned  with n_parameters = 10552961\n",
      "Loaded  model mri-fno-optuned  with n_parameters = 4197273\n",
      "Loaded  model mri-hno-gt-optuned with n_parameters = 4223585\n",
      "Loaded  model mri-fno-gt-optuned with n_parameters = 212765\n",
      "Loaded  model sidd-fno-run2    with n_parameters = 2011091\n",
      "Loaded  model sidd-fno-run3    with n_parameters = 2011091\n",
      "Loaded  model sidd-fno-run4    with n_parameters = 2028627\n",
      "Loaded  model bsd-fno          with n_parameters = 2010449\n"
     ]
    },
    {
     "data": {
      "text/plain": [
       "ModelRegistry(['mri-fno-neuralop', 'mri-fno-tucker', 'mri-fno-dense', 'mri-hno', 'mri-hno-optuned', 'mri-fno-optuned', 'mri-hno-gt-optuned', 'mri-fno-gt-optuned', 'sidd-fno-run2', 'sidd-fno-run3', 'sidd-fno-run4', 'bsd-fno'])"
      ]
     },
     "execution_count": 6,
     "metadata": {},
     "output_type": "execute_result"
    }
   ],
   "source": [
    "model_registry = ModelRegistry()\n",
    "model_registry.load(\n",
    "    get_model_configs(env.weights), random_seed=42, device='cpu', verbose=True\n",
    ")\n",
    "model_registry"
   ]
  },
  {
   "cell_type": "markdown",
   "id": "58e2e872-1be8-4e66-8c05-6099b9f8b935",
   "metadata": {},
   "source": [
    "# Инференс и подсчет метрик"
   ]
  },
  {
   "cell_type": "code",
   "execution_count": 8,
   "id": "779cb6e8-3838-4381-8a19-fd5a00f79743",
   "metadata": {},
   "outputs": [],
   "source": [
    "from torchmetrics.image import StructuralSimilarityIndexMeasure as SSIM\n",
    "from torchmetrics.image import PeakSignalNoiseRatio as PSNR\n",
    "\n",
    "from denoising import Metrics\n",
    "from config import make_metric_config"
   ]
  },
  {
   "cell_type": "code",
   "execution_count": 10,
   "id": "461c5190-90bd-4a75-8ecb-b69dff766ba5",
   "metadata": {},
   "outputs": [],
   "source": [
    "metrics = Metrics([\n",
    "    make_metric_config('ssim', SSIM, {'data_range': 1.0}),\n",
    "    make_metric_config('psnr', PSNR, {}),\n",
    "])"
   ]
  },
  {
   "cell_type": "code",
   "execution_count": 11,
   "id": "088ee1a0-0c6b-4b7b-916e-e5343be467fc",
   "metadata": {},
   "outputs": [
    {
     "name": "stdout",
     "output_type": "stream",
     "text": [
      "Available datasets: DatasetRegistry(['mri_pm_train', 'mri_pm_test', 'mri_gt_train', 'mri_gt_val', 'mri_gt_test', 'bsd_synth_0.01_train', 'bsd_synth_0.01_test', 'sidd_train', 'sidd_test'])\n",
      "Available models:   ModelRegistry(['mri-fno-neuralop', 'mri-fno-tucker', 'mri-fno-dense', 'mri-hno', 'mri-hno-optuned', 'mri-fno-optuned', 'mri-hno-gt-optuned', 'mri-fno-gt-optuned', 'sidd-fno-run2', 'sidd-fno-run3', 'sidd-fno-run4', 'bsd-fno'])\n",
      "Metrics to compute: Metrics(['ssim', 'psnr'])\n"
     ]
    }
   ],
   "source": [
    "print(f'Available datasets: {dataset_registry}')\n",
    "print(f'Available models:   {model_registry}')\n",
    "print(f'Metrics to compute: {metrics}')"
   ]
  },
  {
   "cell_type": "code",
   "execution_count": 12,
   "id": "4e8a7401-d644-493b-b5a3-520cbc4e8664",
   "metadata": {},
   "outputs": [],
   "source": [
    "from denoising import Evaluator"
   ]
  },
  {
   "cell_type": "code",
   "execution_count": 13,
   "id": "27c2641c-047f-4d42-9a34-bce36ba3e988",
   "metadata": {},
   "outputs": [],
   "source": [
    "ev = Evaluator(model_registry, dataset_registry, metrics, device='cuda:2')"
   ]
  },
  {
   "cell_type": "code",
   "execution_count": 16,
   "id": "e35542f6-b765-4e36-8ef5-8e59b918d126",
   "metadata": {},
   "outputs": [
    {
     "name": "stdout",
     "output_type": "stream",
     "text": [
      "Computing predicts for ('mri-hno-optuned', 'mri_pm_test') from model\n"
     ]
    },
    {
     "name": "stderr",
     "output_type": "stream",
     "text": [
      "100%|██████████████████████████████████████████████████████████████████████████████████████████████████████████████████████████████████████████████████████████████████| 17/17 [00:09<00:00,  1.70it/s]\n"
     ]
    },
    {
     "name": "stdout",
     "output_type": "stream",
     "text": [
      "Saved predicts for ('mri-hno-optuned', 'mri_pm_test') to cache\n",
      "Computing predicts for ('mri-fno-optuned', 'mri_pm_test') from model\n"
     ]
    },
    {
     "name": "stderr",
     "output_type": "stream",
     "text": [
      "100%|██████████████████████████████████████████████████████████████████████████████████████████████████████████████████████████████████████████████████████████████████| 17/17 [00:05<00:00,  2.89it/s]\n"
     ]
    },
    {
     "name": "stdout",
     "output_type": "stream",
     "text": [
      "Saved predicts for ('mri-fno-optuned', 'mri_pm_test') to cache\n",
      "Computing predicts for ('mri-hno-gt-optuned', 'mri_pm_test') from model\n"
     ]
    },
    {
     "name": "stderr",
     "output_type": "stream",
     "text": [
      "100%|██████████████████████████████████████████████████████████████████████████████████████████████████████████████████████████████████████████████████████████████████| 17/17 [00:04<00:00,  3.44it/s]\n"
     ]
    },
    {
     "name": "stdout",
     "output_type": "stream",
     "text": [
      "Saved predicts for ('mri-hno-gt-optuned', 'mri_pm_test') to cache\n",
      "Computing predicts for ('mri-fno-gt-optuned', 'mri_pm_test') from model\n"
     ]
    },
    {
     "name": "stderr",
     "output_type": "stream",
     "text": [
      "100%|██████████████████████████████████████████████████████████████████████████████████████████████████████████████████████████████████████████████████████████████████| 17/17 [00:02<00:00,  7.47it/s]\n"
     ]
    },
    {
     "name": "stdout",
     "output_type": "stream",
     "text": [
      "Saved predicts for ('mri-fno-gt-optuned', 'mri_pm_test') to cache\n"
     ]
    }
   ],
   "source": [
    "m_mri_pm = ev.evaluate(\n",
    "    [\n",
    "        'mri-hno-optuned',\n",
    "        'mri-fno-optuned',\n",
    "\n",
    "        'mri-hno-gt-optuned',\n",
    "        'mri-fno-gt-optuned',\n",
    "        \n",
    "        'mri_pm_test',\n",
    "    ],\n",
    "    # 'mri_gt_test',\n",
    "    'mri_pm_test',\n",
    "    batch_size=128,\n",
    "    skip_cache=True,\n",
    ")"
   ]
  },
  {
   "cell_type": "code",
   "execution_count": 23,
   "id": "ea0c1774-16ea-49b5-9cac-9316675b8e6f",
   "metadata": {},
   "outputs": [
    {
     "name": "stdout",
     "output_type": "stream",
     "text": [
      "Retrieving predicts for ('sidd-fno-run4', 'sidd_test') from cache\n"
     ]
    },
    {
     "data": {
      "text/plain": [
       "{'sidd-fno-run4_ssim': tensor(0.5579)}"
      ]
     },
     "execution_count": 23,
     "metadata": {},
     "output_type": "execute_result"
    }
   ],
   "source": [
    "m_sidd = ev.evaluate(\n",
    "    ['sidd-fno-run4'],\n",
    "    # ['sidd-fno-run4', 'sidd-hno-run5'],\n",
    "    'sidd_test',\n",
    "    batch_size=32,\n",
    ")\n",
    "m_sidd"
   ]
  },
  {
   "cell_type": "code",
   "execution_count": 27,
   "id": "66b96ddf-4761-4bd9-bdba-b17b24b2041b",
   "metadata": {},
   "outputs": [
    {
     "name": "stdout",
     "output_type": "stream",
     "text": [
      "Computing predicts for ('bsd-fno', 'bsd_synth_0.01_test') from model\n"
     ]
    },
    {
     "name": "stderr",
     "output_type": "stream",
     "text": [
      "100%|█████████████████████████████████████████████████████████████████████████████████████████████████████████████████████████████████████████████████████████████████████| 1/1 [00:01<00:00,  1.63s/it]\n"
     ]
    },
    {
     "name": "stdout",
     "output_type": "stream",
     "text": [
      "Saved predicts for ('bsd-fno', 'bsd_synth_0.01_test') to cache\n"
     ]
    },
    {
     "data": {
      "text/plain": [
       "{'bsd-fno_ssim': tensor(0.1189)}"
      ]
     },
     "execution_count": 27,
     "metadata": {},
     "output_type": "execute_result"
    }
   ],
   "source": [
    "m_bsd = ev.evaluate(['bsd-fno'], 'bsd_synth_0.01_test', batch_size=128)\n",
    "m_bsd"
   ]
  },
  {
   "cell_type": "code",
   "execution_count": null,
   "id": "2936bfb9-c1fa-4105-8c38-a8d246906717",
   "metadata": {},
   "outputs": [],
   "source": []
  },
  {
   "cell_type": "code",
   "execution_count": 15,
   "id": "94d7ab9a-5b91-4f47-a0ac-af5e1d4869fd",
   "metadata": {},
   "outputs": [
    {
     "data": {
      "text/plain": [
       "{'mri-hno-optuned_ssim': tensor(0.9240),\n",
       " 'mri-hno-optuned_psnr': tensor(31.9885),\n",
       " 'mri-fno-optuned_ssim': tensor(0.9170),\n",
       " 'mri-fno-optuned_psnr': tensor(31.9722),\n",
       " 'mri-hno-gt-optuned_ssim': tensor(0.9635),\n",
       " 'mri-hno-gt-optuned_psnr': tensor(37.5799),\n",
       " 'mri-fno-gt-optuned_ssim': tensor(0.9585),\n",
       " 'mri-fno-gt-optuned_psnr': tensor(35.8506),\n",
       " 'mri_pm_test_ssim': tensor(0.9360),\n",
       " 'mri_pm_test_psnr': tensor(32.0755)}"
      ]
     },
     "execution_count": 15,
     "metadata": {},
     "output_type": "execute_result"
    }
   ],
   "source": [
    "m_mri"
   ]
  },
  {
   "cell_type": "code",
   "execution_count": 17,
   "id": "948be829-432c-4298-85b1-d092ec5cf98e",
   "metadata": {},
   "outputs": [
    {
     "data": {
      "text/plain": [
       "{'mri-hno-optuned_ssim': tensor(0.9756),\n",
       " 'mri-hno-optuned_psnr': tensor(46.2849),\n",
       " 'mri-fno-optuned_ssim': tensor(0.9652),\n",
       " 'mri-fno-optuned_psnr': tensor(46.0216),\n",
       " 'mri-hno-gt-optuned_ssim': tensor(0.9406),\n",
       " 'mri-hno-gt-optuned_psnr': tensor(34.0859),\n",
       " 'mri-fno-gt-optuned_ssim': tensor(0.9452),\n",
       " 'mri-fno-gt-optuned_psnr': tensor(34.2670),\n",
       " 'mri_pm_test_ssim': tensor(1.),\n",
       " 'mri_pm_test_psnr': tensor(inf)}"
      ]
     },
     "execution_count": 17,
     "metadata": {},
     "output_type": "execute_result"
    }
   ],
   "source": [
    "m_mri_pm"
   ]
  },
  {
   "cell_type": "code",
   "execution_count": 21,
   "id": "e7ef1789-b7d6-402d-9bd6-33ef3be6f8e8",
   "metadata": {},
   "outputs": [
    {
     "data": {
      "text/plain": [
       "{'sidd-fno-run2_ssim': tensor(0.8911),\n",
       " 'sidd-fno-run3_ssim': tensor(0.8871),\n",
       " 'sidd-fno-run4_ssim': tensor(0.9105)}"
      ]
     },
     "execution_count": 21,
     "metadata": {},
     "output_type": "execute_result"
    }
   ],
   "source": [
    "m_sidd"
   ]
  },
  {
   "cell_type": "code",
   "execution_count": 31,
   "id": "fd70f860-87f9-4ddb-94e0-70d8d1de650b",
   "metadata": {},
   "outputs": [
    {
     "data": {
      "text/plain": [
       "{'bsd-fno_ssim': tensor(0.1189)}"
      ]
     },
     "execution_count": 31,
     "metadata": {},
     "output_type": "execute_result"
    }
   ],
   "source": [
    "m_bsd"
   ]
  },
  {
   "cell_type": "code",
   "execution_count": null,
   "id": "cd7ecdd5-a012-459c-b805-0f000196e0e7",
   "metadata": {},
   "outputs": [],
   "source": []
  },
  {
   "cell_type": "markdown",
   "id": "26e318a4-5c7a-47b8-a00a-e65eb6dffb8b",
   "metadata": {},
   "source": [
    "# Подсчет inference time"
   ]
  },
  {
   "cell_type": "code",
   "execution_count": 7,
   "id": "7586b9a5-2a3f-408e-8e15-31a49a81260a",
   "metadata": {},
   "outputs": [],
   "source": [
    "import time\n",
    "from tqdm import tqdm\n",
    "\n",
    "from denoising.models.utils import count_parameters"
   ]
  },
  {
   "cell_type": "code",
   "execution_count": 10,
   "id": "ad6866c0-2e88-46ee-95c3-dd5d5ba4cc2b",
   "metadata": {},
   "outputs": [],
   "source": [
    "@torch.no_grad()\n",
    "def compute_mean_inf_time(m: nn.Module, dl: torch.utils.data.DataLoader, device: str = 'cpu') -> float:\n",
    "    m = m.to(device)\n",
    "    times = []\n",
    "    for batch in tqdm(dl):\n",
    "        b = {k: v.to(device) for k, v in batch.items()}\n",
    "        s = time.perf_counter()\n",
    "        _ = m(**b)\n",
    "        e = time.perf_counter()\n",
    "        times.append(e - s)\n",
    "    m = m.to('cpu')\n",
    "    return float(torch.Tensor(times).mean())\n",
    "\n",
    "def fmt_s(s: float) -> str:\n",
    "    return f'{round(s * 1000, 2)}'"
   ]
  },
  {
   "cell_type": "code",
   "execution_count": 9,
   "id": "ed8ba756-61a7-4a8e-b5dc-4e02895aad10",
   "metadata": {},
   "outputs": [
    {
     "name": "stdout",
     "output_type": "stream",
     "text": [
      "FNO params: 212765, HNO params: 4223585\n"
     ]
    }
   ],
   "source": [
    "fno = model_registry['mri-fno-gt-optuned']\n",
    "hno = model_registry['mri-hno-gt-optuned']\n",
    "dl = dataset_registry.make_dl('mri_pm_train', 1)\n",
    "\n",
    "print(f'FNO params: {count_parameters(fno)}, HNO params: {count_parameters(hno)}')"
   ]
  },
  {
   "cell_type": "code",
   "execution_count": 60,
   "id": "7bd4eb19-29cd-462b-9e28-10333983a854",
   "metadata": {},
   "outputs": [
    {
     "name": "stderr",
     "output_type": "stream",
     "text": [
      "100%|█████████████████████████████████████████████████████████████████████████████████████████████████████████████████████████████████████████████████████████████| 8380/8380 [00:31<00:00, 264.37it/s]\n"
     ]
    },
    {
     "data": {
      "text/plain": [
       "0.002874373458325863"
      ]
     },
     "execution_count": 60,
     "metadata": {},
     "output_type": "execute_result"
    }
   ],
   "source": [
    "fno_t = compute_mean_inf_time(fno, dl, 'cuda:2')\n",
    "fmt_s(fno_t)"
   ]
  },
  {
   "cell_type": "code",
   "execution_count": 61,
   "id": "6c029f62-4a44-4850-8e12-bbb5349d4112",
   "metadata": {},
   "outputs": [
    {
     "name": "stderr",
     "output_type": "stream",
     "text": [
      "100%|█████████████████████████████████████████████████████████████████████████████████████████████████████████████████████████████████████████████████████████████| 8380/8380 [00:46<00:00, 179.48it/s]\n"
     ]
    },
    {
     "data": {
      "text/plain": [
       "0.004645488224923611"
      ]
     },
     "execution_count": 61,
     "metadata": {},
     "output_type": "execute_result"
    }
   ],
   "source": [
    "hno_t = compute_mean_inf_time(hno, dl, 'cuda:2')\n",
    "fmt_s(hno_t)"
   ]
  },
  {
   "cell_type": "code",
   "execution_count": null,
   "id": "fa431b20-c52c-4acf-9a5c-30ffa9c523e8",
   "metadata": {},
   "outputs": [],
   "source": []
  },
  {
   "cell_type": "code",
   "execution_count": null,
   "id": "e9354544-4170-451d-84df-753f9da436d4",
   "metadata": {},
   "outputs": [],
   "source": []
  },
  {
   "cell_type": "code",
   "execution_count": null,
   "id": "b8cc6abf-33f4-4f3c-bac6-885933c0b708",
   "metadata": {},
   "outputs": [],
   "source": []
  }
 ],
 "metadata": {
  "kernelspec": {
   "display_name": "Python 3 (ipykernel)",
   "language": "python",
   "name": "python3"
  },
  "language_info": {
   "codemirror_mode": {
    "name": "ipython",
    "version": 3
   },
   "file_extension": ".py",
   "mimetype": "text/x-python",
   "name": "python",
   "nbconvert_exporter": "python",
   "pygments_lexer": "ipython3",
   "version": "3.10.16"
  }
 },
 "nbformat": 4,
 "nbformat_minor": 5
}
