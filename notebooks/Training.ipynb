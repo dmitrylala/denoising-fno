{
 "cells": [
  {
   "cell_type": "code",
   "execution_count": 1,
   "id": "b9e79dad-2e4f-41ad-93db-b5f1753f4a13",
   "metadata": {},
   "outputs": [],
   "source": [
    "%load_ext autoreload\n",
    "%autoreload 2"
   ]
  },
  {
   "cell_type": "code",
   "execution_count": 2,
   "id": "647d0ede-50b7-40c3-a82d-ae8820fbd332",
   "metadata": {},
   "outputs": [],
   "source": [
    "from pathlib import Path\n",
    "\n",
    "import torch\n",
    "import wandb\n",
    "\n",
    "from config import Environment, TrainConfig\n",
    "from denoising.train import prepare_training\n",
    "from denoising.utils import seed_everything"
   ]
  },
  {
   "cell_type": "code",
   "execution_count": 3,
   "id": "97b1935f-8883-4494-98f2-314a7e8127d3",
   "metadata": {},
   "outputs": [
    {
     "name": "stderr",
     "output_type": "stream",
     "text": [
      "\u001b[34m\u001b[1mwandb\u001b[0m: Using wandb-core as the SDK backend.  Please refer to https://wandb.me/wandb-core for more information.\n",
      "\u001b[34m\u001b[1mwandb\u001b[0m: \u001b[33mWARNING\u001b[0m If you're specifying your api key in code, ensure this code is not shared publicly.\n",
      "\u001b[34m\u001b[1mwandb\u001b[0m: \u001b[33mWARNING\u001b[0m Consider setting the WANDB_API_KEY environment variable, or running `wandb login` from the command line.\n",
      "\u001b[34m\u001b[1mwandb\u001b[0m: Appending key for api.wandb.ai to your netrc file: /home/d.nesterov/.netrc\n",
      "\u001b[34m\u001b[1mwandb\u001b[0m: Currently logged in as: \u001b[33mdmitrylala\u001b[0m to \u001b[32mhttps://api.wandb.ai\u001b[0m. Use \u001b[1m`wandb login --relogin`\u001b[0m to force relogin\n"
     ]
    },
    {
     "data": {
      "text/plain": [
       "True"
      ]
     },
     "execution_count": 3,
     "metadata": {},
     "output_type": "execute_result"
    }
   ],
   "source": [
    "CWD = Path.cwd()\n",
    "env = Environment(_env_file=CWD / '../env')\n",
    "wandb.login(key=env.wandb_api_key)"
   ]
  },
  {
   "cell_type": "markdown",
   "id": "7d99881a-a80e-4612-ae43-e5d6e8af5f15",
   "metadata": {},
   "source": [
    "# Конфиг обучения и подготовка"
   ]
  },
  {
   "cell_type": "code",
   "execution_count": 4,
   "id": "cb0d707b-973d-49d8-9355-194f77abd650",
   "metadata": {},
   "outputs": [],
   "source": [
    "run_idx = 30\n",
    "save_dir = CWD / 'mri'\n",
    "\n",
    "# HNO optuned params\n",
    "#     n_layers: 10\n",
    "#     hidden_channels: 16\n",
    "#     n_modes: 16\n",
    "#     lifting_channel_ratio: 32\n",
    "#     projection_channel_ratio: 8\n",
    "#     lr: 0.00433647012426727\n",
    "\n",
    "# FNO optuned params\n",
    "#     n_layers: 15\n",
    "#     hidden_channels: 16\n",
    "#     n_modes: 32\n",
    "#     lifting_channel_ratio: 32\n",
    "#     projection_channel_ratio: 2\n",
    "#     lr: 0.006055187761870968\n",
    "\n",
    "\n",
    "cfg = TrainConfig(\n",
    "    # Datasets params\n",
    "    train_dset='mri_pm_train',\n",
    "    test_dset='mri_pm_test',\n",
    "    train_batch_size=64,\n",
    "    test_batch_size=128,\n",
    "    # Model params\n",
    "    name_model='mri-fno-optuned',\n",
    "    cfg_fno={\n",
    "        'n_modes': (32, 32),\n",
    "        'in_channels': 1,\n",
    "        'hidden_channels': 16,\n",
    "        'lifting_channel_ratio': 32,\n",
    "        'projection_channel_ratio': 2,\n",
    "        'out_channels': 1,\n",
    "        'factorization': 'dense',\n",
    "        'n_layers': 15,\n",
    "        'rank': 0.42,\n",
    "    },\n",
    "    # Run params\n",
    "    random_seed=42,\n",
    "    device='cuda:2',\n",
    "    run_name=f'Run {run_idx}, FNO optuned',\n",
    "    save_weights_path=save_dir / f'run-{run_idx}-weights.pt',\n",
    "    # Train params\n",
    "    n_epochs=91,\n",
    "    lr=0.00606,\n",
    "    wandb_log=True,\n",
    "    save_dir=save_dir / f'run-{run_idx}',\n",
    "    verbose=True,\n",
    ")"
   ]
  },
  {
   "cell_type": "code",
   "execution_count": 5,
   "id": "b46d2e49-93f6-49f7-9b99-d83c578f8b8b",
   "metadata": {},
   "outputs": [
    {
     "name": "stdout",
     "output_type": "stream",
     "text": [
      "Got n_samples = 8380  in dataset mri_pm_train        with sample size = torch.Size([1, 145, 145])\n",
      "Got n_samples = 2093  in dataset mri_pm_test         with sample size = torch.Size([1, 145, 145])\n",
      "Got n_samples = 2093  in dataset mri_gt_test         with sample size = torch.Size([1, 145, 145])\n",
      "Got n_samples = 137   in dataset bsd_synth_0.01_train with sample size = torch.Size([1, 321, 481])\n",
      "Got n_samples = 77    in dataset bsd_synth_0.01_test with sample size = torch.Size([1, 321, 481])\n",
      "Got n_samples = 12296 in dataset sidd_train          with sample size = torch.Size([3, 512, 512])\n",
      "Got n_samples = 3008  in dataset sidd_test           with sample size = torch.Size([3, 512, 512])\n",
      "torch.Size([64, 1, 145, 145]) torch.Size([64, 1, 145, 145])\n",
      "Loaded  model mri-fno-neuralop with n_parameters = 2010449\n",
      "Loaded  model mri-fno-tucker   with n_parameters = 2010449\n",
      "Loaded  model mri-fno-dense    with n_parameters = 4476513\n",
      "Loaded  model mri-hno          with n_parameters = 1098977\n",
      "Loaded  model sidd-fno-run2    with n_parameters = 2011091\n",
      "Loaded  model sidd-fno-run3    with n_parameters = 2011091\n",
      "Loaded  model sidd-fno-run4    with n_parameters = 2028627\n",
      "Loaded  model bsd-fno          with n_parameters = 2010449\n",
      "Created model mri-fno-optuned  with n_parameters = 4197273\n"
     ]
    },
    {
     "data": {
      "text/html": [
       "Tracking run with wandb version 0.19.9"
      ],
      "text/plain": [
       "<IPython.core.display.HTML object>"
      ]
     },
     "metadata": {},
     "output_type": "display_data"
    },
    {
     "data": {
      "text/html": [
       "Run data is saved locally in <code>/home/d.nesterov/denoising-fno/notebooks/wandb/run-20250419_221923-mr33i5ts</code>"
      ],
      "text/plain": [
       "<IPython.core.display.HTML object>"
      ]
     },
     "metadata": {},
     "output_type": "display_data"
    },
    {
     "data": {
      "text/html": [
       "Syncing run <strong><a href='https://wandb.ai/dmitrylala/Denoising%20MRI/runs/mr33i5ts' target=\"_blank\">Run 30, FNO optuned</a></strong> to <a href='https://wandb.ai/dmitrylala/Denoising%20MRI' target=\"_blank\">Weights & Biases</a> (<a href='https://wandb.me/developer-guide' target=\"_blank\">docs</a>)<br>"
      ],
      "text/plain": [
       "<IPython.core.display.HTML object>"
      ]
     },
     "metadata": {},
     "output_type": "display_data"
    },
    {
     "data": {
      "text/html": [
       " View project at <a href='https://wandb.ai/dmitrylala/Denoising%20MRI' target=\"_blank\">https://wandb.ai/dmitrylala/Denoising%20MRI</a>"
      ],
      "text/plain": [
       "<IPython.core.display.HTML object>"
      ]
     },
     "metadata": {},
     "output_type": "display_data"
    },
    {
     "data": {
      "text/html": [
       " View run at <a href='https://wandb.ai/dmitrylala/Denoising%20MRI/runs/mr33i5ts' target=\"_blank\">https://wandb.ai/dmitrylala/Denoising%20MRI/runs/mr33i5ts</a>"
      ],
      "text/plain": [
       "<IPython.core.display.HTML object>"
      ]
     },
     "metadata": {},
     "output_type": "display_data"
    },
    {
     "name": "stdout",
     "output_type": "stream",
     "text": [
      "Logging to wandb enabled: True\n"
     ]
    }
   ],
   "source": [
    "trainer, train_kwargs, run = prepare_training(env, cfg)"
   ]
  },
  {
   "cell_type": "markdown",
   "id": "02f40e6b-94c7-4047-851e-cbed41b49dfc",
   "metadata": {},
   "source": [
    "# Запуск"
   ]
  },
  {
   "cell_type": "code",
   "execution_count": 8,
   "id": "e24299d8-3114-4643-94a0-097b9c7a73ef",
   "metadata": {
    "scrolled": true
   },
   "outputs": [
    {
     "name": "stdout",
     "output_type": "stream",
     "text": [
      "Training on 8380 samples\n",
      "Testing on [2093] samples         on resolutions ['test'].\n",
      "Raw outputs of shape torch.Size([64, 1, 145, 145])\n",
      "[0] time=52.37, avg_loss=0.1622, train_err=10.3762\n",
      "Eval: test_h1=0.0993, test_l2=0.0560\n",
      "Saved training state to /home/d.nesterov/denoising-fno/notebooks/mri/run-30\n",
      "[1] time=50.79, avg_loss=0.0982, train_err=6.2804\n",
      "Eval: test_h1=0.0932, test_l2=0.0544\n",
      "Saved training state to /home/d.nesterov/denoising-fno/notebooks/mri/run-30\n",
      "[2] time=50.62, avg_loss=0.0932, train_err=5.9610\n",
      "Eval: test_h1=0.0894, test_l2=0.0399\n",
      "Saved training state to /home/d.nesterov/denoising-fno/notebooks/mri/run-30\n",
      "[3] time=51.84, avg_loss=0.0886, train_err=5.6674\n",
      "Eval: test_h1=0.0858, test_l2=0.0579\n",
      "Saved training state to /home/d.nesterov/denoising-fno/notebooks/mri/run-30\n",
      "[4] time=51.48, avg_loss=0.0851, train_err=5.4443\n",
      "Eval: test_h1=0.0838, test_l2=0.0327\n",
      "Saved training state to /home/d.nesterov/denoising-fno/notebooks/mri/run-30\n",
      "[5] time=50.19, avg_loss=0.0827, train_err=5.2913\n",
      "Eval: test_h1=0.0797, test_l2=0.0325\n",
      "Saved training state to /home/d.nesterov/denoising-fno/notebooks/mri/run-30\n",
      "[6] time=50.76, avg_loss=0.0809, train_err=5.1746\n",
      "Eval: test_h1=0.0835, test_l2=0.0419\n",
      "Saved training state to /home/d.nesterov/denoising-fno/notebooks/mri/run-30\n",
      "[7] time=51.64, avg_loss=0.0794, train_err=5.0762\n",
      "Eval: test_h1=0.0775, test_l2=0.0335\n",
      "Saved training state to /home/d.nesterov/denoising-fno/notebooks/mri/run-30\n",
      "[8] time=51.02, avg_loss=0.0778, train_err=4.9747\n",
      "Eval: test_h1=0.0761, test_l2=0.0301\n",
      "Saved training state to /home/d.nesterov/denoising-fno/notebooks/mri/run-30\n",
      "[9] time=52.52, avg_loss=0.0765, train_err=4.8968\n",
      "Eval: test_h1=0.0749, test_l2=0.0284\n",
      "Saved training state to /home/d.nesterov/denoising-fno/notebooks/mri/run-30\n",
      "[10] time=52.51, avg_loss=0.0754, train_err=4.8257\n",
      "Eval: test_h1=0.0750, test_l2=0.0285\n",
      "Saved training state to /home/d.nesterov/denoising-fno/notebooks/mri/run-30\n",
      "[11] time=52.13, avg_loss=0.0748, train_err=4.7857\n",
      "Eval: test_h1=0.0744, test_l2=0.0306\n",
      "Saved training state to /home/d.nesterov/denoising-fno/notebooks/mri/run-30\n",
      "[12] time=52.63, avg_loss=0.0738, train_err=4.7228\n",
      "Eval: test_h1=0.0733, test_l2=0.0323\n",
      "Saved training state to /home/d.nesterov/denoising-fno/notebooks/mri/run-30\n",
      "[13] time=52.03, avg_loss=0.0732, train_err=4.6824\n",
      "Eval: test_h1=0.0722, test_l2=0.0329\n",
      "Saved training state to /home/d.nesterov/denoising-fno/notebooks/mri/run-30\n",
      "[14] time=52.36, avg_loss=0.0723, train_err=4.6223\n",
      "Eval: test_h1=0.0744, test_l2=0.0399\n",
      "Saved training state to /home/d.nesterov/denoising-fno/notebooks/mri/run-30\n",
      "[15] time=51.82, avg_loss=0.0718, train_err=4.5916\n",
      "Eval: test_h1=0.0717, test_l2=0.0363\n",
      "Saved training state to /home/d.nesterov/denoising-fno/notebooks/mri/run-30\n",
      "[16] time=52.06, avg_loss=0.0712, train_err=4.5519\n",
      "Eval: test_h1=0.0710, test_l2=0.0360\n",
      "Saved training state to /home/d.nesterov/denoising-fno/notebooks/mri/run-30\n",
      "[17] time=51.54, avg_loss=0.0707, train_err=4.5232\n",
      "Eval: test_h1=0.0707, test_l2=0.0361\n",
      "Saved training state to /home/d.nesterov/denoising-fno/notebooks/mri/run-30\n",
      "[18] time=52.67, avg_loss=0.0704, train_err=4.5038\n",
      "Eval: test_h1=0.0704, test_l2=0.0369\n",
      "Saved training state to /home/d.nesterov/denoising-fno/notebooks/mri/run-30\n",
      "[19] time=52.39, avg_loss=0.0700, train_err=4.4778\n",
      "Eval: test_h1=0.0701, test_l2=0.0370\n",
      "Saved training state to /home/d.nesterov/denoising-fno/notebooks/mri/run-30\n",
      "[20] time=52.24, avg_loss=0.0697, train_err=4.4559\n",
      "Eval: test_h1=0.0698, test_l2=0.0370\n",
      "Saved training state to /home/d.nesterov/denoising-fno/notebooks/mri/run-30\n",
      "[21] time=52.19, avg_loss=0.0695, train_err=4.4428\n",
      "Eval: test_h1=0.0696, test_l2=0.0385\n",
      "Saved training state to /home/d.nesterov/denoising-fno/notebooks/mri/run-30\n",
      "[22] time=52.02, avg_loss=0.0692, train_err=4.4271\n",
      "Eval: test_h1=0.0694, test_l2=0.0384\n",
      "Saved training state to /home/d.nesterov/denoising-fno/notebooks/mri/run-30\n",
      "[23] time=51.98, avg_loss=0.0690, train_err=4.4154\n",
      "Eval: test_h1=0.0693, test_l2=0.0389\n",
      "Saved training state to /home/d.nesterov/denoising-fno/notebooks/mri/run-30\n",
      "[24] time=51.95, avg_loss=0.0689, train_err=4.4059\n",
      "Eval: test_h1=0.0691, test_l2=0.0392\n",
      "Saved training state to /home/d.nesterov/denoising-fno/notebooks/mri/run-30\n",
      "[25] time=51.99, avg_loss=0.0687, train_err=4.3973\n",
      "Eval: test_h1=0.0690, test_l2=0.0393\n",
      "Saved training state to /home/d.nesterov/denoising-fno/notebooks/mri/run-30\n",
      "[26] time=51.88, avg_loss=0.0686, train_err=4.3910\n",
      "Eval: test_h1=0.0689, test_l2=0.0391\n",
      "Saved training state to /home/d.nesterov/denoising-fno/notebooks/mri/run-30\n",
      "[27] time=52.12, avg_loss=0.0686, train_err=4.3860\n",
      "Eval: test_h1=0.0688, test_l2=0.0392\n",
      "Saved training state to /home/d.nesterov/denoising-fno/notebooks/mri/run-30\n",
      "[28] time=52.07, avg_loss=0.0685, train_err=4.3825\n",
      "Eval: test_h1=0.0688, test_l2=0.0394\n",
      "Saved training state to /home/d.nesterov/denoising-fno/notebooks/mri/run-30\n",
      "[29] time=51.82, avg_loss=0.0685, train_err=4.3805\n",
      "Eval: test_h1=0.0688, test_l2=0.0393\n",
      "Saved training state to /home/d.nesterov/denoising-fno/notebooks/mri/run-30\n",
      "[30] time=52.46, avg_loss=0.0685, train_err=4.3797\n",
      "Eval: test_h1=0.0688, test_l2=0.0393\n",
      "Saved training state to /home/d.nesterov/denoising-fno/notebooks/mri/run-30\n",
      "[31] time=52.37, avg_loss=0.0685, train_err=4.3801\n",
      "Eval: test_h1=0.0688, test_l2=0.0393\n",
      "Saved training state to /home/d.nesterov/denoising-fno/notebooks/mri/run-30\n",
      "[32] time=52.44, avg_loss=0.0685, train_err=4.3811\n",
      "Eval: test_h1=0.0688, test_l2=0.0394\n",
      "Saved training state to /home/d.nesterov/denoising-fno/notebooks/mri/run-30\n",
      "[33] time=51.55, avg_loss=0.0685, train_err=4.3825\n",
      "Eval: test_h1=0.0688, test_l2=0.0395\n",
      "Saved training state to /home/d.nesterov/denoising-fno/notebooks/mri/run-30\n",
      "[34] time=50.92, avg_loss=0.0685, train_err=4.3838\n",
      "Eval: test_h1=0.0688, test_l2=0.0393\n",
      "Saved training state to /home/d.nesterov/denoising-fno/notebooks/mri/run-30\n",
      "[35] time=51.16, avg_loss=0.0686, train_err=4.3871\n",
      "Eval: test_h1=0.0688, test_l2=0.0395\n",
      "Saved training state to /home/d.nesterov/denoising-fno/notebooks/mri/run-30\n",
      "[36] time=50.81, avg_loss=0.0690, train_err=4.4143\n",
      "Eval: test_h1=0.0688, test_l2=0.0394\n",
      "Saved training state to /home/d.nesterov/denoising-fno/notebooks/mri/run-30\n",
      "[37] time=50.83, avg_loss=0.0694, train_err=4.4418\n",
      "Eval: test_h1=0.0689, test_l2=0.0403\n",
      "Saved training state to /home/d.nesterov/denoising-fno/notebooks/mri/run-30\n",
      "[38] time=50.67, avg_loss=0.0696, train_err=4.4515\n",
      "Eval: test_h1=0.0688, test_l2=0.0400\n",
      "Saved training state to /home/d.nesterov/denoising-fno/notebooks/mri/run-30\n",
      "[39] time=51.35, avg_loss=0.0695, train_err=4.4482\n",
      "Eval: test_h1=0.0693, test_l2=0.0391\n",
      "Saved training state to /home/d.nesterov/denoising-fno/notebooks/mri/run-30\n",
      "[40] time=51.01, avg_loss=0.0702, train_err=4.4897\n",
      "Eval: test_h1=0.0689, test_l2=0.0396\n",
      "Saved training state to /home/d.nesterov/denoising-fno/notebooks/mri/run-30\n",
      "[41] time=51.08, avg_loss=0.0706, train_err=4.5139\n",
      "Eval: test_h1=0.0694, test_l2=0.0407\n",
      "Saved training state to /home/d.nesterov/denoising-fno/notebooks/mri/run-30\n",
      "[42] time=51.00, avg_loss=0.0706, train_err=4.5138\n",
      "Eval: test_h1=0.0690, test_l2=0.0393\n",
      "Saved training state to /home/d.nesterov/denoising-fno/notebooks/mri/run-30\n",
      "[43] time=51.20, avg_loss=0.0707, train_err=4.5230\n",
      "Eval: test_h1=0.0690, test_l2=0.0395\n",
      "Saved training state to /home/d.nesterov/denoising-fno/notebooks/mri/run-30\n",
      "[44] time=51.04, avg_loss=0.0709, train_err=4.5327\n",
      "Eval: test_h1=0.0694, test_l2=0.0384\n",
      "Saved training state to /home/d.nesterov/denoising-fno/notebooks/mri/run-30\n",
      "[45] time=51.05, avg_loss=0.0705, train_err=4.5112\n",
      "Eval: test_h1=0.0699, test_l2=0.0380\n",
      "Saved training state to /home/d.nesterov/denoising-fno/notebooks/mri/run-30\n",
      "[46] time=50.46, avg_loss=0.0708, train_err=4.5278\n",
      "Eval: test_h1=0.0700, test_l2=0.0393\n",
      "Saved training state to /home/d.nesterov/denoising-fno/notebooks/mri/run-30\n",
      "[47] time=51.35, avg_loss=0.0706, train_err=4.5184\n",
      "Eval: test_h1=0.0693, test_l2=0.0367\n",
      "Saved training state to /home/d.nesterov/denoising-fno/notebooks/mri/run-30\n",
      "[48] time=51.85, avg_loss=0.0706, train_err=4.5155\n",
      "Eval: test_h1=0.0696, test_l2=0.0362\n",
      "Saved training state to /home/d.nesterov/denoising-fno/notebooks/mri/run-30\n",
      "[49] time=51.22, avg_loss=0.0709, train_err=4.5348\n",
      "Eval: test_h1=0.0699, test_l2=0.0347\n",
      "Saved training state to /home/d.nesterov/denoising-fno/notebooks/mri/run-30\n",
      "[50] time=51.43, avg_loss=0.0707, train_err=4.5202\n",
      "Eval: test_h1=0.0714, test_l2=0.0341\n",
      "Saved training state to /home/d.nesterov/denoising-fno/notebooks/mri/run-30\n",
      "[51] time=51.55, avg_loss=0.0705, train_err=4.5122\n",
      "Eval: test_h1=0.0694, test_l2=0.0350\n",
      "Saved training state to /home/d.nesterov/denoising-fno/notebooks/mri/run-30\n",
      "[52] time=51.46, avg_loss=0.0711, train_err=4.5463\n",
      "Eval: test_h1=0.0702, test_l2=0.0372\n",
      "Saved training state to /home/d.nesterov/denoising-fno/notebooks/mri/run-30\n",
      "[53] time=51.53, avg_loss=0.0706, train_err=4.5162\n",
      "Eval: test_h1=0.0698, test_l2=0.0361\n",
      "Saved training state to /home/d.nesterov/denoising-fno/notebooks/mri/run-30\n",
      "[54] time=50.86, avg_loss=0.0706, train_err=4.5141\n",
      "Eval: test_h1=0.0701, test_l2=0.0335\n",
      "Saved training state to /home/d.nesterov/denoising-fno/notebooks/mri/run-30\n",
      "[55] time=50.66, avg_loss=0.0701, train_err=4.4859\n",
      "Eval: test_h1=0.0695, test_l2=0.0320\n",
      "Saved training state to /home/d.nesterov/denoising-fno/notebooks/mri/run-30\n",
      "[56] time=51.24, avg_loss=0.0701, train_err=4.4818\n",
      "Eval: test_h1=0.0713, test_l2=0.0334\n",
      "Saved training state to /home/d.nesterov/denoising-fno/notebooks/mri/run-30\n",
      "[57] time=51.63, avg_loss=0.0701, train_err=4.4813\n",
      "Eval: test_h1=0.0703, test_l2=0.0340\n",
      "Saved training state to /home/d.nesterov/denoising-fno/notebooks/mri/run-30\n",
      "[58] time=51.47, avg_loss=0.0698, train_err=4.4674\n",
      "Eval: test_h1=0.0693, test_l2=0.0334\n",
      "Saved training state to /home/d.nesterov/denoising-fno/notebooks/mri/run-30\n",
      "[59] time=51.66, avg_loss=0.0699, train_err=4.4720\n",
      "Eval: test_h1=0.0703, test_l2=0.0343\n",
      "Saved training state to /home/d.nesterov/denoising-fno/notebooks/mri/run-30\n",
      "[60] time=51.60, avg_loss=0.0694, train_err=4.4415\n",
      "Eval: test_h1=0.0687, test_l2=0.0308\n",
      "Saved training state to /home/d.nesterov/denoising-fno/notebooks/mri/run-30\n",
      "[61] time=50.66, avg_loss=0.0694, train_err=4.4413\n",
      "Eval: test_h1=0.0686, test_l2=0.0289\n",
      "Saved training state to /home/d.nesterov/denoising-fno/notebooks/mri/run-30\n",
      "[62] time=51.19, avg_loss=0.0693, train_err=4.4338\n",
      "Eval: test_h1=0.0686, test_l2=0.0351\n",
      "Saved training state to /home/d.nesterov/denoising-fno/notebooks/mri/run-30\n",
      "[63] time=51.59, avg_loss=0.0691, train_err=4.4217\n",
      "Eval: test_h1=0.0687, test_l2=0.0281\n",
      "Saved training state to /home/d.nesterov/denoising-fno/notebooks/mri/run-30\n",
      "[64] time=51.07, avg_loss=0.0689, train_err=4.4086\n",
      "Eval: test_h1=0.0698, test_l2=0.0285\n",
      "Saved training state to /home/d.nesterov/denoising-fno/notebooks/mri/run-30\n",
      "[65] time=51.41, avg_loss=0.0685, train_err=4.3841\n",
      "Eval: test_h1=0.0693, test_l2=0.0287\n",
      "Saved training state to /home/d.nesterov/denoising-fno/notebooks/mri/run-30\n",
      "[66] time=51.17, avg_loss=0.0686, train_err=4.3860\n",
      "Eval: test_h1=0.0676, test_l2=0.0265\n",
      "Saved training state to /home/d.nesterov/denoising-fno/notebooks/mri/run-30\n",
      "[67] time=51.68, avg_loss=0.0683, train_err=4.3678\n",
      "Eval: test_h1=0.0682, test_l2=0.0274\n",
      "Saved training state to /home/d.nesterov/denoising-fno/notebooks/mri/run-30\n",
      "[68] time=51.72, avg_loss=0.0681, train_err=4.3541\n",
      "Eval: test_h1=0.0679, test_l2=0.0263\n",
      "Saved training state to /home/d.nesterov/denoising-fno/notebooks/mri/run-30\n",
      "[69] time=50.91, avg_loss=0.0679, train_err=4.3426\n",
      "Eval: test_h1=0.0684, test_l2=0.0257\n",
      "Saved training state to /home/d.nesterov/denoising-fno/notebooks/mri/run-30\n",
      "[70] time=51.11, avg_loss=0.0677, train_err=4.3320\n",
      "Eval: test_h1=0.0679, test_l2=0.0257\n",
      "Saved training state to /home/d.nesterov/denoising-fno/notebooks/mri/run-30\n",
      "[71] time=51.18, avg_loss=0.0675, train_err=4.3184\n",
      "Eval: test_h1=0.0683, test_l2=0.0270\n",
      "Saved training state to /home/d.nesterov/denoising-fno/notebooks/mri/run-30\n",
      "[72] time=51.19, avg_loss=0.0673, train_err=4.3069\n",
      "Eval: test_h1=0.0676, test_l2=0.0262\n",
      "Saved training state to /home/d.nesterov/denoising-fno/notebooks/mri/run-30\n",
      "[73] time=50.99, avg_loss=0.0672, train_err=4.2960\n",
      "Eval: test_h1=0.0673, test_l2=0.0250\n",
      "Saved training state to /home/d.nesterov/denoising-fno/notebooks/mri/run-30\n",
      "[74] time=51.62, avg_loss=0.0669, train_err=4.2816\n",
      "Eval: test_h1=0.0674, test_l2=0.0265\n",
      "Saved training state to /home/d.nesterov/denoising-fno/notebooks/mri/run-30\n",
      "[75] time=51.46, avg_loss=0.0668, train_err=4.2734\n",
      "Eval: test_h1=0.0669, test_l2=0.0247\n",
      "Saved training state to /home/d.nesterov/denoising-fno/notebooks/mri/run-30\n",
      "[76] time=51.48, avg_loss=0.0667, train_err=4.2652\n",
      "Eval: test_h1=0.0668, test_l2=0.0244\n",
      "Saved training state to /home/d.nesterov/denoising-fno/notebooks/mri/run-30\n",
      "[77] time=50.21, avg_loss=0.0665, train_err=4.2547\n",
      "Eval: test_h1=0.0667, test_l2=0.0242\n",
      "Saved training state to /home/d.nesterov/denoising-fno/notebooks/mri/run-30\n",
      "[78] time=51.08, avg_loss=0.0664, train_err=4.2498\n",
      "Eval: test_h1=0.0666, test_l2=0.0241\n",
      "Saved training state to /home/d.nesterov/denoising-fno/notebooks/mri/run-30\n",
      "[79] time=50.96, avg_loss=0.0662, train_err=4.2364\n",
      "Eval: test_h1=0.0664, test_l2=0.0241\n",
      "Saved training state to /home/d.nesterov/denoising-fno/notebooks/mri/run-30\n",
      "[80] time=51.12, avg_loss=0.0661, train_err=4.2305\n",
      "Eval: test_h1=0.0663, test_l2=0.0240\n",
      "Saved training state to /home/d.nesterov/denoising-fno/notebooks/mri/run-30\n",
      "[81] time=51.22, avg_loss=0.0660, train_err=4.2220\n",
      "Eval: test_h1=0.0662, test_l2=0.0237\n",
      "Saved training state to /home/d.nesterov/denoising-fno/notebooks/mri/run-30\n",
      "[82] time=51.55, avg_loss=0.0659, train_err=4.2139\n",
      "Eval: test_h1=0.0662, test_l2=0.0236\n",
      "Saved training state to /home/d.nesterov/denoising-fno/notebooks/mri/run-30\n",
      "[83] time=50.54, avg_loss=0.0658, train_err=4.2084\n",
      "Eval: test_h1=0.0660, test_l2=0.0236\n",
      "Saved training state to /home/d.nesterov/denoising-fno/notebooks/mri/run-30\n",
      "[84] time=51.33, avg_loss=0.0657, train_err=4.2014\n",
      "Eval: test_h1=0.0659, test_l2=0.0236\n",
      "Saved training state to /home/d.nesterov/denoising-fno/notebooks/mri/run-30\n",
      "[85] time=51.28, avg_loss=0.0656, train_err=4.1963\n",
      "Eval: test_h1=0.0659, test_l2=0.0236\n",
      "Saved training state to /home/d.nesterov/denoising-fno/notebooks/mri/run-30\n",
      "[86] time=51.39, avg_loss=0.0655, train_err=4.1919\n",
      "Eval: test_h1=0.0658, test_l2=0.0234\n",
      "Saved training state to /home/d.nesterov/denoising-fno/notebooks/mri/run-30\n",
      "[87] time=51.52, avg_loss=0.0655, train_err=4.1881\n",
      "Eval: test_h1=0.0658, test_l2=0.0235\n",
      "Saved training state to /home/d.nesterov/denoising-fno/notebooks/mri/run-30\n",
      "[88] time=50.98, avg_loss=0.0654, train_err=4.1853\n",
      "Eval: test_h1=0.0657, test_l2=0.0235\n",
      "Saved training state to /home/d.nesterov/denoising-fno/notebooks/mri/run-30\n",
      "[89] time=50.86, avg_loss=0.0654, train_err=4.1835\n",
      "Eval: test_h1=0.0657, test_l2=0.0234\n",
      "Saved training state to /home/d.nesterov/denoising-fno/notebooks/mri/run-30\n",
      "[90] time=50.50, avg_loss=0.0654, train_err=4.1828\n",
      "Eval: test_h1=0.0657, test_l2=0.0234\n",
      "Saved training state to /home/d.nesterov/denoising-fno/notebooks/mri/run-30\n"
     ]
    },
    {
     "data": {
      "text/plain": [
       "{'train_err': 4.182765813274238,\n",
       " 'avg_loss': 0.06538691187815336,\n",
       " 'epoch_train_time': 50.502768628299236,\n",
       " 'test_h1': tensor(0.0657, device='cuda:2'),\n",
       " 'test_l2': tensor(0.0234, device='cuda:2'),\n",
       " 'test_outputs': <wandb.sdk.data_types.image.Image at 0x7eff66d032b0>}"
      ]
     },
     "execution_count": 8,
     "metadata": {},
     "output_type": "execute_result"
    }
   ],
   "source": [
    "seed_everything(cfg.random_seed)\n",
    "trainer.train(**train_kwargs)"
   ]
  },
  {
   "cell_type": "code",
   "execution_count": 9,
   "id": "0fdd48a9-1cc2-46c3-84fc-3883ef341541",
   "metadata": {},
   "outputs": [
    {
     "data": {
      "text/html": [],
      "text/plain": [
       "<IPython.core.display.HTML object>"
      ]
     },
     "metadata": {},
     "output_type": "display_data"
    },
    {
     "data": {
      "text/html": [
       "<br>    <style><br>        .wandb-row {<br>            display: flex;<br>            flex-direction: row;<br>            flex-wrap: wrap;<br>            justify-content: flex-start;<br>            width: 100%;<br>        }<br>        .wandb-col {<br>            display: flex;<br>            flex-direction: column;<br>            flex-basis: 100%;<br>            flex: 1;<br>            padding: 10px;<br>        }<br>    </style><br><div class=\"wandb-row\"><div class=\"wandb-col\"><h3>Run history:</h3><br/><table class=\"wandb\"><tr><td>avg_loss</td><td>█▃▃▃▂▂▂▂▂▂▁▁▁▁▁▁▁▁▁▁▁▁▁▁▁▁▁▁▁▁▁▁▁▁▁▁▁▁▁▁</td></tr><tr><td>lr</td><td>███▇▇▆▆▄▄▃▂▂▁▁▁▃▃▄▆▇▇████████▇▆▅▅▃▃▂▁▁▁▁</td></tr><tr><td>test_h1</td><td>█▆▅▅▅▃▃▂▂▂▂▂▂▂▂▂▂▂▂▂▂▂▂▂▂▂▂▂▂▂▁▁▁▁▁▁▁▁▁▁</td></tr><tr><td>test_l2</td><td>█▄█▃▃▂▃▄▄▄▄▄▄▄▄▄▄▄▄▄▄▄▄▄▄▃▄▃▃▃▂▂▁▂▂▁▁▁▁▁</td></tr><tr><td>time</td><td>▁▅▄▄▇▆▆▇▄█▇▆▆▆▆▇▇▄▂▃▁▃▂▃▂▃▄▄▁▃▅▄▃▄▃▃▃▄▃▄</td></tr><tr><td>train_err</td><td>█▇▆▅▄▄▃▃▂▂▂▂▂▂▂▃▃▃▃▃▃▃▃▂▂▂▂▂▂▂▂▁▁▁▁▁▁▁▁▁</td></tr></table><br/></div><div class=\"wandb-col\"><h3>Run summary:</h3><br/><table class=\"wandb\"><tr><td>avg_loss</td><td>0.06539</td></tr><tr><td>lr</td><td>2e-05</td></tr><tr><td>test_h1</td><td>0.06573</td></tr><tr><td>test_l2</td><td>0.02343</td></tr><tr><td>time</td><td>50.50277</td></tr><tr><td>train_err</td><td>4.18277</td></tr></table><br/></div></div>"
      ],
      "text/plain": [
       "<IPython.core.display.HTML object>"
      ]
     },
     "metadata": {},
     "output_type": "display_data"
    },
    {
     "data": {
      "text/html": [
       " View run <strong style=\"color:#cdcd00\">Run 30, FNO optuned</strong> at: <a href='https://wandb.ai/dmitrylala/Denoising%20MRI/runs/mr33i5ts' target=\"_blank\">https://wandb.ai/dmitrylala/Denoising%20MRI/runs/mr33i5ts</a><br> View project at: <a href='https://wandb.ai/dmitrylala/Denoising%20MRI' target=\"_blank\">https://wandb.ai/dmitrylala/Denoising%20MRI</a><br>Synced 5 W&B file(s), 91 media file(s), 0 artifact file(s) and 0 other file(s)"
      ],
      "text/plain": [
       "<IPython.core.display.HTML object>"
      ]
     },
     "metadata": {},
     "output_type": "display_data"
    },
    {
     "data": {
      "text/html": [
       "Find logs at: <code>./wandb/run-20250419_221923-mr33i5ts/logs</code>"
      ],
      "text/plain": [
       "<IPython.core.display.HTML object>"
      ]
     },
     "metadata": {},
     "output_type": "display_data"
    }
   ],
   "source": [
    "if run is not None:\n",
    "    run.finish()"
   ]
  },
  {
   "cell_type": "code",
   "execution_count": 10,
   "id": "4c76b507-096f-4ff2-bd71-8f78e5fae664",
   "metadata": {},
   "outputs": [
    {
     "name": "stdout",
     "output_type": "stream",
     "text": [
      "Saved to /home/d.nesterov/denoising-fno/notebooks/mri/run-30-weights.pt\n"
     ]
    }
   ],
   "source": [
    "torch.save(trainer.model.to('cpu').state_dict(), cfg.save_weights_path)\n",
    "print(f'Saved to {cfg.save_weights_path}')"
   ]
  },
  {
   "cell_type": "code",
   "execution_count": null,
   "id": "7aea9de7-2afb-443a-b11f-1fe8bc45c39c",
   "metadata": {},
   "outputs": [],
   "source": []
  },
  {
   "cell_type": "code",
   "execution_count": null,
   "id": "c8a59942-6280-4363-aa43-37d16bb68733",
   "metadata": {},
   "outputs": [],
   "source": []
  },
  {
   "cell_type": "code",
   "execution_count": null,
   "id": "3ec58339-6630-4312-9a37-741feb134944",
   "metadata": {},
   "outputs": [],
   "source": []
  },
  {
   "cell_type": "code",
   "execution_count": null,
   "id": "e1d8a1f7-1c0f-4fff-82df-a037bfa97fb1",
   "metadata": {},
   "outputs": [],
   "source": []
  },
  {
   "cell_type": "code",
   "execution_count": null,
   "id": "b91011db-3644-4784-b3d1-d50bd6f8c388",
   "metadata": {},
   "outputs": [],
   "source": []
  },
  {
   "cell_type": "code",
   "execution_count": null,
   "id": "95be1981-7d88-496a-9e09-cf0c3396cba2",
   "metadata": {},
   "outputs": [],
   "source": []
  },
  {
   "cell_type": "code",
   "execution_count": null,
   "id": "c2870465-7ef7-4a14-a268-eb6696fd1d0c",
   "metadata": {},
   "outputs": [],
   "source": []
  }
 ],
 "metadata": {
  "kernelspec": {
   "display_name": "Python 3 (ipykernel)",
   "language": "python",
   "name": "python3"
  },
  "language_info": {
   "codemirror_mode": {
    "name": "ipython",
    "version": 3
   },
   "file_extension": ".py",
   "mimetype": "text/x-python",
   "name": "python",
   "nbconvert_exporter": "python",
   "pygments_lexer": "ipython3",
   "version": "3.10.16"
  }
 },
 "nbformat": 4,
 "nbformat_minor": 5
}
