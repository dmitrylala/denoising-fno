{
 "cells": [
  {
   "cell_type": "code",
   "execution_count": 1,
   "id": "b9e79dad-2e4f-41ad-93db-b5f1753f4a13",
   "metadata": {},
   "outputs": [],
   "source": [
    "%load_ext autoreload\n",
    "%autoreload 2"
   ]
  },
  {
   "cell_type": "code",
   "execution_count": 2,
   "id": "647d0ede-50b7-40c3-a82d-ae8820fbd332",
   "metadata": {},
   "outputs": [],
   "source": [
    "from pathlib import Path\n",
    "\n",
    "import torch\n",
    "import wandb\n",
    "\n",
    "from config import Environment, TrainConfig\n",
    "from denoising.train import prepare_training\n",
    "from denoising.utils import seed_everything"
   ]
  },
  {
   "cell_type": "code",
   "execution_count": 3,
   "id": "97b1935f-8883-4494-98f2-314a7e8127d3",
   "metadata": {},
   "outputs": [
    {
     "name": "stderr",
     "output_type": "stream",
     "text": [
      "\u001b[34m\u001b[1mwandb\u001b[0m: Using wandb-core as the SDK backend.  Please refer to https://wandb.me/wandb-core for more information.\n",
      "\u001b[34m\u001b[1mwandb\u001b[0m: \u001b[33mWARNING\u001b[0m If you're specifying your api key in code, ensure this code is not shared publicly.\n",
      "\u001b[34m\u001b[1mwandb\u001b[0m: \u001b[33mWARNING\u001b[0m Consider setting the WANDB_API_KEY environment variable, or running `wandb login` from the command line.\n",
      "\u001b[34m\u001b[1mwandb\u001b[0m: Appending key for api.wandb.ai to your netrc file: /home/d.nesterov/.netrc\n",
      "\u001b[34m\u001b[1mwandb\u001b[0m: Currently logged in as: \u001b[33mdmitrylala\u001b[0m to \u001b[32mhttps://api.wandb.ai\u001b[0m. Use \u001b[1m`wandb login --relogin`\u001b[0m to force relogin\n"
     ]
    },
    {
     "data": {
      "text/plain": [
       "True"
      ]
     },
     "execution_count": 3,
     "metadata": {},
     "output_type": "execute_result"
    }
   ],
   "source": [
    "CWD = Path.cwd()\n",
    "env = Environment(_env_file=CWD / '../env')\n",
    "wandb.login(key=env.wandb_api_key)"
   ]
  },
  {
   "cell_type": "markdown",
   "id": "7d99881a-a80e-4612-ae43-e5d6e8af5f15",
   "metadata": {},
   "source": [
    "# Конфиг обучения и подготовка"
   ]
  },
  {
   "cell_type": "code",
   "execution_count": 4,
   "id": "cb0d707b-973d-49d8-9355-194f77abd650",
   "metadata": {},
   "outputs": [],
   "source": [
    "run_idx = 25\n",
    "save_dir = CWD / 'mri'\n",
    "\n",
    "\n",
    "cfg = TrainConfig(\n",
    "    # Datasets params\n",
    "    train_dset='mri_pm_train',\n",
    "    test_dset='mri_pm_test',\n",
    "    train_batch_size=64,\n",
    "    test_batch_size=128,\n",
    "    # Model params\n",
    "    name_model='mri-fno-dense-2',\n",
    "    cfg_fno={\n",
    "        'n_modes': (32, 32),\n",
    "        'in_channels': 1,\n",
    "        'hidden_channels': 32,\n",
    "        'lifting_channel_ratio': 8,\n",
    "        'projection_channel_ratio': 2,\n",
    "        'out_channels': 1,\n",
    "        'factorization': 'tucker',\n",
    "        'n_layers': 4,\n",
    "        'rank': 0.42,\n",
    "    },\n",
    "    # Run params\n",
    "    random_seed=42,\n",
    "    device='cuda:2',\n",
    "    run_name=f'Run {run_idx}, FNO dense',\n",
    "    save_weights_path=save_dir / f'run-{run_idx}-weights.pt',\n",
    "    # Train params\n",
    "    n_epochs=50,\n",
    "    lr=1e-3,\n",
    "    wandb_log=True,\n",
    "    save_dir=save_dir / f'run-{run_idx}',\n",
    "    verbose=True,\n",
    ")"
   ]
  },
  {
   "cell_type": "code",
   "execution_count": 5,
   "id": "b46d2e49-93f6-49f7-9b99-d83c578f8b8b",
   "metadata": {},
   "outputs": [
    {
     "name": "stdout",
     "output_type": "stream",
     "text": [
      "Got n_samples = 8380  in dataset mri_pm_train        with sample size = torch.Size([1, 145, 145])\n",
      "Got n_samples = 2093  in dataset mri_pm_test         with sample size = torch.Size([1, 145, 145])\n",
      "Got n_samples = 2093  in dataset mri_gt_test         with sample size = torch.Size([1, 145, 145])\n",
      "Got n_samples = 137   in dataset bsd_synth_0.01_train with sample size = torch.Size([1, 321, 481])\n",
      "Got n_samples = 77    in dataset bsd_synth_0.01_test with sample size = torch.Size([1, 321, 481])\n",
      "Got n_samples = 12296 in dataset sidd_train          with sample size = torch.Size([3, 512, 512])\n",
      "Got n_samples = 3008  in dataset sidd_test           with sample size = torch.Size([3, 512, 512])\n",
      "torch.Size([64, 1, 145, 145]) torch.Size([64, 1, 145, 145])\n",
      "Loaded  model mri-fno-neuralop with n_parameters = 2010449\n",
      "Loaded  model mri-fno-custom   with n_parameters = 2010449\n",
      "Loaded  model mri-fno-dense    with n_parameters = 4476513\n",
      "Loaded  model mri-hno-separable with n_parameters = 2248289\n",
      "Loaded  model mri-hno-v2       with n_parameters = 2248289\n",
      "Loaded  model mri-hno-v4       with n_parameters = 1098977\n",
      "Loaded  model sidd-fno-run2    with n_parameters = 2011091\n",
      "Loaded  model sidd-fno-run3    with n_parameters = 2011091\n",
      "Loaded  model sidd-fno-run4    with n_parameters = 2028627\n",
      "Loaded  model bsd-fno          with n_parameters = 2010449\n",
      "Created model mri-fno-dense-2  with n_parameters = 2010449\n"
     ]
    },
    {
     "data": {
      "text/html": [
       "Tracking run with wandb version 0.19.9"
      ],
      "text/plain": [
       "<IPython.core.display.HTML object>"
      ]
     },
     "metadata": {},
     "output_type": "display_data"
    },
    {
     "data": {
      "text/html": [
       "Run data is saved locally in <code>/home/d.nesterov/denoising-fno/notebooks/wandb/run-20250419_130301-vizovc2q</code>"
      ],
      "text/plain": [
       "<IPython.core.display.HTML object>"
      ]
     },
     "metadata": {},
     "output_type": "display_data"
    },
    {
     "data": {
      "text/html": [
       "Syncing run <strong><a href='https://wandb.ai/dmitrylala/Denoising%20MRI/runs/vizovc2q' target=\"_blank\">Run 25, FNO dense</a></strong> to <a href='https://wandb.ai/dmitrylala/Denoising%20MRI' target=\"_blank\">Weights & Biases</a> (<a href='https://wandb.me/developer-guide' target=\"_blank\">docs</a>)<br>"
      ],
      "text/plain": [
       "<IPython.core.display.HTML object>"
      ]
     },
     "metadata": {},
     "output_type": "display_data"
    },
    {
     "data": {
      "text/html": [
       " View project at <a href='https://wandb.ai/dmitrylala/Denoising%20MRI' target=\"_blank\">https://wandb.ai/dmitrylala/Denoising%20MRI</a>"
      ],
      "text/plain": [
       "<IPython.core.display.HTML object>"
      ]
     },
     "metadata": {},
     "output_type": "display_data"
    },
    {
     "data": {
      "text/html": [
       " View run at <a href='https://wandb.ai/dmitrylala/Denoising%20MRI/runs/vizovc2q' target=\"_blank\">https://wandb.ai/dmitrylala/Denoising%20MRI/runs/vizovc2q</a>"
      ],
      "text/plain": [
       "<IPython.core.display.HTML object>"
      ]
     },
     "metadata": {},
     "output_type": "display_data"
    },
    {
     "name": "stdout",
     "output_type": "stream",
     "text": [
      "Logging to wandb enabled: True\n"
     ]
    }
   ],
   "source": [
    "trainer, train_kwargs, run = prepare_training(env, cfg)"
   ]
  },
  {
   "cell_type": "markdown",
   "id": "02f40e6b-94c7-4047-851e-cbed41b49dfc",
   "metadata": {},
   "source": [
    "# Запуск"
   ]
  },
  {
   "cell_type": "code",
   "execution_count": null,
   "id": "e24299d8-3114-4643-94a0-097b9c7a73ef",
   "metadata": {},
   "outputs": [
    {
     "name": "stdout",
     "output_type": "stream",
     "text": [
      "Training on 8380 samples\n",
      "Testing on [2093] samples         on resolutions ['test'].\n",
      "Raw outputs of shape torch.Size([64, 1, 145, 145])\n",
      "[0] time=32.46, avg_loss=0.1919, train_err=12.2731\n",
      "Eval: test_h1=0.1125, test_l2=0.0483\n",
      "Saved training state to /home/d.nesterov/denoising-fno/notebooks/mri/run-25\n",
      "[1] time=29.86, avg_loss=0.1083, train_err=6.9283\n",
      "Eval: test_h1=0.1052, test_l2=0.0842\n",
      "Saved training state to /home/d.nesterov/denoising-fno/notebooks/mri/run-25\n",
      "[2] time=29.76, avg_loss=0.1011, train_err=6.4647\n",
      "Eval: test_h1=0.0998, test_l2=0.0498\n",
      "Saved training state to /home/d.nesterov/denoising-fno/notebooks/mri/run-25\n",
      "[3] time=29.11, avg_loss=0.0971, train_err=6.2133\n",
      "Eval: test_h1=0.0964, test_l2=0.0365\n",
      "Saved training state to /home/d.nesterov/denoising-fno/notebooks/mri/run-25\n",
      "[4] time=29.24, avg_loss=0.0914, train_err=5.8496\n",
      "Eval: test_h1=0.0885, test_l2=0.0329\n",
      "Saved training state to /home/d.nesterov/denoising-fno/notebooks/mri/run-25\n",
      "[5] time=28.68, avg_loss=0.0862, train_err=5.5160\n",
      "Eval: test_h1=0.0842, test_l2=0.0299\n",
      "Saved training state to /home/d.nesterov/denoising-fno/notebooks/mri/run-25\n",
      "[6] time=28.94, avg_loss=0.0835, train_err=5.3412\n",
      "Eval: test_h1=0.0827, test_l2=0.0297\n",
      "Saved training state to /home/d.nesterov/denoising-fno/notebooks/mri/run-25\n",
      "[7] time=28.59, avg_loss=0.0817, train_err=5.2248\n",
      "Eval: test_h1=0.0806, test_l2=0.0320\n",
      "Saved training state to /home/d.nesterov/denoising-fno/notebooks/mri/run-25\n"
     ]
    }
   ],
   "source": [
    "seed_everything(cfg.random_seed)\n",
    "trainer.train(**train_kwargs)"
   ]
  },
  {
   "cell_type": "code",
   "execution_count": null,
   "id": "0fdd48a9-1cc2-46c3-84fc-3883ef341541",
   "metadata": {},
   "outputs": [],
   "source": [
    "if run is not None:\n",
    "    run.finish()"
   ]
  },
  {
   "cell_type": "code",
   "execution_count": null,
   "id": "4c76b507-096f-4ff2-bd71-8f78e5fae664",
   "metadata": {},
   "outputs": [],
   "source": [
    "torch.save(trainer.model.to('cpu').state_dict(), cfg.save_weights_path)\n",
    "print(f'Saved to {cfg.save_weights_path}')"
   ]
  },
  {
   "cell_type": "code",
   "execution_count": null,
   "id": "7aea9de7-2afb-443a-b11f-1fe8bc45c39c",
   "metadata": {},
   "outputs": [],
   "source": []
  },
  {
   "cell_type": "code",
   "execution_count": null,
   "id": "c8a59942-6280-4363-aa43-37d16bb68733",
   "metadata": {},
   "outputs": [],
   "source": []
  },
  {
   "cell_type": "code",
   "execution_count": null,
   "id": "3ec58339-6630-4312-9a37-741feb134944",
   "metadata": {},
   "outputs": [],
   "source": []
  },
  {
   "cell_type": "code",
   "execution_count": null,
   "id": "e1d8a1f7-1c0f-4fff-82df-a037bfa97fb1",
   "metadata": {},
   "outputs": [],
   "source": []
  },
  {
   "cell_type": "code",
   "execution_count": null,
   "id": "b91011db-3644-4784-b3d1-d50bd6f8c388",
   "metadata": {},
   "outputs": [],
   "source": []
  },
  {
   "cell_type": "code",
   "execution_count": null,
   "id": "95be1981-7d88-496a-9e09-cf0c3396cba2",
   "metadata": {},
   "outputs": [],
   "source": []
  },
  {
   "cell_type": "code",
   "execution_count": null,
   "id": "c2870465-7ef7-4a14-a268-eb6696fd1d0c",
   "metadata": {},
   "outputs": [],
   "source": []
  }
 ],
 "metadata": {
  "kernelspec": {
   "display_name": "Python 3 (ipykernel)",
   "language": "python",
   "name": "python3"
  },
  "language_info": {
   "codemirror_mode": {
    "name": "ipython",
    "version": 3
   },
   "file_extension": ".py",
   "mimetype": "text/x-python",
   "name": "python",
   "nbconvert_exporter": "python",
   "pygments_lexer": "ipython3",
   "version": "3.10.16"
  }
 },
 "nbformat": 4,
 "nbformat_minor": 5
}
