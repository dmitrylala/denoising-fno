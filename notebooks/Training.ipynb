{
 "cells": [
  {
   "cell_type": "code",
   "execution_count": 1,
   "id": "b9e79dad-2e4f-41ad-93db-b5f1753f4a13",
   "metadata": {},
   "outputs": [],
   "source": [
    "%load_ext autoreload\n",
    "%autoreload 2"
   ]
  },
  {
   "cell_type": "code",
   "execution_count": 2,
   "id": "647d0ede-50b7-40c3-a82d-ae8820fbd332",
   "metadata": {},
   "outputs": [],
   "source": [
    "from pathlib import Path\n",
    "\n",
    "import torch\n",
    "import wandb\n",
    "\n",
    "from config import Environment, TrainConfig\n",
    "from denoising.train import prepare_training\n",
    "from denoising.utils import seed_everything"
   ]
  },
  {
   "cell_type": "code",
   "execution_count": 4,
   "id": "97b1935f-8883-4494-98f2-314a7e8127d3",
   "metadata": {},
   "outputs": [
    {
     "name": "stderr",
     "output_type": "stream",
     "text": [
      "\u001b[34m\u001b[1mwandb\u001b[0m: \u001b[33mWARNING\u001b[0m If you're specifying your api key in code, ensure this code is not shared publicly.\n",
      "\u001b[34m\u001b[1mwandb\u001b[0m: \u001b[33mWARNING\u001b[0m Consider setting the WANDB_API_KEY environment variable, or running `wandb login` from the command line.\n",
      "\u001b[34m\u001b[1mwandb\u001b[0m: Appending key for api.wandb.ai to your netrc file: /home/d.nesterov/.netrc\n"
     ]
    },
    {
     "data": {
      "text/plain": [
       "True"
      ]
     },
     "execution_count": 4,
     "metadata": {},
     "output_type": "execute_result"
    }
   ],
   "source": [
    "CWD = Path.cwd()\n",
    "env = Environment(_env_file=CWD / '../env')\n",
    "wandb.login(key=env.wandb_api_key)"
   ]
  },
  {
   "cell_type": "markdown",
   "id": "7d99881a-a80e-4612-ae43-e5d6e8af5f15",
   "metadata": {},
   "source": [
    "# Конфиг обучения и подготовка"
   ]
  },
  {
   "cell_type": "code",
   "execution_count": 7,
   "id": "cb0d707b-973d-49d8-9355-194f77abd650",
   "metadata": {},
   "outputs": [],
   "source": [
    "run_idx = 18\n",
    "save_dir = CWD / 'mri'\n",
    "\n",
    "cfg = TrainConfig(\n",
    "    # Datasets params\n",
    "    train_dset='mri_pm_train',\n",
    "    test_dset='mri_pm_test',\n",
    "    train_batch_size=32,\n",
    "    test_batch_size=64,\n",
    "    # Model params\n",
    "    name_model='mri-hno-v2-optuned',\n",
    "    cfg_fno={\n",
    "        'n_modes': (16, 16),\n",
    "        'in_channels': 1,\n",
    "        'hidden_channels': 49,\n",
    "        'lifting_channel_ratio': 6,\n",
    "        'projection_channel_ratio': 12,\n",
    "        'out_channels': 1,\n",
    "        'factorization': 'dense',\n",
    "        'n_layers': 3,\n",
    "        'rank': 0.42,\n",
    "        'spectral': 'hartley',\n",
    "    },\n",
    "    # Run params\n",
    "    random_seed=42,\n",
    "    device='cuda:2',\n",
    "    run_name=f'Run {run_idx}, HNO v2 optuned',\n",
    "    save_weights_path=save_dir / f'run-{run_idx}-weights.pt',\n",
    "    # Train params\n",
    "    n_epochs=50,\n",
    "    lr=0.0075,\n",
    "    wandb_log=True,\n",
    "    save_dir=save_dir / f'run-{run_idx}',\n",
    "    verbose=True,\n",
    ")"
   ]
  },
  {
   "cell_type": "code",
   "execution_count": 8,
   "id": "b46d2e49-93f6-49f7-9b99-d83c578f8b8b",
   "metadata": {},
   "outputs": [
    {
     "name": "stdout",
     "output_type": "stream",
     "text": [
      "Got n_samples = 8380  in dataset mri_pm_train        with sample size = torch.Size([1, 145, 145])\n",
      "Got n_samples = 2093  in dataset mri_pm_test         with sample size = torch.Size([1, 145, 145])\n",
      "Got n_samples = 2093  in dataset mri_gt_test         with sample size = torch.Size([1, 145, 145])\n",
      "Got n_samples = 137   in dataset bsd_synth_0.01_train with sample size = torch.Size([1, 321, 481])\n",
      "Got n_samples = 77    in dataset bsd_synth_0.01_test with sample size = torch.Size([1, 321, 481])\n",
      "Got n_samples = 12296 in dataset sidd_train          with sample size = torch.Size([3, 512, 512])\n",
      "Got n_samples = 3008  in dataset sidd_test           with sample size = torch.Size([3, 512, 512])\n",
      "torch.Size([32, 1, 145, 145]) torch.Size([32, 1, 145, 145])\n",
      "Loaded  model mri-fno-neuralop with n_parameters = 2010449\n",
      "Loaded  model mri-fno-custom   with n_parameters = 2010449\n",
      "Loaded  model mri-fno-dense    with n_parameters = 4476513\n",
      "Loaded  model mri-hno-separable with n_parameters = 2248289\n",
      "Loaded  model mri-hno-v2       with n_parameters = 2248289\n",
      "Loaded  model sidd-fno-run2    with n_parameters = 2011091\n",
      "Loaded  model sidd-fno-run3    with n_parameters = 2011091\n",
      "Loaded  model sidd-fno-run4    with n_parameters = 2028627\n",
      "Loaded  model bsd-fno          with n_parameters = 2010449\n",
      "Created model mri-hno-v2-optuned with n_parameters = 1097624\n"
     ]
    },
    {
     "data": {
      "text/html": [
       "Tracking run with wandb version 0.19.9"
      ],
      "text/plain": [
       "<IPython.core.display.HTML object>"
      ]
     },
     "metadata": {},
     "output_type": "display_data"
    },
    {
     "data": {
      "text/html": [
       "Run data is saved locally in <code>/home/d.nesterov/denoising-fno/notebooks/wandb/run-20250418_094133-13dx6pve</code>"
      ],
      "text/plain": [
       "<IPython.core.display.HTML object>"
      ]
     },
     "metadata": {},
     "output_type": "display_data"
    },
    {
     "data": {
      "text/html": [
       "Syncing run <strong><a href='https://wandb.ai/dmitrylala/Denoising%20MRI/runs/13dx6pve' target=\"_blank\">Run 18, HNO v2 optuned</a></strong> to <a href='https://wandb.ai/dmitrylala/Denoising%20MRI' target=\"_blank\">Weights & Biases</a> (<a href='https://wandb.me/developer-guide' target=\"_blank\">docs</a>)<br>"
      ],
      "text/plain": [
       "<IPython.core.display.HTML object>"
      ]
     },
     "metadata": {},
     "output_type": "display_data"
    },
    {
     "data": {
      "text/html": [
       " View project at <a href='https://wandb.ai/dmitrylala/Denoising%20MRI' target=\"_blank\">https://wandb.ai/dmitrylala/Denoising%20MRI</a>"
      ],
      "text/plain": [
       "<IPython.core.display.HTML object>"
      ]
     },
     "metadata": {},
     "output_type": "display_data"
    },
    {
     "data": {
      "text/html": [
       " View run at <a href='https://wandb.ai/dmitrylala/Denoising%20MRI/runs/13dx6pve' target=\"_blank\">https://wandb.ai/dmitrylala/Denoising%20MRI/runs/13dx6pve</a>"
      ],
      "text/plain": [
       "<IPython.core.display.HTML object>"
      ]
     },
     "metadata": {},
     "output_type": "display_data"
    },
    {
     "name": "stdout",
     "output_type": "stream",
     "text": [
      "Logging to wandb enabled: True\n"
     ]
    }
   ],
   "source": [
    "trainer, train_kwargs, run = prepare_training(env, cfg)"
   ]
  },
  {
   "cell_type": "markdown",
   "id": "02f40e6b-94c7-4047-851e-cbed41b49dfc",
   "metadata": {},
   "source": [
    "# Запуск"
   ]
  },
  {
   "cell_type": "code",
   "execution_count": 9,
   "id": "e24299d8-3114-4643-94a0-097b9c7a73ef",
   "metadata": {},
   "outputs": [
    {
     "name": "stdout",
     "output_type": "stream",
     "text": [
      "Training on 8380 samples\n",
      "Testing on [2093] samples         on resolutions ['test'].\n"
     ]
    },
    {
     "name": "stderr",
     "output_type": "stream",
     "text": [
      "/home/d.nesterov/denoising-fno/denoising/models/dht.py:30: UserWarning: Casting complex values to real discards the imaginary part (Triggered internally at /pytorch/aten/src/ATen/native/Copy.cpp:308.)\n",
      "  fft = torch.fft.fft2(x.float(), norm=norm, dim=dim, s=s)\n"
     ]
    },
    {
     "name": "stdout",
     "output_type": "stream",
     "text": [
      "Raw outputs of shape torch.Size([32, 1, 145, 145])\n",
      "[0] time=50.93, avg_loss=0.1313, train_err=4.1997\n",
      "Eval: test_h1=0.1097, test_l2=0.0616\n",
      "Saved training state to /home/d.nesterov/denoising-fno/notebooks/mri/run-18\n",
      "[1] time=49.04, avg_loss=0.1099, train_err=3.5144\n",
      "Eval: test_h1=0.1090, test_l2=0.0688\n",
      "Saved training state to /home/d.nesterov/denoising-fno/notebooks/mri/run-18\n",
      "[2] time=49.22, avg_loss=0.1094, train_err=3.4992\n",
      "Eval: test_h1=0.1134, test_l2=0.0450\n",
      "Saved training state to /home/d.nesterov/denoising-fno/notebooks/mri/run-18\n",
      "[3] time=49.27, avg_loss=0.1088, train_err=3.4804\n",
      "Eval: test_h1=0.1100, test_l2=0.0669\n",
      "Saved training state to /home/d.nesterov/denoising-fno/notebooks/mri/run-18\n",
      "[4] time=49.23, avg_loss=0.1084, train_err=3.4670\n",
      "Eval: test_h1=0.1083, test_l2=0.0457\n",
      "Saved training state to /home/d.nesterov/denoising-fno/notebooks/mri/run-18\n",
      "[5] time=49.30, avg_loss=0.1086, train_err=3.4729\n",
      "Eval: test_h1=0.1101, test_l2=0.0518\n",
      "Saved training state to /home/d.nesterov/denoising-fno/notebooks/mri/run-18\n",
      "[6] time=49.88, avg_loss=0.1088, train_err=3.4813\n",
      "Eval: test_h1=0.1076, test_l2=0.0451\n",
      "Saved training state to /home/d.nesterov/denoising-fno/notebooks/mri/run-18\n",
      "[7] time=49.31, avg_loss=0.1077, train_err=3.4449\n",
      "Eval: test_h1=0.1075, test_l2=0.0561\n",
      "Saved training state to /home/d.nesterov/denoising-fno/notebooks/mri/run-18\n",
      "[8] time=49.34, avg_loss=0.1077, train_err=3.4459\n",
      "Eval: test_h1=0.1075, test_l2=0.0523\n",
      "Saved training state to /home/d.nesterov/denoising-fno/notebooks/mri/run-18\n",
      "[9] time=49.14, avg_loss=0.1077, train_err=3.4441\n",
      "Eval: test_h1=0.1082, test_l2=0.0481\n",
      "Saved training state to /home/d.nesterov/denoising-fno/notebooks/mri/run-18\n",
      "[10] time=49.29, avg_loss=0.1075, train_err=3.4379\n",
      "Eval: test_h1=0.1077, test_l2=0.0486\n",
      "Saved training state to /home/d.nesterov/denoising-fno/notebooks/mri/run-18\n",
      "[11] time=49.25, avg_loss=0.1078, train_err=3.4479\n",
      "Eval: test_h1=0.1100, test_l2=0.0595\n",
      "Saved training state to /home/d.nesterov/denoising-fno/notebooks/mri/run-18\n",
      "[12] time=49.08, avg_loss=0.1073, train_err=3.4322\n",
      "Eval: test_h1=0.1092, test_l2=0.0535\n",
      "Saved training state to /home/d.nesterov/denoising-fno/notebooks/mri/run-18\n",
      "[13] time=49.30, avg_loss=0.1074, train_err=3.4356\n",
      "Eval: test_h1=0.1073, test_l2=0.0492\n",
      "Saved training state to /home/d.nesterov/denoising-fno/notebooks/mri/run-18\n"
     ]
    },
    {
     "name": "stderr",
     "output_type": "stream",
     "text": [
      "Exception ignored in: <bound method IPythonKernel._clean_thread_parent_frames of <ipykernel.ipkernel.IPythonKernel object at 0x7fc5fd1061a0>>\n",
      "Traceback (most recent call last):\n",
      "  File \"/home/d.nesterov/denoising-fno/.venv/lib/python3.10/site-packages/ipykernel/ipkernel.py\", line 790, in _clean_thread_parent_frames\n",
      "    active_threads = {thread.ident for thread in threading.enumerate()}\n",
      "  File \"/home/d.nesterov/.local/share/uv/python/cpython-3.10.16-linux-x86_64-gnu/lib/python3.10/threading.py\", line 1487, in enumerate\n",
      "    return list(_active.values()) + list(_limbo.values())\n",
      "KeyboardInterrupt: \n"
     ]
    },
    {
     "ename": "KeyboardInterrupt",
     "evalue": "",
     "output_type": "error",
     "traceback": [
      "\u001b[0;31m---------------------------------------------------------------------------\u001b[0m",
      "\u001b[0;31mKeyboardInterrupt\u001b[0m                         Traceback (most recent call last)",
      "Cell \u001b[0;32mIn[9], line 2\u001b[0m\n\u001b[1;32m      1\u001b[0m seed_everything(cfg\u001b[38;5;241m.\u001b[39mrandom_seed)\n\u001b[0;32m----> 2\u001b[0m \u001b[43mtrainer\u001b[49m\u001b[38;5;241;43m.\u001b[39;49m\u001b[43mtrain\u001b[49m\u001b[43m(\u001b[49m\u001b[38;5;241;43m*\u001b[39;49m\u001b[38;5;241;43m*\u001b[39;49m\u001b[43mtrain_kwargs\u001b[49m\u001b[43m)\u001b[49m\n",
      "File \u001b[0;32m~/denoising-fno/denoising/trainer.py:168\u001b[0m, in \u001b[0;36mTrainer.train\u001b[0;34m(self, train_loader, test_loaders, training_loss, eval_losses, trial, trial_obj)\u001b[0m\n\u001b[1;32m    165\u001b[0m     sys\u001b[38;5;241m.\u001b[39mstdout\u001b[38;5;241m.\u001b[39mflush()\n\u001b[1;32m    167\u001b[0m \u001b[38;5;28;01mfor\u001b[39;00m epoch \u001b[38;5;129;01min\u001b[39;00m \u001b[38;5;28mrange\u001b[39m(\u001b[38;5;28mself\u001b[39m\u001b[38;5;241m.\u001b[39mstart_epoch, \u001b[38;5;28mself\u001b[39m\u001b[38;5;241m.\u001b[39mn_epochs):\n\u001b[0;32m--> 168\u001b[0m     train_err, avg_loss, epoch_train_time \u001b[38;5;241m=\u001b[39m \u001b[38;5;28;43mself\u001b[39;49m\u001b[38;5;241;43m.\u001b[39;49m\u001b[43mtrain_one_epoch\u001b[49m\u001b[43m(\u001b[49m\n\u001b[1;32m    169\u001b[0m \u001b[43m        \u001b[49m\u001b[43mepoch\u001b[49m\u001b[43m,\u001b[49m\u001b[43m \u001b[49m\u001b[43mtrain_loader\u001b[49m\u001b[43m,\u001b[49m\u001b[43m \u001b[49m\u001b[43mtraining_loss\u001b[49m\n\u001b[1;32m    170\u001b[0m \u001b[43m    \u001b[49m\u001b[43m)\u001b[49m\n\u001b[1;32m    171\u001b[0m     epoch_metrics \u001b[38;5;241m=\u001b[39m {\n\u001b[1;32m    172\u001b[0m         \u001b[38;5;124m'\u001b[39m\u001b[38;5;124mtrain_err\u001b[39m\u001b[38;5;124m'\u001b[39m: train_err,\n\u001b[1;32m    173\u001b[0m         \u001b[38;5;124m'\u001b[39m\u001b[38;5;124mavg_loss\u001b[39m\u001b[38;5;124m'\u001b[39m: avg_loss,\n\u001b[1;32m    174\u001b[0m         \u001b[38;5;124m'\u001b[39m\u001b[38;5;124mepoch_train_time\u001b[39m\u001b[38;5;124m'\u001b[39m: epoch_train_time,\n\u001b[1;32m    175\u001b[0m     }\n\u001b[1;32m    177\u001b[0m     \u001b[38;5;28;01mif\u001b[39;00m epoch \u001b[38;5;241m%\u001b[39m \u001b[38;5;28mself\u001b[39m\u001b[38;5;241m.\u001b[39meval_interval \u001b[38;5;241m==\u001b[39m \u001b[38;5;241m0\u001b[39m:\n\u001b[1;32m    178\u001b[0m         \u001b[38;5;66;03m# evaluate and gather metrics across each loader in test_loaders\u001b[39;00m\n",
      "File \u001b[0;32m~/denoising-fno/denoising/trainer.py:241\u001b[0m, in \u001b[0;36mTrainer.train_one_epoch\u001b[0;34m(self, epoch, train_loader, training_loss)\u001b[0m\n\u001b[1;32m    238\u001b[0m loss\u001b[38;5;241m.\u001b[39mbackward()\n\u001b[1;32m    239\u001b[0m \u001b[38;5;28mself\u001b[39m\u001b[38;5;241m.\u001b[39moptimizer\u001b[38;5;241m.\u001b[39mstep()\n\u001b[0;32m--> 241\u001b[0m train_err \u001b[38;5;241m+\u001b[39m\u001b[38;5;241m=\u001b[39m \u001b[43mloss\u001b[49m\u001b[38;5;241;43m.\u001b[39;49m\u001b[43mitem\u001b[49m\u001b[43m(\u001b[49m\u001b[43m)\u001b[49m\n\u001b[1;32m    242\u001b[0m \u001b[38;5;28;01mwith\u001b[39;00m torch\u001b[38;5;241m.\u001b[39mno_grad():\n\u001b[1;32m    243\u001b[0m     avg_loss \u001b[38;5;241m+\u001b[39m\u001b[38;5;241m=\u001b[39m loss\u001b[38;5;241m.\u001b[39mitem()\n",
      "\u001b[0;31mKeyboardInterrupt\u001b[0m: "
     ]
    }
   ],
   "source": [
    "seed_everything(cfg.random_seed)\n",
    "trainer.train(**train_kwargs)"
   ]
  },
  {
   "cell_type": "code",
   "execution_count": 10,
   "id": "0fdd48a9-1cc2-46c3-84fc-3883ef341541",
   "metadata": {},
   "outputs": [
    {
     "data": {
      "text/html": [],
      "text/plain": [
       "<IPython.core.display.HTML object>"
      ]
     },
     "metadata": {},
     "output_type": "display_data"
    },
    {
     "data": {
      "text/html": [
       "<br>    <style><br>        .wandb-row {<br>            display: flex;<br>            flex-direction: row;<br>            flex-wrap: wrap;<br>            justify-content: flex-start;<br>            width: 100%;<br>        }<br>        .wandb-col {<br>            display: flex;<br>            flex-direction: column;<br>            flex-basis: 100%;<br>            flex: 1;<br>            padding: 10px;<br>        }<br>    </style><br><div class=\"wandb-row\"><div class=\"wandb-col\"><h3>Run history:</h3><br/><table class=\"wandb\"><tr><td>avg_loss</td><td>█▂▂▁▁▁▁▁▁▁▁▁▁▁</td></tr><tr><td>lr</td><td>███▇▇▇▆▅▅▄▃▃▂▁</td></tr><tr><td>test_h1</td><td>▄▃█▄▂▄▁▁▁▂▁▄▃▁</td></tr><tr><td>test_l2</td><td>▆█▁▇▁▃▁▄▃▂▂▅▄▂</td></tr><tr><td>time</td><td>█▁▂▂▂▂▄▂▂▁▂▂▁▂</td></tr><tr><td>train_err</td><td>█▂▂▁▁▁▁▁▁▁▁▁▁▁</td></tr></table><br/></div><div class=\"wandb-col\"><h3>Run summary:</h3><br/><table class=\"wandb\"><tr><td>avg_loss</td><td>0.10741</td></tr><tr><td>lr</td><td>0.00414</td></tr><tr><td>test_h1</td><td>0.10731</td></tr><tr><td>test_l2</td><td>0.04921</td></tr><tr><td>time</td><td>49.2953</td></tr><tr><td>train_err</td><td>3.43559</td></tr></table><br/></div></div>"
      ],
      "text/plain": [
       "<IPython.core.display.HTML object>"
      ]
     },
     "metadata": {},
     "output_type": "display_data"
    },
    {
     "data": {
      "text/html": [
       " View run <strong style=\"color:#cdcd00\">Run 18, HNO v2 optuned</strong> at: <a href='https://wandb.ai/dmitrylala/Denoising%20MRI/runs/13dx6pve' target=\"_blank\">https://wandb.ai/dmitrylala/Denoising%20MRI/runs/13dx6pve</a><br> View project at: <a href='https://wandb.ai/dmitrylala/Denoising%20MRI' target=\"_blank\">https://wandb.ai/dmitrylala/Denoising%20MRI</a><br>Synced 5 W&B file(s), 14 media file(s), 0 artifact file(s) and 0 other file(s)"
      ],
      "text/plain": [
       "<IPython.core.display.HTML object>"
      ]
     },
     "metadata": {},
     "output_type": "display_data"
    },
    {
     "data": {
      "text/html": [
       "Find logs at: <code>./wandb/run-20250418_094133-13dx6pve/logs</code>"
      ],
      "text/plain": [
       "<IPython.core.display.HTML object>"
      ]
     },
     "metadata": {},
     "output_type": "display_data"
    }
   ],
   "source": [
    "if run is not None:\n",
    "    run.finish()"
   ]
  },
  {
   "cell_type": "code",
   "execution_count": 11,
   "id": "4c76b507-096f-4ff2-bd71-8f78e5fae664",
   "metadata": {},
   "outputs": [],
   "source": [
    "torch.save(trainer.model.to('cpu').state_dict(), cfg.save_weights_path)"
   ]
  },
  {
   "cell_type": "code",
   "execution_count": null,
   "id": "7aea9de7-2afb-443a-b11f-1fe8bc45c39c",
   "metadata": {},
   "outputs": [],
   "source": []
  },
  {
   "cell_type": "code",
   "execution_count": null,
   "id": "c8a59942-6280-4363-aa43-37d16bb68733",
   "metadata": {},
   "outputs": [],
   "source": []
  },
  {
   "cell_type": "code",
   "execution_count": null,
   "id": "3ec58339-6630-4312-9a37-741feb134944",
   "metadata": {},
   "outputs": [],
   "source": []
  },
  {
   "cell_type": "code",
   "execution_count": null,
   "id": "e1d8a1f7-1c0f-4fff-82df-a037bfa97fb1",
   "metadata": {},
   "outputs": [],
   "source": []
  },
  {
   "cell_type": "code",
   "execution_count": null,
   "id": "b91011db-3644-4784-b3d1-d50bd6f8c388",
   "metadata": {},
   "outputs": [],
   "source": []
  },
  {
   "cell_type": "code",
   "execution_count": null,
   "id": "95be1981-7d88-496a-9e09-cf0c3396cba2",
   "metadata": {},
   "outputs": [],
   "source": []
  },
  {
   "cell_type": "code",
   "execution_count": null,
   "id": "c2870465-7ef7-4a14-a268-eb6696fd1d0c",
   "metadata": {},
   "outputs": [],
   "source": []
  }
 ],
 "metadata": {
  "kernelspec": {
   "display_name": "Python 3 (ipykernel)",
   "language": "python",
   "name": "python3"
  },
  "language_info": {
   "codemirror_mode": {
    "name": "ipython",
    "version": 3
   },
   "file_extension": ".py",
   "mimetype": "text/x-python",
   "name": "python",
   "nbconvert_exporter": "python",
   "pygments_lexer": "ipython3",
   "version": "3.10.16"
  }
 },
 "nbformat": 4,
 "nbformat_minor": 5
}
