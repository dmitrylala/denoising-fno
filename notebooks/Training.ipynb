{
 "cells": [
  {
   "cell_type": "code",
   "execution_count": 1,
   "id": "b9e79dad-2e4f-41ad-93db-b5f1753f4a13",
   "metadata": {},
   "outputs": [],
   "source": [
    "%load_ext autoreload\n",
    "%autoreload 2"
   ]
  },
  {
   "cell_type": "code",
   "execution_count": 2,
   "id": "647d0ede-50b7-40c3-a82d-ae8820fbd332",
   "metadata": {},
   "outputs": [],
   "source": [
    "from pathlib import Path\n",
    "\n",
    "import torch\n",
    "import wandb\n",
    "\n",
    "from config import Environment, TrainConfig\n",
    "from denoising.train import prepare_training\n",
    "from denoising.utils import seed_everything"
   ]
  },
  {
   "cell_type": "code",
   "execution_count": 3,
   "id": "97b1935f-8883-4494-98f2-314a7e8127d3",
   "metadata": {},
   "outputs": [
    {
     "name": "stderr",
     "output_type": "stream",
     "text": [
      "\u001b[34m\u001b[1mwandb\u001b[0m: Using wandb-core as the SDK backend.  Please refer to https://wandb.me/wandb-core for more information.\n",
      "\u001b[34m\u001b[1mwandb\u001b[0m: \u001b[33mWARNING\u001b[0m If you're specifying your api key in code, ensure this code is not shared publicly.\n",
      "\u001b[34m\u001b[1mwandb\u001b[0m: \u001b[33mWARNING\u001b[0m Consider setting the WANDB_API_KEY environment variable, or running `wandb login` from the command line.\n",
      "\u001b[34m\u001b[1mwandb\u001b[0m: Appending key for api.wandb.ai to your netrc file: /home/d.nesterov/.netrc\n",
      "\u001b[34m\u001b[1mwandb\u001b[0m: Currently logged in as: \u001b[33mdmitrylala\u001b[0m to \u001b[32mhttps://api.wandb.ai\u001b[0m. Use \u001b[1m`wandb login --relogin`\u001b[0m to force relogin\n"
     ]
    },
    {
     "data": {
      "text/plain": [
       "True"
      ]
     },
     "execution_count": 3,
     "metadata": {},
     "output_type": "execute_result"
    }
   ],
   "source": [
    "CWD = Path.cwd()\n",
    "env = Environment(_env_file=CWD / '../env')\n",
    "wandb.login(key=env.wandb_api_key)"
   ]
  },
  {
   "cell_type": "markdown",
   "id": "7d99881a-a80e-4612-ae43-e5d6e8af5f15",
   "metadata": {},
   "source": [
    "# Конфиг обучения и подготовка"
   ]
  },
  {
   "cell_type": "code",
   "execution_count": 15,
   "id": "cb0d707b-973d-49d8-9355-194f77abd650",
   "metadata": {},
   "outputs": [],
   "source": [
    "run_idx = 28\n",
    "save_dir = CWD / 'mri'\n",
    "\n",
    "\n",
    "cfg = TrainConfig(\n",
    "    # Datasets params\n",
    "    train_dset='mri_pm_train',\n",
    "    test_dset='mri_pm_test',\n",
    "    train_batch_size=64,\n",
    "    test_batch_size=128,\n",
    "    # Model params\n",
    "    name_model='mri-hno-run28',\n",
    "    cfg_fno={\n",
    "        'n_modes': (8, 8),\n",
    "        'in_channels': 1,\n",
    "        'hidden_channels': 32,\n",
    "        'lifting_channel_ratio': 6,\n",
    "        'projection_channel_ratio': 32,\n",
    "        'out_channels': 1,\n",
    "        'factorization': 'dense',\n",
    "        'n_layers': 4,\n",
    "        'rank': 0.42,\n",
    "        'spectral': 'hartley',\n",
    "    },\n",
    "    # Run params\n",
    "    random_seed=42,\n",
    "    device='cuda:2',\n",
    "    run_name=f'Run {run_idx}, HNO',\n",
    "    save_weights_path=save_dir / f'run-{run_idx}-weights.pt',\n",
    "    # Train params\n",
    "    n_epochs=20,\n",
    "    lr=1e-3,\n",
    "    wandb_log=True,\n",
    "    save_dir=save_dir / f'run-{run_idx}',\n",
    "    verbose=True,\n",
    ")"
   ]
  },
  {
   "cell_type": "code",
   "execution_count": 16,
   "id": "b46d2e49-93f6-49f7-9b99-d83c578f8b8b",
   "metadata": {},
   "outputs": [
    {
     "name": "stdout",
     "output_type": "stream",
     "text": [
      "Got n_samples = 8380  in dataset mri_pm_train        with sample size = torch.Size([1, 145, 145])\n",
      "Got n_samples = 2093  in dataset mri_pm_test         with sample size = torch.Size([1, 145, 145])\n",
      "Got n_samples = 2093  in dataset mri_gt_test         with sample size = torch.Size([1, 145, 145])\n",
      "Got n_samples = 137   in dataset bsd_synth_0.01_train with sample size = torch.Size([1, 321, 481])\n",
      "Got n_samples = 77    in dataset bsd_synth_0.01_test with sample size = torch.Size([1, 321, 481])\n",
      "Got n_samples = 12296 in dataset sidd_train          with sample size = torch.Size([3, 512, 512])\n",
      "Got n_samples = 3008  in dataset sidd_test           with sample size = torch.Size([3, 512, 512])\n",
      "torch.Size([64, 1, 145, 145]) torch.Size([64, 1, 145, 145])\n",
      "Loaded  model mri-fno-neuralop with n_parameters = 2010449\n",
      "Loaded  model mri-fno-custom   with n_parameters = 2010449\n",
      "Loaded  model mri-fno-dense    with n_parameters = 4476513\n",
      "Loaded  model mri-hno-separable with n_parameters = 2248289\n",
      "Loaded  model mri-hno-v2       with n_parameters = 2248289\n",
      "Loaded  model mri-hno-v4       with n_parameters = 1098977\n",
      "Loaded  model mri-fno-tucker-2 with n_parameters = 2010449\n",
      "Loaded  model mri-fno-dense-2  with n_parameters = 4476513\n",
      "Loaded  model sidd-fno-run2    with n_parameters = 2011091\n",
      "Loaded  model sidd-fno-run3    with n_parameters = 2011091\n",
      "Loaded  model sidd-fno-run4    with n_parameters = 2028627\n",
      "Loaded  model bsd-fno          with n_parameters = 2010449\n",
      "Created model mri-hno-v4-refactored with n_parameters = 1098977\n"
     ]
    },
    {
     "data": {
      "text/html": [],
      "text/plain": [
       "<IPython.core.display.HTML object>"
      ]
     },
     "metadata": {},
     "output_type": "display_data"
    },
    {
     "data": {
      "text/html": [
       " View run <strong style=\"color:#cdcd00\">Run 27, HNOv4 refactored</strong> at: <a href='https://wandb.ai/dmitrylala/Denoising%20MRI/runs/iz5j62oa' target=\"_blank\">https://wandb.ai/dmitrylala/Denoising%20MRI/runs/iz5j62oa</a><br> View project at: <a href='https://wandb.ai/dmitrylala/Denoising%20MRI' target=\"_blank\">https://wandb.ai/dmitrylala/Denoising%20MRI</a><br>Synced 5 W&B file(s), 0 media file(s), 0 artifact file(s) and 0 other file(s)"
      ],
      "text/plain": [
       "<IPython.core.display.HTML object>"
      ]
     },
     "metadata": {},
     "output_type": "display_data"
    },
    {
     "data": {
      "text/html": [
       "Find logs at: <code>./wandb/run-20250419_144106-iz5j62oa/logs</code>"
      ],
      "text/plain": [
       "<IPython.core.display.HTML object>"
      ]
     },
     "metadata": {},
     "output_type": "display_data"
    },
    {
     "data": {
      "text/html": [],
      "text/plain": [
       "<IPython.core.display.HTML object>"
      ]
     },
     "metadata": {},
     "output_type": "display_data"
    },
    {
     "data": {
      "text/html": [
       "Tracking run with wandb version 0.19.9"
      ],
      "text/plain": [
       "<IPython.core.display.HTML object>"
      ]
     },
     "metadata": {},
     "output_type": "display_data"
    },
    {
     "data": {
      "text/html": [
       "Run data is saved locally in <code>/home/d.nesterov/denoising-fno/notebooks/wandb/run-20250419_144343-qbdke5bl</code>"
      ],
      "text/plain": [
       "<IPython.core.display.HTML object>"
      ]
     },
     "metadata": {},
     "output_type": "display_data"
    },
    {
     "data": {
      "text/html": [
       "Syncing run <strong><a href='https://wandb.ai/dmitrylala/Denoising%20MRI/runs/qbdke5bl' target=\"_blank\">Run 27, HNOv4 refactored</a></strong> to <a href='https://wandb.ai/dmitrylala/Denoising%20MRI' target=\"_blank\">Weights & Biases</a> (<a href='https://wandb.me/developer-guide' target=\"_blank\">docs</a>)<br>"
      ],
      "text/plain": [
       "<IPython.core.display.HTML object>"
      ]
     },
     "metadata": {},
     "output_type": "display_data"
    },
    {
     "data": {
      "text/html": [
       " View project at <a href='https://wandb.ai/dmitrylala/Denoising%20MRI' target=\"_blank\">https://wandb.ai/dmitrylala/Denoising%20MRI</a>"
      ],
      "text/plain": [
       "<IPython.core.display.HTML object>"
      ]
     },
     "metadata": {},
     "output_type": "display_data"
    },
    {
     "data": {
      "text/html": [
       " View run at <a href='https://wandb.ai/dmitrylala/Denoising%20MRI/runs/qbdke5bl' target=\"_blank\">https://wandb.ai/dmitrylala/Denoising%20MRI/runs/qbdke5bl</a>"
      ],
      "text/plain": [
       "<IPython.core.display.HTML object>"
      ]
     },
     "metadata": {},
     "output_type": "display_data"
    },
    {
     "name": "stdout",
     "output_type": "stream",
     "text": [
      "Logging to wandb enabled: True\n"
     ]
    }
   ],
   "source": [
    "trainer, train_kwargs, run = prepare_training(env, cfg)"
   ]
  },
  {
   "cell_type": "markdown",
   "id": "02f40e6b-94c7-4047-851e-cbed41b49dfc",
   "metadata": {},
   "source": [
    "# Запуск"
   ]
  },
  {
   "cell_type": "code",
   "execution_count": 17,
   "id": "e24299d8-3114-4643-94a0-097b9c7a73ef",
   "metadata": {
    "scrolled": true
   },
   "outputs": [
    {
     "name": "stdout",
     "output_type": "stream",
     "text": [
      "Training on 8380 samples\n",
      "Testing on [2093] samples         on resolutions ['test'].\n",
      "Raw outputs of shape torch.Size([64, 1, 145, 145])\n",
      "[0] time=52.93, avg_loss=0.1995, train_err=12.7597\n",
      "Eval: test_h1=0.1186, test_l2=0.0441\n",
      "Saved training state to /home/d.nesterov/denoising-fno/notebooks/mri/run-27\n",
      "[1] time=51.52, avg_loss=0.1143, train_err=7.3087\n",
      "Eval: test_h1=0.1106, test_l2=0.0413\n",
      "Saved training state to /home/d.nesterov/denoising-fno/notebooks/mri/run-27\n",
      "[2] time=52.03, avg_loss=0.1060, train_err=6.7823\n",
      "Eval: test_h1=0.1034, test_l2=0.0382\n",
      "Saved training state to /home/d.nesterov/denoising-fno/notebooks/mri/run-27\n",
      "[3] time=51.59, avg_loss=0.1023, train_err=6.5466\n",
      "Eval: test_h1=0.1013, test_l2=0.0366\n",
      "Saved training state to /home/d.nesterov/denoising-fno/notebooks/mri/run-27\n",
      "[4] time=51.43, avg_loss=0.1004, train_err=6.4197\n",
      "Eval: test_h1=0.0995, test_l2=0.0442\n",
      "Saved training state to /home/d.nesterov/denoising-fno/notebooks/mri/run-27\n",
      "[5] time=51.36, avg_loss=0.0985, train_err=6.2983\n",
      "Eval: test_h1=0.0990, test_l2=0.0449\n",
      "Saved training state to /home/d.nesterov/denoising-fno/notebooks/mri/run-27\n",
      "[6] time=51.28, avg_loss=0.0973, train_err=6.2230\n",
      "Eval: test_h1=0.0966, test_l2=0.0467\n",
      "Saved training state to /home/d.nesterov/denoising-fno/notebooks/mri/run-27\n",
      "[7] time=51.25, avg_loss=0.0961, train_err=6.1493\n",
      "Eval: test_h1=0.0963, test_l2=0.0483\n",
      "Saved training state to /home/d.nesterov/denoising-fno/notebooks/mri/run-27\n",
      "[8] time=51.34, avg_loss=0.0952, train_err=6.0897\n",
      "Eval: test_h1=0.0946, test_l2=0.0507\n",
      "Saved training state to /home/d.nesterov/denoising-fno/notebooks/mri/run-27\n",
      "[9] time=51.73, avg_loss=0.0941, train_err=6.0225\n",
      "Eval: test_h1=0.0940, test_l2=0.0527\n",
      "Saved training state to /home/d.nesterov/denoising-fno/notebooks/mri/run-27\n",
      "[10] time=52.25, avg_loss=0.0930, train_err=5.9502\n",
      "Eval: test_h1=0.0925, test_l2=0.0514\n",
      "Saved training state to /home/d.nesterov/denoising-fno/notebooks/mri/run-27\n",
      "[11] time=51.54, avg_loss=0.0917, train_err=5.8657\n",
      "Eval: test_h1=0.0913, test_l2=0.0502\n",
      "Saved training state to /home/d.nesterov/denoising-fno/notebooks/mri/run-27\n",
      "[12] time=52.15, avg_loss=0.0907, train_err=5.8028\n",
      "Eval: test_h1=0.0903, test_l2=0.0459\n",
      "Saved training state to /home/d.nesterov/denoising-fno/notebooks/mri/run-27\n",
      "[13] time=52.17, avg_loss=0.0899, train_err=5.7488\n",
      "Eval: test_h1=0.0899, test_l2=0.0441\n",
      "Saved training state to /home/d.nesterov/denoising-fno/notebooks/mri/run-27\n",
      "[14] time=52.09, avg_loss=0.0892, train_err=5.7085\n",
      "Eval: test_h1=0.0890, test_l2=0.0419\n",
      "Saved training state to /home/d.nesterov/denoising-fno/notebooks/mri/run-27\n",
      "[15] time=52.17, avg_loss=0.0887, train_err=5.6754\n",
      "Eval: test_h1=0.0895, test_l2=0.0414\n",
      "Saved training state to /home/d.nesterov/denoising-fno/notebooks/mri/run-27\n",
      "[16] time=52.16, avg_loss=0.0881, train_err=5.6366\n",
      "Eval: test_h1=0.0881, test_l2=0.0388\n",
      "Saved training state to /home/d.nesterov/denoising-fno/notebooks/mri/run-27\n",
      "[17] time=52.63, avg_loss=0.0878, train_err=5.6167\n",
      "Eval: test_h1=0.0879, test_l2=0.0391\n",
      "Saved training state to /home/d.nesterov/denoising-fno/notebooks/mri/run-27\n",
      "[18] time=52.22, avg_loss=0.0874, train_err=5.5879\n",
      "Eval: test_h1=0.0878, test_l2=0.0385\n",
      "Saved training state to /home/d.nesterov/denoising-fno/notebooks/mri/run-27\n",
      "[19] time=51.77, avg_loss=0.0871, train_err=5.5690\n",
      "Eval: test_h1=0.0875, test_l2=0.0372\n",
      "Saved training state to /home/d.nesterov/denoising-fno/notebooks/mri/run-27\n"
     ]
    },
    {
     "data": {
      "text/plain": [
       "{'train_err': 5.568957874793132,\n",
       " 'avg_loss': 0.08705650138399766,\n",
       " 'epoch_train_time': 51.7722720708698,\n",
       " 'test_h1': tensor(0.0875, device='cuda:2'),\n",
       " 'test_l2': tensor(0.0372, device='cuda:2'),\n",
       " 'test_outputs': <wandb.sdk.data_types.image.Image at 0x7fd1a4257a60>}"
      ]
     },
     "execution_count": 17,
     "metadata": {},
     "output_type": "execute_result"
    }
   ],
   "source": [
    "seed_everything(cfg.random_seed)\n",
    "trainer.train(**train_kwargs)"
   ]
  },
  {
   "cell_type": "code",
   "execution_count": 18,
   "id": "0fdd48a9-1cc2-46c3-84fc-3883ef341541",
   "metadata": {},
   "outputs": [
    {
     "data": {
      "text/html": [],
      "text/plain": [
       "<IPython.core.display.HTML object>"
      ]
     },
     "metadata": {},
     "output_type": "display_data"
    },
    {
     "data": {
      "text/html": [
       "<br>    <style><br>        .wandb-row {<br>            display: flex;<br>            flex-direction: row;<br>            flex-wrap: wrap;<br>            justify-content: flex-start;<br>            width: 100%;<br>        }<br>        .wandb-col {<br>            display: flex;<br>            flex-direction: column;<br>            flex-basis: 100%;<br>            flex: 1;<br>            padding: 10px;<br>        }<br>    </style><br><div class=\"wandb-row\"><div class=\"wandb-col\"><h3>Run history:</h3><br/><table class=\"wandb\"><tr><td>avg_loss</td><td>█▃▂▂▂▂▂▂▂▁▁▁▁▁▁▁▁▁▁▁</td></tr><tr><td>lr</td><td>████▇▇▇▆▆▆▅▅▄▄▃▃▂▂▁▁</td></tr><tr><td>test_h1</td><td>█▆▅▄▄▄▃▃▃▂▂▂▂▂▁▁▁▁▁▁</td></tr><tr><td>test_l2</td><td>▄▃▂▁▄▅▅▆▇█▇▇▅▄▃▃▂▂▂▁</td></tr><tr><td>time</td><td>█▂▄▂▂▁▁▁▁▃▅▂▅▅▄▅▅▇▅▃</td></tr><tr><td>train_err</td><td>█▃▂▂▂▂▂▂▂▁▁▁▁▁▁▁▁▁▁▁</td></tr></table><br/></div><div class=\"wandb-col\"><h3>Run summary:</h3><br/><table class=\"wandb\"><tr><td>avg_loss</td><td>0.08706</td></tr><tr><td>lr</td><td>0.00025</td></tr><tr><td>test_h1</td><td>0.08754</td></tr><tr><td>test_l2</td><td>0.03723</td></tr><tr><td>time</td><td>51.77227</td></tr><tr><td>train_err</td><td>5.56896</td></tr></table><br/></div></div>"
      ],
      "text/plain": [
       "<IPython.core.display.HTML object>"
      ]
     },
     "metadata": {},
     "output_type": "display_data"
    },
    {
     "data": {
      "text/html": [
       " View run <strong style=\"color:#cdcd00\">Run 27, HNOv4 refactored</strong> at: <a href='https://wandb.ai/dmitrylala/Denoising%20MRI/runs/qbdke5bl' target=\"_blank\">https://wandb.ai/dmitrylala/Denoising%20MRI/runs/qbdke5bl</a><br> View project at: <a href='https://wandb.ai/dmitrylala/Denoising%20MRI' target=\"_blank\">https://wandb.ai/dmitrylala/Denoising%20MRI</a><br>Synced 5 W&B file(s), 20 media file(s), 0 artifact file(s) and 0 other file(s)"
      ],
      "text/plain": [
       "<IPython.core.display.HTML object>"
      ]
     },
     "metadata": {},
     "output_type": "display_data"
    },
    {
     "data": {
      "text/html": [
       "Find logs at: <code>./wandb/run-20250419_144343-qbdke5bl/logs</code>"
      ],
      "text/plain": [
       "<IPython.core.display.HTML object>"
      ]
     },
     "metadata": {},
     "output_type": "display_data"
    }
   ],
   "source": [
    "if run is not None:\n",
    "    run.finish()"
   ]
  },
  {
   "cell_type": "code",
   "execution_count": 19,
   "id": "4c76b507-096f-4ff2-bd71-8f78e5fae664",
   "metadata": {},
   "outputs": [
    {
     "name": "stdout",
     "output_type": "stream",
     "text": [
      "Saved to /home/d.nesterov/denoising-fno/notebooks/mri/run-27-weights.pt\n"
     ]
    }
   ],
   "source": [
    "torch.save(trainer.model.to('cpu').state_dict(), cfg.save_weights_path)\n",
    "print(f'Saved to {cfg.save_weights_path}')"
   ]
  },
  {
   "cell_type": "code",
   "execution_count": null,
   "id": "7aea9de7-2afb-443a-b11f-1fe8bc45c39c",
   "metadata": {},
   "outputs": [],
   "source": []
  },
  {
   "cell_type": "code",
   "execution_count": null,
   "id": "c8a59942-6280-4363-aa43-37d16bb68733",
   "metadata": {},
   "outputs": [],
   "source": []
  },
  {
   "cell_type": "code",
   "execution_count": null,
   "id": "3ec58339-6630-4312-9a37-741feb134944",
   "metadata": {},
   "outputs": [],
   "source": []
  },
  {
   "cell_type": "code",
   "execution_count": null,
   "id": "e1d8a1f7-1c0f-4fff-82df-a037bfa97fb1",
   "metadata": {},
   "outputs": [],
   "source": []
  },
  {
   "cell_type": "code",
   "execution_count": null,
   "id": "b91011db-3644-4784-b3d1-d50bd6f8c388",
   "metadata": {},
   "outputs": [],
   "source": []
  },
  {
   "cell_type": "code",
   "execution_count": null,
   "id": "95be1981-7d88-496a-9e09-cf0c3396cba2",
   "metadata": {},
   "outputs": [],
   "source": []
  },
  {
   "cell_type": "code",
   "execution_count": null,
   "id": "c2870465-7ef7-4a14-a268-eb6696fd1d0c",
   "metadata": {},
   "outputs": [],
   "source": []
  }
 ],
 "metadata": {
  "kernelspec": {
   "display_name": "Python 3 (ipykernel)",
   "language": "python",
   "name": "python3"
  },
  "language_info": {
   "codemirror_mode": {
    "name": "ipython",
    "version": 3
   },
   "file_extension": ".py",
   "mimetype": "text/x-python",
   "name": "python",
   "nbconvert_exporter": "python",
   "pygments_lexer": "ipython3",
   "version": "3.10.16"
  }
 },
 "nbformat": 4,
 "nbformat_minor": 5
}
