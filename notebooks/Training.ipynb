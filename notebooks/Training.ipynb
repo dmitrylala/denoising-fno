{
 "cells": [
  {
   "cell_type": "code",
   "execution_count": 2,
   "id": "b9e79dad-2e4f-41ad-93db-b5f1753f4a13",
   "metadata": {},
   "outputs": [],
   "source": [
    "%load_ext autoreload\n",
    "%autoreload 2"
   ]
  },
  {
   "cell_type": "code",
   "execution_count": 3,
   "id": "647d0ede-50b7-40c3-a82d-ae8820fbd332",
   "metadata": {},
   "outputs": [],
   "source": [
    "from pathlib import Path\n",
    "\n",
    "import torch\n",
    "import wandb\n",
    "\n",
    "from config import Environment, TrainConfig\n",
    "from denoising.train import prepare_training\n",
    "from denoising.utils import seed_everything"
   ]
  },
  {
   "cell_type": "code",
   "execution_count": 4,
   "id": "97b1935f-8883-4494-98f2-314a7e8127d3",
   "metadata": {},
   "outputs": [
    {
     "name": "stderr",
     "output_type": "stream",
     "text": [
      "\u001b[34m\u001b[1mwandb\u001b[0m: Using wandb-core as the SDK backend.  Please refer to https://wandb.me/wandb-core for more information.\n",
      "\u001b[34m\u001b[1mwandb\u001b[0m: \u001b[33mWARNING\u001b[0m If you're specifying your api key in code, ensure this code is not shared publicly.\n",
      "\u001b[34m\u001b[1mwandb\u001b[0m: \u001b[33mWARNING\u001b[0m Consider setting the WANDB_API_KEY environment variable, or running `wandb login` from the command line.\n",
      "\u001b[34m\u001b[1mwandb\u001b[0m: Appending key for api.wandb.ai to your netrc file: /home/d.nesterov/.netrc\n",
      "\u001b[34m\u001b[1mwandb\u001b[0m: Currently logged in as: \u001b[33mdmitrylala\u001b[0m to \u001b[32mhttps://api.wandb.ai\u001b[0m. Use \u001b[1m`wandb login --relogin`\u001b[0m to force relogin\n"
     ]
    },
    {
     "data": {
      "text/plain": [
       "True"
      ]
     },
     "execution_count": 4,
     "metadata": {},
     "output_type": "execute_result"
    }
   ],
   "source": [
    "CWD = Path.cwd()\n",
    "env = Environment(_env_file=CWD / '../env')\n",
    "wandb.login(key=env.wandb_api_key)"
   ]
  },
  {
   "cell_type": "markdown",
   "id": "7d99881a-a80e-4612-ae43-e5d6e8af5f15",
   "metadata": {},
   "source": [
    "# Конфиг обучения и подготовка"
   ]
  },
  {
   "cell_type": "code",
   "execution_count": 5,
   "id": "cb0d707b-973d-49d8-9355-194f77abd650",
   "metadata": {},
   "outputs": [],
   "source": [
    "run_idx = 33\n",
    "save_dir = CWD / 'mri'\n",
    "\n",
    "\n",
    "cfg = TrainConfig(\n",
    "    # Datasets params\n",
    "    train_dset='mri_gt_train',\n",
    "    test_dset='mri_gt_val',\n",
    "    train_batch_size=64,\n",
    "    test_batch_size=128,\n",
    "    # Model params\n",
    "    name_model='mri-hno-gt-optuned-v2',\n",
    "    cfg_fno={\n",
    "        'n_modes': (16, 16),\n",
    "        'in_channels': 1,\n",
    "        'hidden_channels': 32,\n",
    "        'lifting_channel_ratio': 16,\n",
    "        'projection_channel_ratio': 2,\n",
    "        'out_channels': 1,\n",
    "        'factorization': 'dense',\n",
    "        'n_layers': 4,\n",
    "        'rank': 0.42,\n",
    "        'spectral': 'hartley',\n",
    "    },\n",
    "    # Run params\n",
    "    random_seed=42,\n",
    "    device='cuda:2',\n",
    "    run_name=f'Run {run_idx}, HNO gt optuned v2',\n",
    "    save_weights_path=save_dir / f'run-{run_idx}-weights.pt',\n",
    "    # Train params\n",
    "    n_epochs=90,\n",
    "    lr=5e-3,\n",
    "    wandb_log=True,\n",
    "    save_dir=save_dir / f'run-{run_idx}',\n",
    "    verbose=True,\n",
    ")"
   ]
  },
  {
   "cell_type": "code",
   "execution_count": 6,
   "id": "b46d2e49-93f6-49f7-9b99-d83c578f8b8b",
   "metadata": {},
   "outputs": [
    {
     "name": "stdout",
     "output_type": "stream",
     "text": [
      "Got n_samples = 8380  in dataset mri_pm_train        with sample size = torch.Size([1, 145, 145])\n",
      "Got n_samples = 2093  in dataset mri_pm_test         with sample size = torch.Size([1, 145, 145])\n",
      "Got n_samples = 6704  in dataset mri_gt_train        with sample size = torch.Size([1, 145, 145])\n",
      "Got n_samples = 1676  in dataset mri_gt_val          with sample size = torch.Size([1, 145, 145])\n",
      "Got n_samples = 2093  in dataset mri_gt_test         with sample size = torch.Size([1, 145, 145])\n",
      "Got n_samples = 137   in dataset bsd_synth_0.01_train with sample size = torch.Size([1, 321, 481])\n",
      "Got n_samples = 77    in dataset bsd_synth_0.01_test with sample size = torch.Size([1, 321, 481])\n",
      "Got n_samples = 12296 in dataset sidd_train          with sample size = torch.Size([3, 512, 512])\n",
      "Got n_samples = 3008  in dataset sidd_test           with sample size = torch.Size([3, 512, 512])\n",
      "torch.Size([64, 1, 145, 145]) torch.Size([64, 1, 145, 145])\n",
      "Loaded  model mri-fno-neuralop with n_parameters = 2010449\n",
      "Loaded  model mri-fno-tucker   with n_parameters = 2010449\n",
      "Loaded  model mri-fno-dense    with n_parameters = 4476513\n",
      "Loaded  model mri-hno          with n_parameters = 1098977\n",
      "Loaded  model mri-hno-optuned  with n_parameters = 10552961\n",
      "Loaded  model mri-fno-optuned  with n_parameters = 4197273\n",
      "Loaded  model mri-hno-gt-optuned with n_parameters = 395249\n",
      "Loaded  model mri-fno-gt-optuned with n_parameters = 212765\n",
      "Loaded  model sidd-fno-run2    with n_parameters = 2011091\n",
      "Loaded  model sidd-fno-run3    with n_parameters = 2011091\n",
      "Loaded  model sidd-fno-run4    with n_parameters = 2028627\n",
      "Loaded  model bsd-fno          with n_parameters = 2010449\n",
      "Created model mri-hno-gt-optuned-v2 with n_parameters = 4223585\n"
     ]
    },
    {
     "data": {
      "text/html": [
       "Tracking run with wandb version 0.19.9"
      ],
      "text/plain": [
       "<IPython.core.display.HTML object>"
      ]
     },
     "metadata": {},
     "output_type": "display_data"
    },
    {
     "data": {
      "text/html": [
       "Run data is saved locally in <code>/home/d.nesterov/denoising-fno/notebooks/wandb/run-20250420_182138-1u9ubwwk</code>"
      ],
      "text/plain": [
       "<IPython.core.display.HTML object>"
      ]
     },
     "metadata": {},
     "output_type": "display_data"
    },
    {
     "data": {
      "text/html": [
       "Syncing run <strong><a href='https://wandb.ai/dmitrylala/Denoising%20MRI/runs/1u9ubwwk' target=\"_blank\">Run 33, HNO gt optuned v2</a></strong> to <a href='https://wandb.ai/dmitrylala/Denoising%20MRI' target=\"_blank\">Weights & Biases</a> (<a href='https://wandb.me/developer-guide' target=\"_blank\">docs</a>)<br>"
      ],
      "text/plain": [
       "<IPython.core.display.HTML object>"
      ]
     },
     "metadata": {},
     "output_type": "display_data"
    },
    {
     "data": {
      "text/html": [
       " View project at <a href='https://wandb.ai/dmitrylala/Denoising%20MRI' target=\"_blank\">https://wandb.ai/dmitrylala/Denoising%20MRI</a>"
      ],
      "text/plain": [
       "<IPython.core.display.HTML object>"
      ]
     },
     "metadata": {},
     "output_type": "display_data"
    },
    {
     "data": {
      "text/html": [
       " View run at <a href='https://wandb.ai/dmitrylala/Denoising%20MRI/runs/1u9ubwwk' target=\"_blank\">https://wandb.ai/dmitrylala/Denoising%20MRI/runs/1u9ubwwk</a>"
      ],
      "text/plain": [
       "<IPython.core.display.HTML object>"
      ]
     },
     "metadata": {},
     "output_type": "display_data"
    },
    {
     "name": "stdout",
     "output_type": "stream",
     "text": [
      "Logging to wandb enabled: True\n"
     ]
    }
   ],
   "source": [
    "trainer, train_kwargs, run = prepare_training(env, cfg)"
   ]
  },
  {
   "cell_type": "markdown",
   "id": "02f40e6b-94c7-4047-851e-cbed41b49dfc",
   "metadata": {},
   "source": [
    "# Запуск"
   ]
  },
  {
   "cell_type": "code",
   "execution_count": 7,
   "id": "e24299d8-3114-4643-94a0-097b9c7a73ef",
   "metadata": {
    "scrolled": true
   },
   "outputs": [
    {
     "name": "stdout",
     "output_type": "stream",
     "text": [
      "Training on 6704 samples\n",
      "Testing on [1676] samples         on resolutions ['test'].\n",
      "Raw outputs of shape torch.Size([64, 1, 145, 145])\n",
      "[0] time=43.49, avg_loss=0.3341, train_err=21.3285\n",
      "Eval: test_h1=0.3015, test_l2=0.0976\n",
      "Saved training state to /home/d.nesterov/denoising-fno/notebooks/mri/run-33\n",
      "[1] time=39.35, avg_loss=0.2990, train_err=19.0893\n",
      "Eval: test_h1=0.2922, test_l2=0.0933\n",
      "Saved training state to /home/d.nesterov/denoising-fno/notebooks/mri/run-33\n",
      "[2] time=39.66, avg_loss=0.2904, train_err=18.5399\n",
      "Eval: test_h1=0.2849, test_l2=0.0878\n",
      "Saved training state to /home/d.nesterov/denoising-fno/notebooks/mri/run-33\n",
      "[3] time=40.00, avg_loss=0.2817, train_err=17.9860\n",
      "Eval: test_h1=0.2767, test_l2=0.0837\n",
      "Saved training state to /home/d.nesterov/denoising-fno/notebooks/mri/run-33\n",
      "[4] time=40.75, avg_loss=0.2746, train_err=17.5353\n",
      "Eval: test_h1=0.2704, test_l2=0.0834\n",
      "Saved training state to /home/d.nesterov/denoising-fno/notebooks/mri/run-33\n",
      "[5] time=39.34, avg_loss=0.2683, train_err=17.1311\n",
      "Eval: test_h1=0.2661, test_l2=0.0822\n",
      "Saved training state to /home/d.nesterov/denoising-fno/notebooks/mri/run-33\n",
      "[6] time=39.26, avg_loss=0.2648, train_err=16.9084\n",
      "Eval: test_h1=0.2614, test_l2=0.0791\n",
      "Saved training state to /home/d.nesterov/denoising-fno/notebooks/mri/run-33\n",
      "[7] time=38.81, avg_loss=0.2598, train_err=16.5854\n",
      "Eval: test_h1=0.2582, test_l2=0.0787\n",
      "Saved training state to /home/d.nesterov/denoising-fno/notebooks/mri/run-33\n",
      "[8] time=39.28, avg_loss=0.2572, train_err=16.4186\n",
      "Eval: test_h1=0.2554, test_l2=0.0776\n",
      "Saved training state to /home/d.nesterov/denoising-fno/notebooks/mri/run-33\n",
      "[9] time=39.10, avg_loss=0.2532, train_err=16.1672\n",
      "Eval: test_h1=0.2520, test_l2=0.0760\n",
      "Saved training state to /home/d.nesterov/denoising-fno/notebooks/mri/run-33\n",
      "[10] time=39.28, avg_loss=0.2488, train_err=15.8829\n",
      "Eval: test_h1=0.2478, test_l2=0.0742\n",
      "Saved training state to /home/d.nesterov/denoising-fno/notebooks/mri/run-33\n",
      "[11] time=40.09, avg_loss=0.2444, train_err=15.6061\n",
      "Eval: test_h1=0.2444, test_l2=0.0727\n",
      "Saved training state to /home/d.nesterov/denoising-fno/notebooks/mri/run-33\n",
      "[12] time=39.79, avg_loss=0.2406, train_err=15.3647\n",
      "Eval: test_h1=0.2402, test_l2=0.0715\n",
      "Saved training state to /home/d.nesterov/denoising-fno/notebooks/mri/run-33\n",
      "[13] time=39.14, avg_loss=0.2382, train_err=15.2061\n",
      "Eval: test_h1=0.2422, test_l2=0.0729\n",
      "Saved training state to /home/d.nesterov/denoising-fno/notebooks/mri/run-33\n",
      "[14] time=39.46, avg_loss=0.2357, train_err=15.0511\n",
      "Eval: test_h1=0.2354, test_l2=0.0700\n",
      "Saved training state to /home/d.nesterov/denoising-fno/notebooks/mri/run-33\n",
      "[15] time=39.33, avg_loss=0.2327, train_err=14.8595\n",
      "Eval: test_h1=0.2330, test_l2=0.0694\n",
      "Saved training state to /home/d.nesterov/denoising-fno/notebooks/mri/run-33\n",
      "[16] time=39.35, avg_loss=0.2301, train_err=14.6936\n",
      "Eval: test_h1=0.2307, test_l2=0.0686\n",
      "Saved training state to /home/d.nesterov/denoising-fno/notebooks/mri/run-33\n",
      "[17] time=39.98, avg_loss=0.2281, train_err=14.5645\n",
      "Eval: test_h1=0.2282, test_l2=0.0676\n",
      "Saved training state to /home/d.nesterov/denoising-fno/notebooks/mri/run-33\n",
      "[18] time=39.88, avg_loss=0.2257, train_err=14.4089\n",
      "Eval: test_h1=0.2270, test_l2=0.0671\n",
      "Saved training state to /home/d.nesterov/denoising-fno/notebooks/mri/run-33\n",
      "[19] time=39.26, avg_loss=0.2240, train_err=14.3044\n",
      "Eval: test_h1=0.2255, test_l2=0.0664\n",
      "Saved training state to /home/d.nesterov/denoising-fno/notebooks/mri/run-33\n",
      "[20] time=39.59, avg_loss=0.2222, train_err=14.1863\n",
      "Eval: test_h1=0.2239, test_l2=0.0658\n",
      "Saved training state to /home/d.nesterov/denoising-fno/notebooks/mri/run-33\n",
      "[21] time=39.00, avg_loss=0.2208, train_err=14.0978\n",
      "Eval: test_h1=0.2226, test_l2=0.0656\n",
      "Saved training state to /home/d.nesterov/denoising-fno/notebooks/mri/run-33\n",
      "[22] time=39.17, avg_loss=0.2194, train_err=14.0053\n",
      "Eval: test_h1=0.2214, test_l2=0.0652\n",
      "Saved training state to /home/d.nesterov/denoising-fno/notebooks/mri/run-33\n",
      "[23] time=39.08, avg_loss=0.2182, train_err=13.9299\n",
      "Eval: test_h1=0.2205, test_l2=0.0649\n",
      "Saved training state to /home/d.nesterov/denoising-fno/notebooks/mri/run-33\n",
      "[24] time=39.83, avg_loss=0.2171, train_err=13.8616\n",
      "Eval: test_h1=0.2197, test_l2=0.0646\n",
      "Saved training state to /home/d.nesterov/denoising-fno/notebooks/mri/run-33\n",
      "[25] time=39.37, avg_loss=0.2162, train_err=13.8036\n",
      "Eval: test_h1=0.2189, test_l2=0.0643\n",
      "Saved training state to /home/d.nesterov/denoising-fno/notebooks/mri/run-33\n",
      "[26] time=38.68, avg_loss=0.2154, train_err=13.7555\n",
      "Eval: test_h1=0.2185, test_l2=0.0642\n",
      "Saved training state to /home/d.nesterov/denoising-fno/notebooks/mri/run-33\n",
      "[27] time=39.06, avg_loss=0.2149, train_err=13.7188\n",
      "Eval: test_h1=0.2182, test_l2=0.0642\n",
      "Saved training state to /home/d.nesterov/denoising-fno/notebooks/mri/run-33\n",
      "[28] time=39.17, avg_loss=0.2145, train_err=13.6937\n",
      "Eval: test_h1=0.2180, test_l2=0.0640\n",
      "Saved training state to /home/d.nesterov/denoising-fno/notebooks/mri/run-33\n",
      "[29] time=38.79, avg_loss=0.2142, train_err=13.6788\n",
      "Eval: test_h1=0.2179, test_l2=0.0640\n",
      "Saved training state to /home/d.nesterov/denoising-fno/notebooks/mri/run-33\n",
      "[30] time=38.91, avg_loss=0.2142, train_err=13.6736\n",
      "Eval: test_h1=0.2179, test_l2=0.0640\n",
      "Saved training state to /home/d.nesterov/denoising-fno/notebooks/mri/run-33\n",
      "[31] time=39.63, avg_loss=0.2142, train_err=13.6765\n",
      "Eval: test_h1=0.2179, test_l2=0.0640\n",
      "Saved training state to /home/d.nesterov/denoising-fno/notebooks/mri/run-33\n",
      "[32] time=39.15, avg_loss=0.2143, train_err=13.6838\n",
      "Eval: test_h1=0.2179, test_l2=0.0640\n",
      "Saved training state to /home/d.nesterov/denoising-fno/notebooks/mri/run-33\n",
      "[33] time=38.88, avg_loss=0.2145, train_err=13.6931\n",
      "Eval: test_h1=0.2179, test_l2=0.0640\n",
      "Saved training state to /home/d.nesterov/denoising-fno/notebooks/mri/run-33\n",
      "[34] time=38.70, avg_loss=0.2146, train_err=13.7019\n",
      "Eval: test_h1=0.2178, test_l2=0.0641\n",
      "Saved training state to /home/d.nesterov/denoising-fno/notebooks/mri/run-33\n",
      "[35] time=39.33, avg_loss=0.2148, train_err=13.7152\n",
      "Eval: test_h1=0.2179, test_l2=0.0644\n",
      "Saved training state to /home/d.nesterov/denoising-fno/notebooks/mri/run-33\n",
      "[36] time=39.36, avg_loss=0.2153, train_err=13.7494\n",
      "Eval: test_h1=0.2176, test_l2=0.0643\n",
      "Saved training state to /home/d.nesterov/denoising-fno/notebooks/mri/run-33\n",
      "[37] time=40.29, avg_loss=0.2154, train_err=13.7509\n",
      "Eval: test_h1=0.2177, test_l2=0.0642\n",
      "Saved training state to /home/d.nesterov/denoising-fno/notebooks/mri/run-33\n",
      "[38] time=39.16, avg_loss=0.2169, train_err=13.8502\n",
      "Eval: test_h1=0.2175, test_l2=0.0640\n",
      "Saved training state to /home/d.nesterov/denoising-fno/notebooks/mri/run-33\n",
      "[39] time=39.54, avg_loss=0.2168, train_err=13.8453\n",
      "Eval: test_h1=0.2176, test_l2=0.0643\n",
      "Saved training state to /home/d.nesterov/denoising-fno/notebooks/mri/run-33\n",
      "[40] time=39.53, avg_loss=0.2167, train_err=13.8367\n",
      "Eval: test_h1=0.2184, test_l2=0.0648\n",
      "Saved training state to /home/d.nesterov/denoising-fno/notebooks/mri/run-33\n",
      "[41] time=39.22, avg_loss=0.2165, train_err=13.8205\n",
      "Eval: test_h1=0.2176, test_l2=0.0650\n",
      "Saved training state to /home/d.nesterov/denoising-fno/notebooks/mri/run-33\n",
      "[42] time=39.87, avg_loss=0.2170, train_err=13.8533\n",
      "Eval: test_h1=0.2168, test_l2=0.0640\n",
      "Saved training state to /home/d.nesterov/denoising-fno/notebooks/mri/run-33\n",
      "[43] time=39.88, avg_loss=0.2173, train_err=13.8769\n",
      "Eval: test_h1=0.2172, test_l2=0.0650\n",
      "Saved training state to /home/d.nesterov/denoising-fno/notebooks/mri/run-33\n",
      "[44] time=39.64, avg_loss=0.2163, train_err=13.8093\n",
      "Eval: test_h1=0.2174, test_l2=0.0641\n",
      "Saved training state to /home/d.nesterov/denoising-fno/notebooks/mri/run-33\n",
      "[45] time=39.64, avg_loss=0.2157, train_err=13.7747\n",
      "Eval: test_h1=0.2162, test_l2=0.0639\n",
      "Saved training state to /home/d.nesterov/denoising-fno/notebooks/mri/run-33\n",
      "[46] time=40.74, avg_loss=0.2163, train_err=13.8084\n",
      "Eval: test_h1=0.2152, test_l2=0.0635\n",
      "Saved training state to /home/d.nesterov/denoising-fno/notebooks/mri/run-33\n",
      "[47] time=40.69, avg_loss=0.2158, train_err=13.7797\n",
      "Eval: test_h1=0.2154, test_l2=0.0639\n",
      "Saved training state to /home/d.nesterov/denoising-fno/notebooks/mri/run-33\n",
      "[48] time=42.13, avg_loss=0.2150, train_err=13.7300\n",
      "Eval: test_h1=0.2164, test_l2=0.0673\n",
      "Saved training state to /home/d.nesterov/denoising-fno/notebooks/mri/run-33\n",
      "[49] time=40.63, avg_loss=0.2150, train_err=13.7268\n",
      "Eval: test_h1=0.2142, test_l2=0.0633\n",
      "Saved training state to /home/d.nesterov/denoising-fno/notebooks/mri/run-33\n",
      "[50] time=42.46, avg_loss=0.2147, train_err=13.7062\n",
      "Eval: test_h1=0.2140, test_l2=0.0632\n",
      "Saved training state to /home/d.nesterov/denoising-fno/notebooks/mri/run-33\n",
      "[51] time=39.90, avg_loss=0.2145, train_err=13.6960\n",
      "Eval: test_h1=0.2132, test_l2=0.0646\n",
      "Saved training state to /home/d.nesterov/denoising-fno/notebooks/mri/run-33\n",
      "[52] time=39.48, avg_loss=0.2140, train_err=13.6639\n",
      "Eval: test_h1=0.2151, test_l2=0.0642\n",
      "Saved training state to /home/d.nesterov/denoising-fno/notebooks/mri/run-33\n",
      "[53] time=39.13, avg_loss=0.2122, train_err=13.5505\n",
      "Eval: test_h1=0.2122, test_l2=0.0641\n",
      "Saved training state to /home/d.nesterov/denoising-fno/notebooks/mri/run-33\n",
      "[54] time=39.34, avg_loss=0.2128, train_err=13.5882\n",
      "Eval: test_h1=0.2119, test_l2=0.0623\n",
      "Saved training state to /home/d.nesterov/denoising-fno/notebooks/mri/run-33\n",
      "[55] time=39.77, avg_loss=0.2122, train_err=13.5464\n",
      "Eval: test_h1=0.2110, test_l2=0.0620\n",
      "Saved training state to /home/d.nesterov/denoising-fno/notebooks/mri/run-33\n",
      "[56] time=41.15, avg_loss=0.2113, train_err=13.4930\n",
      "Eval: test_h1=0.2120, test_l2=0.0626\n",
      "Saved training state to /home/d.nesterov/denoising-fno/notebooks/mri/run-33\n",
      "[57] time=42.88, avg_loss=0.2114, train_err=13.4985\n",
      "Eval: test_h1=0.2115, test_l2=0.0626\n",
      "Saved training state to /home/d.nesterov/denoising-fno/notebooks/mri/run-33\n",
      "[58] time=41.47, avg_loss=0.2098, train_err=13.3941\n",
      "Eval: test_h1=0.2099, test_l2=0.0628\n",
      "Saved training state to /home/d.nesterov/denoising-fno/notebooks/mri/run-33\n",
      "[59] time=42.06, avg_loss=0.2091, train_err=13.3485\n",
      "Eval: test_h1=0.2097, test_l2=0.0617\n",
      "Saved training state to /home/d.nesterov/denoising-fno/notebooks/mri/run-33\n",
      "[60] time=41.31, avg_loss=0.2090, train_err=13.3418\n",
      "Eval: test_h1=0.2078, test_l2=0.0614\n",
      "Saved training state to /home/d.nesterov/denoising-fno/notebooks/mri/run-33\n",
      "[61] time=39.94, avg_loss=0.2081, train_err=13.2896\n",
      "Eval: test_h1=0.2073, test_l2=0.0613\n",
      "Saved training state to /home/d.nesterov/denoising-fno/notebooks/mri/run-33\n",
      "[62] time=39.62, avg_loss=0.2074, train_err=13.2393\n",
      "Eval: test_h1=0.2081, test_l2=0.0616\n",
      "Saved training state to /home/d.nesterov/denoising-fno/notebooks/mri/run-33\n",
      "[63] time=41.90, avg_loss=0.2063, train_err=13.1694\n",
      "Eval: test_h1=0.2055, test_l2=0.0603\n",
      "Saved training state to /home/d.nesterov/denoising-fno/notebooks/mri/run-33\n",
      "[64] time=40.17, avg_loss=0.2057, train_err=13.1320\n",
      "Eval: test_h1=0.2068, test_l2=0.0606\n",
      "Saved training state to /home/d.nesterov/denoising-fno/notebooks/mri/run-33\n",
      "[65] time=39.70, avg_loss=0.2045, train_err=13.0573\n",
      "Eval: test_h1=0.2040, test_l2=0.0600\n",
      "Saved training state to /home/d.nesterov/denoising-fno/notebooks/mri/run-33\n",
      "[66] time=40.51, avg_loss=0.2042, train_err=13.0403\n",
      "Eval: test_h1=0.2047, test_l2=0.0603\n",
      "Saved training state to /home/d.nesterov/denoising-fno/notebooks/mri/run-33\n",
      "[67] time=39.48, avg_loss=0.2026, train_err=12.9385\n",
      "Eval: test_h1=0.2031, test_l2=0.0599\n",
      "Saved training state to /home/d.nesterov/denoising-fno/notebooks/mri/run-33\n",
      "[68] time=40.64, avg_loss=0.2021, train_err=12.9028\n",
      "Eval: test_h1=0.2021, test_l2=0.0601\n",
      "Saved training state to /home/d.nesterov/denoising-fno/notebooks/mri/run-33\n",
      "[69] time=42.73, avg_loss=0.2012, train_err=12.8442\n",
      "Eval: test_h1=0.2032, test_l2=0.0602\n",
      "Saved training state to /home/d.nesterov/denoising-fno/notebooks/mri/run-33\n",
      "[70] time=41.20, avg_loss=0.1999, train_err=12.7639\n",
      "Eval: test_h1=0.2012, test_l2=0.0599\n",
      "Saved training state to /home/d.nesterov/denoising-fno/notebooks/mri/run-33\n",
      "[71] time=41.75, avg_loss=0.1991, train_err=12.7140\n",
      "Eval: test_h1=0.2001, test_l2=0.0591\n",
      "Saved training state to /home/d.nesterov/denoising-fno/notebooks/mri/run-33\n",
      "[72] time=42.61, avg_loss=0.1983, train_err=12.6580\n",
      "Eval: test_h1=0.1998, test_l2=0.0587\n",
      "Saved training state to /home/d.nesterov/denoising-fno/notebooks/mri/run-33\n",
      "[73] time=39.85, avg_loss=0.1971, train_err=12.5858\n",
      "Eval: test_h1=0.1980, test_l2=0.0587\n",
      "Saved training state to /home/d.nesterov/denoising-fno/notebooks/mri/run-33\n",
      "[74] time=40.60, avg_loss=0.1966, train_err=12.5520\n",
      "Eval: test_h1=0.1974, test_l2=0.0581\n",
      "Saved training state to /home/d.nesterov/denoising-fno/notebooks/mri/run-33\n",
      "[75] time=39.62, avg_loss=0.1952, train_err=12.4607\n",
      "Eval: test_h1=0.1966, test_l2=0.0579\n",
      "Saved training state to /home/d.nesterov/denoising-fno/notebooks/mri/run-33\n",
      "[76] time=40.75, avg_loss=0.1945, train_err=12.4156\n",
      "Eval: test_h1=0.1959, test_l2=0.0577\n",
      "Saved training state to /home/d.nesterov/denoising-fno/notebooks/mri/run-33\n",
      "[77] time=40.01, avg_loss=0.1934, train_err=12.3472\n",
      "Eval: test_h1=0.1951, test_l2=0.0577\n",
      "Saved training state to /home/d.nesterov/denoising-fno/notebooks/mri/run-33\n",
      "[78] time=39.41, avg_loss=0.1924, train_err=12.2813\n",
      "Eval: test_h1=0.1944, test_l2=0.0574\n",
      "Saved training state to /home/d.nesterov/denoising-fno/notebooks/mri/run-33\n",
      "[79] time=40.12, avg_loss=0.1914, train_err=12.2223\n",
      "Eval: test_h1=0.1934, test_l2=0.0570\n",
      "Saved training state to /home/d.nesterov/denoising-fno/notebooks/mri/run-33\n",
      "[80] time=40.97, avg_loss=0.1904, train_err=12.1570\n",
      "Eval: test_h1=0.1925, test_l2=0.0568\n",
      "Saved training state to /home/d.nesterov/denoising-fno/notebooks/mri/run-33\n",
      "[81] time=43.54, avg_loss=0.1893, train_err=12.0859\n",
      "Eval: test_h1=0.1917, test_l2=0.0567\n",
      "Saved training state to /home/d.nesterov/denoising-fno/notebooks/mri/run-33\n",
      "[82] time=42.75, avg_loss=0.1884, train_err=12.0288\n",
      "Eval: test_h1=0.1911, test_l2=0.0565\n",
      "Saved training state to /home/d.nesterov/denoising-fno/notebooks/mri/run-33\n",
      "[83] time=41.61, avg_loss=0.1875, train_err=11.9744\n",
      "Eval: test_h1=0.1902, test_l2=0.0564\n",
      "Saved training state to /home/d.nesterov/denoising-fno/notebooks/mri/run-33\n",
      "[84] time=41.95, avg_loss=0.1867, train_err=11.9210\n",
      "Eval: test_h1=0.1897, test_l2=0.0561\n",
      "Saved training state to /home/d.nesterov/denoising-fno/notebooks/mri/run-33\n",
      "[85] time=40.31, avg_loss=0.1860, train_err=11.8766\n",
      "Eval: test_h1=0.1893, test_l2=0.0560\n",
      "Saved training state to /home/d.nesterov/denoising-fno/notebooks/mri/run-33\n",
      "[86] time=39.50, avg_loss=0.1854, train_err=11.8397\n",
      "Eval: test_h1=0.1889, test_l2=0.0559\n",
      "Saved training state to /home/d.nesterov/denoising-fno/notebooks/mri/run-33\n",
      "[87] time=39.38, avg_loss=0.1850, train_err=11.8103\n",
      "Eval: test_h1=0.1886, test_l2=0.0558\n",
      "Saved training state to /home/d.nesterov/denoising-fno/notebooks/mri/run-33\n",
      "[88] time=40.87, avg_loss=0.1846, train_err=11.7893\n",
      "Eval: test_h1=0.1885, test_l2=0.0558\n",
      "Saved training state to /home/d.nesterov/denoising-fno/notebooks/mri/run-33\n",
      "[89] time=39.89, avg_loss=0.1844, train_err=11.7766\n",
      "Eval: test_h1=0.1885, test_l2=0.0558\n",
      "Saved training state to /home/d.nesterov/denoising-fno/notebooks/mri/run-33\n"
     ]
    },
    {
     "data": {
      "text/plain": [
       "{'train_err': 11.776624761308943,\n",
       " 'avg_loss': 0.1844489260049879,\n",
       " 'epoch_train_time': 39.887530183419585,\n",
       " 'test_h1': tensor(0.1885, device='cuda:2'),\n",
       " 'test_l2': tensor(0.0558, device='cuda:2'),\n",
       " 'test_outputs': <wandb.sdk.data_types.image.Image at 0x7fb4bb677c40>}"
      ]
     },
     "execution_count": 7,
     "metadata": {},
     "output_type": "execute_result"
    }
   ],
   "source": [
    "seed_everything(cfg.random_seed)\n",
    "trainer.train(**train_kwargs)"
   ]
  },
  {
   "cell_type": "code",
   "execution_count": 8,
   "id": "0fdd48a9-1cc2-46c3-84fc-3883ef341541",
   "metadata": {},
   "outputs": [
    {
     "data": {
      "text/html": [],
      "text/plain": [
       "<IPython.core.display.HTML object>"
      ]
     },
     "metadata": {},
     "output_type": "display_data"
    },
    {
     "data": {
      "text/html": [
       "<br>    <style><br>        .wandb-row {<br>            display: flex;<br>            flex-direction: row;<br>            flex-wrap: wrap;<br>            justify-content: flex-start;<br>            width: 100%;<br>        }<br>        .wandb-col {<br>            display: flex;<br>            flex-direction: column;<br>            flex-basis: 100%;<br>            flex: 1;<br>            padding: 10px;<br>        }<br>    </style><br><div class=\"wandb-row\"><div class=\"wandb-col\"><h3>Run history:</h3><br/><table class=\"wandb\"><tr><td>avg_loss</td><td>█▇▇▆▆▆▅▄▄▃▃▃▃▃▃▃▃▃▃▃▃▃▃▃▃▃▃▃▃▂▂▂▂▂▂▁▁▁▁▁</td></tr><tr><td>lr</td><td>██▇▇▆▅▅▃▂▂▁▁▁▁▂▂▃▃▅▅▇████████▇▅▅▅▄▃▂▂▁▁▁</td></tr><tr><td>test_h1</td><td>█▆▆▆▅▄▄▄▄▃▃▃▃▃▃▃▃▃▃▃▃▃▃▃▂▂▂▂▂▂▂▁▁▁▁▁▁▁▁▁</td></tr><tr><td>test_l2</td><td>█▇▆▅▅▄▄▄▃▃▃▂▂▂▂▂▂▃▂▂▂▂▂▂▂▂▂▂▂▂▁▁▁▁▁▁▁▁▁▁</td></tr><tr><td>time</td><td>▃▃▂▂▂▂▂▃▂▂▂▁▂▂▁▂▂▄▄▇▇▂▃▅█▅▃▃▃▄▅▆█▄▃▃█▆▄▃</td></tr><tr><td>train_err</td><td>█▆▆▅▄▄▃▃▃▃▂▂▂▂▂▂▂▃▃▃▂▂▂▂▂▂▂▂▂▂▂▂▂▂▁▁▁▁▁▁</td></tr></table><br/></div><div class=\"wandb-col\"><h3>Run summary:</h3><br/><table class=\"wandb\"><tr><td>avg_loss</td><td>0.18445</td></tr><tr><td>lr</td><td>0</td></tr><tr><td>test_h1</td><td>0.18847</td></tr><tr><td>test_l2</td><td>0.0558</td></tr><tr><td>time</td><td>39.88753</td></tr><tr><td>train_err</td><td>11.77662</td></tr></table><br/></div></div>"
      ],
      "text/plain": [
       "<IPython.core.display.HTML object>"
      ]
     },
     "metadata": {},
     "output_type": "display_data"
    },
    {
     "data": {
      "text/html": [
       " View run <strong style=\"color:#cdcd00\">Run 33, HNO gt optuned v2</strong> at: <a href='https://wandb.ai/dmitrylala/Denoising%20MRI/runs/1u9ubwwk' target=\"_blank\">https://wandb.ai/dmitrylala/Denoising%20MRI/runs/1u9ubwwk</a><br> View project at: <a href='https://wandb.ai/dmitrylala/Denoising%20MRI' target=\"_blank\">https://wandb.ai/dmitrylala/Denoising%20MRI</a><br>Synced 5 W&B file(s), 90 media file(s), 0 artifact file(s) and 0 other file(s)"
      ],
      "text/plain": [
       "<IPython.core.display.HTML object>"
      ]
     },
     "metadata": {},
     "output_type": "display_data"
    },
    {
     "data": {
      "text/html": [
       "Find logs at: <code>./wandb/run-20250420_182138-1u9ubwwk/logs</code>"
      ],
      "text/plain": [
       "<IPython.core.display.HTML object>"
      ]
     },
     "metadata": {},
     "output_type": "display_data"
    }
   ],
   "source": [
    "if run is not None:\n",
    "    run.finish()"
   ]
  },
  {
   "cell_type": "code",
   "execution_count": 9,
   "id": "4c76b507-096f-4ff2-bd71-8f78e5fae664",
   "metadata": {},
   "outputs": [
    {
     "name": "stdout",
     "output_type": "stream",
     "text": [
      "Saved to /home/d.nesterov/denoising-fno/notebooks/mri/run-33-weights.pt\n"
     ]
    }
   ],
   "source": [
    "torch.save(trainer.model.to('cpu').state_dict(), cfg.save_weights_path)\n",
    "print(f'Saved to {cfg.save_weights_path}')"
   ]
  },
  {
   "cell_type": "code",
   "execution_count": null,
   "id": "7aea9de7-2afb-443a-b11f-1fe8bc45c39c",
   "metadata": {},
   "outputs": [],
   "source": []
  },
  {
   "cell_type": "code",
   "execution_count": null,
   "id": "c8a59942-6280-4363-aa43-37d16bb68733",
   "metadata": {},
   "outputs": [],
   "source": []
  },
  {
   "cell_type": "code",
   "execution_count": null,
   "id": "3ec58339-6630-4312-9a37-741feb134944",
   "metadata": {},
   "outputs": [],
   "source": []
  },
  {
   "cell_type": "code",
   "execution_count": null,
   "id": "e1d8a1f7-1c0f-4fff-82df-a037bfa97fb1",
   "metadata": {},
   "outputs": [],
   "source": []
  },
  {
   "cell_type": "code",
   "execution_count": null,
   "id": "b91011db-3644-4784-b3d1-d50bd6f8c388",
   "metadata": {},
   "outputs": [],
   "source": []
  },
  {
   "cell_type": "code",
   "execution_count": null,
   "id": "95be1981-7d88-496a-9e09-cf0c3396cba2",
   "metadata": {},
   "outputs": [],
   "source": []
  },
  {
   "cell_type": "code",
   "execution_count": null,
   "id": "c2870465-7ef7-4a14-a268-eb6696fd1d0c",
   "metadata": {},
   "outputs": [],
   "source": []
  }
 ],
 "metadata": {
  "kernelspec": {
   "display_name": "Python 3 (ipykernel)",
   "language": "python",
   "name": "python3"
  },
  "language_info": {
   "codemirror_mode": {
    "name": "ipython",
    "version": 3
   },
   "file_extension": ".py",
   "mimetype": "text/x-python",
   "name": "python",
   "nbconvert_exporter": "python",
   "pygments_lexer": "ipython3",
   "version": "3.10.16"
  }
 },
 "nbformat": 4,
 "nbformat_minor": 5
}
