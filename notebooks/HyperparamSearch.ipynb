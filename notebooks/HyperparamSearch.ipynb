{
 "cells": [
  {
   "cell_type": "code",
   "execution_count": 1,
   "id": "2cafe0cb-2973-4851-9081-73cbe196677b",
   "metadata": {},
   "outputs": [],
   "source": [
    "%load_ext autoreload\n",
    "%autoreload 2"
   ]
  },
  {
   "cell_type": "code",
   "execution_count": 2,
   "id": "24ba8cdf-0d0b-4bdb-b015-a03c10f7fb50",
   "metadata": {},
   "outputs": [],
   "source": [
    "import logging\n",
    "import sys\n",
    "import pickle\n",
    "from pathlib import Path\n",
    "\n",
    "import torch\n",
    "import wandb\n",
    "import optuna\n",
    "from optuna.trial import TrialState\n",
    "\n",
    "from config import Environment, TrainConfig\n",
    "from denoising.train import prepare_training\n",
    "from denoising.utils import seed_everything\n",
    "from denoising.models.utils import count_parameters"
   ]
  },
  {
   "cell_type": "code",
   "execution_count": 3,
   "id": "55f59c6a-46f9-4d45-a382-6a3b3b9326f2",
   "metadata": {},
   "outputs": [
    {
     "name": "stderr",
     "output_type": "stream",
     "text": [
      "\u001b[34m\u001b[1mwandb\u001b[0m: Using wandb-core as the SDK backend.  Please refer to https://wandb.me/wandb-core for more information.\n",
      "\u001b[34m\u001b[1mwandb\u001b[0m: \u001b[33mWARNING\u001b[0m If you're specifying your api key in code, ensure this code is not shared publicly.\n",
      "\u001b[34m\u001b[1mwandb\u001b[0m: \u001b[33mWARNING\u001b[0m Consider setting the WANDB_API_KEY environment variable, or running `wandb login` from the command line.\n",
      "\u001b[34m\u001b[1mwandb\u001b[0m: Appending key for api.wandb.ai to your netrc file: /home/d.nesterov/.netrc\n",
      "\u001b[34m\u001b[1mwandb\u001b[0m: Currently logged in as: \u001b[33mdmitrylala\u001b[0m to \u001b[32mhttps://api.wandb.ai\u001b[0m. Use \u001b[1m`wandb login --relogin`\u001b[0m to force relogin\n"
     ]
    },
    {
     "data": {
      "text/plain": [
       "True"
      ]
     },
     "execution_count": 3,
     "metadata": {},
     "output_type": "execute_result"
    }
   ],
   "source": [
    "CWD = Path.cwd()\n",
    "env = Environment(_env_file=CWD / '../env')\n",
    "wandb.login(key=env.wandb_api_key)"
   ]
  },
  {
   "cell_type": "code",
   "execution_count": 6,
   "id": "fc80ed5f-c129-4b48-8d67-6529329df42d",
   "metadata": {},
   "outputs": [],
   "source": [
    "def define_train_cfg(trial) -> TrainConfig:\n",
    "    n_layers = trial.suggest_int('n_layers', 1, 20, log=True)\n",
    "    hidden_channels = trial.suggest_int('hidden_channels', 4, 64, log=True)\n",
    "    n_modes = trial.suggest_int('n_modes', 4, 32, log=True)\n",
    "    lifting_channel_ratio = trial.suggest_int('lifting_channel_ratio', 2, 32, log=True)\n",
    "    projection_channel_ratio = trial.suggest_int('projection_channel_ratio', 2, 32, log=True)\n",
    "    lr = trial.suggest_float('lr', 1e-5, 1e-1, log=True)\n",
    "\n",
    "    print(\n",
    "        f'Running with {n_layers=}, {hidden_channels=}, {n_modes=}, {lifting_channel_ratio=}, {projection_channel_ratio=} {lr=}'\n",
    "    )\n",
    "\n",
    "    cfg = TrainConfig(\n",
    "        # Datasets params\n",
    "        train_dset='mri_pm_train',\n",
    "        test_dset='mri_pm_test',\n",
    "        train_batch_size=32,\n",
    "        test_batch_size=32,\n",
    "        # Model params\n",
    "        name_model='mri-hno-v2',\n",
    "        cfg_fno={\n",
    "            'n_modes': (n_modes, n_modes),\n",
    "            'in_channels': 1,\n",
    "            'hidden_channels': hidden_channels,\n",
    "            'lifting_channel_ratio': lifting_channel_ratio,\n",
    "            'projection_channel_ratio': projection_channel_ratio,\n",
    "            'out_channels': 1,\n",
    "            'factorization': 'dense',\n",
    "            'n_layers': n_layers,\n",
    "            'rank': 0.42,\n",
    "            'spectral': 'hartley',\n",
    "        },\n",
    "        # Run params\n",
    "        random_seed=42,\n",
    "        device='cuda:2',\n",
    "        run_name='Run optuna',\n",
    "        # Train params\n",
    "        n_epochs=3,\n",
    "        lr=lr,\n",
    "        verbose=True,\n",
    "    )\n",
    "\n",
    "    return cfg\n",
    "\n",
    "\n",
    "def objective(trial):\n",
    "    cfg = define_train_cfg(trial)\n",
    "    trainer, train_kwargs, _ = prepare_training(env, cfg)\n",
    "\n",
    "    if count_parameters(trainer.model) > 10_000_000:\n",
    "        print('Pruned by model params')\n",
    "        raise optuna.exceptions.TrialPruned\n",
    "\n",
    "    seed_everything(cfg.random_seed)\n",
    "\n",
    "    trial_obj = 'test_h1'\n",
    "    metrics = trainer.train(trial=trial, trial_obj=trial_obj, **train_kwargs)\n",
    "\n",
    "    return float(metrics[trial_obj])"
   ]
  },
  {
   "cell_type": "code",
   "execution_count": 7,
   "id": "ece7123f-920b-4691-9f96-d7b4cfda08b3",
   "metadata": {},
   "outputs": [],
   "source": [
    "run_name = 'hno-v2-h1'\n",
    "study_name = f'{run_name}-optuna'\n",
    "sampler_path = Path(f'./{run_name}-sampler')"
   ]
  },
  {
   "cell_type": "code",
   "execution_count": null,
   "id": "ed12a952-0bfc-4334-a1d1-2a70001d04be",
   "metadata": {
    "scrolled": true
   },
   "outputs": [
    {
     "name": "stderr",
     "output_type": "stream",
     "text": [
      "[I 2025-04-18 11:16:07,158] Using an existing study with name 'hno-v2-h1-optuna' instead of creating a new one.\n"
     ]
    },
    {
     "name": "stdout",
     "output_type": "stream",
     "text": [
      "Restore sampler from path: hno-v2-h1-sampler\n",
      "Using an existing study with name 'hno-v2-h1-optuna' instead of creating a new one.\n",
      "Using an existing study with name 'hno-v2-h1-optuna' instead of creating a new one.\n",
      "Using an existing study with name 'hno-v2-h1-optuna' instead of creating a new one.\n",
      "Running with n_layers=2, hidden_channels=43, n_modes=15, lifting_channel_ratio=10, projection_channel_ratio=5 lr=0.011927374642042675\n",
      "Got n_samples = 8380  in dataset mri_pm_train        with sample size = torch.Size([1, 145, 145])\n",
      "Got n_samples = 2093  in dataset mri_pm_test         with sample size = torch.Size([1, 145, 145])\n",
      "Got n_samples = 2093  in dataset mri_gt_test         with sample size = torch.Size([1, 145, 145])\n",
      "Got n_samples = 137   in dataset bsd_synth_0.01_train with sample size = torch.Size([1, 321, 481])\n",
      "Got n_samples = 77    in dataset bsd_synth_0.01_test with sample size = torch.Size([1, 321, 481])\n",
      "Got n_samples = 12296 in dataset sidd_train          with sample size = torch.Size([3, 512, 512])\n",
      "Got n_samples = 3008  in dataset sidd_test           with sample size = torch.Size([3, 512, 512])\n",
      "torch.Size([32, 1, 145, 145]) torch.Size([32, 1, 145, 145])\n",
      "Loaded  model mri-fno-neuralop with n_parameters = 2010449\n",
      "Loaded  model mri-fno-custom   with n_parameters = 2010449\n",
      "Loaded  model mri-fno-dense    with n_parameters = 4476513\n",
      "Loaded  model mri-hno-separable with n_parameters = 2248289\n",
      "Loaded  model mri-hno-v2       with n_parameters = 2248289\n",
      "Loaded  model sidd-fno-run2    with n_parameters = 2011091\n",
      "Loaded  model sidd-fno-run3    with n_parameters = 2011091\n",
      "Loaded  model sidd-fno-run4    with n_parameters = 2028627\n",
      "Loaded  model bsd-fno          with n_parameters = 2010449\n",
      "Created model mri-hno-v2       with n_parameters = 481473\n",
      "Logging to wandb enabled: False\n",
      "Training on 8380 samples\n",
      "Testing on [2093] samples         on resolutions ['test'].\n",
      "Raw outputs of shape torch.Size([32, 1, 145, 145])\n",
      "[0] time=34.04, avg_loss=0.1512, train_err=4.8352\n",
      "Eval: test_h1=0.1181, test_l2=0.1244\n"
     ]
    },
    {
     "name": "stderr",
     "output_type": "stream",
     "text": [
      "[I 2025-04-18 11:16:45,942] Trial 16 pruned. \n"
     ]
    },
    {
     "name": "stdout",
     "output_type": "stream",
     "text": [
      "Trial 16 pruned. \n",
      "Trial 16 pruned. \n",
      "Trial 16 pruned. \n",
      "Running with n_layers=3, hidden_channels=22, n_modes=9, lifting_channel_ratio=6, projection_channel_ratio=5 lr=0.0022351622959278783\n",
      "Got n_samples = 8380  in dataset mri_pm_train        with sample size = torch.Size([1, 145, 145])\n",
      "Got n_samples = 2093  in dataset mri_pm_test         with sample size = torch.Size([1, 145, 145])\n",
      "Got n_samples = 2093  in dataset mri_gt_test         with sample size = torch.Size([1, 145, 145])\n",
      "Got n_samples = 137   in dataset bsd_synth_0.01_train with sample size = torch.Size([1, 321, 481])\n",
      "Got n_samples = 77    in dataset bsd_synth_0.01_test with sample size = torch.Size([1, 321, 481])\n",
      "Got n_samples = 12296 in dataset sidd_train          with sample size = torch.Size([3, 512, 512])\n",
      "Got n_samples = 3008  in dataset sidd_test           with sample size = torch.Size([3, 512, 512])\n",
      "torch.Size([32, 1, 145, 145]) torch.Size([32, 1, 145, 145])\n",
      "Loaded  model mri-fno-neuralop with n_parameters = 2010449\n",
      "Loaded  model mri-fno-custom   with n_parameters = 2010449\n",
      "Loaded  model mri-fno-dense    with n_parameters = 4476513\n",
      "Loaded  model mri-hno-separable with n_parameters = 2248289\n",
      "Loaded  model mri-hno-v2       with n_parameters = 2248289\n",
      "Loaded  model sidd-fno-run2    with n_parameters = 2011091\n",
      "Loaded  model sidd-fno-run3    with n_parameters = 2011091\n",
      "Loaded  model sidd-fno-run4    with n_parameters = 2028627\n",
      "Loaded  model bsd-fno          with n_parameters = 2010449\n",
      "Created model mri-hno-v2       with n_parameters = 74570\n",
      "Logging to wandb enabled: False\n",
      "Training on 8380 samples\n",
      "Testing on [2093] samples         on resolutions ['test'].\n",
      "Raw outputs of shape torch.Size([32, 1, 145, 145])\n",
      "[0] time=24.50, avg_loss=0.1523, train_err=4.8728\n",
      "Eval: test_h1=0.1186, test_l2=0.0624\n"
     ]
    },
    {
     "name": "stderr",
     "output_type": "stream",
     "text": [
      "[I 2025-04-18 11:17:13,850] Trial 17 pruned. \n"
     ]
    },
    {
     "name": "stdout",
     "output_type": "stream",
     "text": [
      "Trial 17 pruned. \n",
      "Trial 17 pruned. \n",
      "Trial 17 pruned. \n",
      "Running with n_layers=4, hidden_channels=9, n_modes=4, lifting_channel_ratio=3, projection_channel_ratio=2 lr=1.9468162041961396e-05\n",
      "Got n_samples = 8380  in dataset mri_pm_train        with sample size = torch.Size([1, 145, 145])\n",
      "Got n_samples = 2093  in dataset mri_pm_test         with sample size = torch.Size([1, 145, 145])\n",
      "Got n_samples = 2093  in dataset mri_gt_test         with sample size = torch.Size([1, 145, 145])\n",
      "Got n_samples = 137   in dataset bsd_synth_0.01_train with sample size = torch.Size([1, 321, 481])\n",
      "Got n_samples = 77    in dataset bsd_synth_0.01_test with sample size = torch.Size([1, 321, 481])\n",
      "Got n_samples = 12296 in dataset sidd_train          with sample size = torch.Size([3, 512, 512])\n",
      "Got n_samples = 3008  in dataset sidd_test           with sample size = torch.Size([3, 512, 512])\n",
      "torch.Size([32, 1, 145, 145]) torch.Size([32, 1, 145, 145])\n",
      "Loaded  model mri-fno-neuralop with n_parameters = 2010449\n",
      "Loaded  model mri-fno-custom   with n_parameters = 2010449\n",
      "Loaded  model mri-fno-dense    with n_parameters = 4476513\n",
      "Loaded  model mri-hno-separable with n_parameters = 2248289\n",
      "Loaded  model mri-hno-v2       with n_parameters = 2248289\n",
      "Loaded  model sidd-fno-run2    with n_parameters = 2011091\n",
      "Loaded  model sidd-fno-run3    with n_parameters = 2011091\n",
      "Loaded  model sidd-fno-run4    with n_parameters = 2028627\n",
      "Loaded  model bsd-fno          with n_parameters = 2010449\n",
      "Created model mri-hno-v2       with n_parameters = 5183\n",
      "Logging to wandb enabled: False\n",
      "Training on 8380 samples\n",
      "Testing on [2093] samples         on resolutions ['test'].\n",
      "Raw outputs of shape torch.Size([32, 1, 145, 145])\n",
      "[0] time=16.12, avg_loss=0.9985, train_err=31.9367\n",
      "Eval: test_h1=0.9966, test_l2=0.8053\n"
     ]
    },
    {
     "name": "stderr",
     "output_type": "stream",
     "text": [
      "[I 2025-04-18 11:17:33,474] Trial 18 pruned. \n"
     ]
    },
    {
     "name": "stdout",
     "output_type": "stream",
     "text": [
      "Trial 18 pruned. \n",
      "Trial 18 pruned. \n",
      "Trial 18 pruned. \n",
      "Running with n_layers=1, hidden_channels=34, n_modes=19, lifting_channel_ratio=9, projection_channel_ratio=11 lr=0.0004347370541490722\n",
      "Got n_samples = 8380  in dataset mri_pm_train        with sample size = torch.Size([1, 145, 145])\n",
      "Got n_samples = 2093  in dataset mri_pm_test         with sample size = torch.Size([1, 145, 145])\n",
      "Got n_samples = 2093  in dataset mri_gt_test         with sample size = torch.Size([1, 145, 145])\n",
      "Got n_samples = 137   in dataset bsd_synth_0.01_train with sample size = torch.Size([1, 321, 481])\n",
      "Got n_samples = 77    in dataset bsd_synth_0.01_test with sample size = torch.Size([1, 321, 481])\n",
      "Got n_samples = 12296 in dataset sidd_train          with sample size = torch.Size([3, 512, 512])\n",
      "Got n_samples = 3008  in dataset sidd_test           with sample size = torch.Size([3, 512, 512])\n",
      "torch.Size([32, 1, 145, 145]) torch.Size([32, 1, 145, 145])\n",
      "Loaded  model mri-fno-neuralop with n_parameters = 2010449\n",
      "Loaded  model mri-fno-custom   with n_parameters = 2010449\n",
      "Loaded  model mri-fno-dense    with n_parameters = 4476513\n",
      "Loaded  model mri-hno-separable with n_parameters = 2248289\n",
      "Loaded  model mri-hno-v2       with n_parameters = 2248289\n",
      "Loaded  model sidd-fno-run2    with n_parameters = 2011091\n",
      "Loaded  model sidd-fno-run3    with n_parameters = 2011091\n",
      "Loaded  model sidd-fno-run4    with n_parameters = 2028627\n",
      "Loaded  model bsd-fno          with n_parameters = 2010449\n",
      "Created model mri-hno-v2       with n_parameters = 247198\n",
      "Logging to wandb enabled: False\n",
      "Training on 8380 samples\n",
      "Testing on [2093] samples         on resolutions ['test'].\n",
      "Raw outputs of shape torch.Size([32, 1, 145, 145])\n",
      "[0] time=23.32, avg_loss=0.1592, train_err=5.0915\n",
      "Eval: test_h1=0.1216, test_l2=0.0660\n"
     ]
    },
    {
     "name": "stderr",
     "output_type": "stream",
     "text": [
      "[I 2025-04-18 11:17:59,635] Trial 19 pruned. \n"
     ]
    },
    {
     "name": "stdout",
     "output_type": "stream",
     "text": [
      "Trial 19 pruned. \n",
      "Trial 19 pruned. \n",
      "Trial 19 pruned. \n",
      "Running with n_layers=4, hidden_channels=20, n_modes=6, lifting_channel_ratio=5, projection_channel_ratio=3 lr=0.008872729287776196\n",
      "Got n_samples = 8380  in dataset mri_pm_train        with sample size = torch.Size([1, 145, 145])\n",
      "Got n_samples = 2093  in dataset mri_pm_test         with sample size = torch.Size([1, 145, 145])\n",
      "Got n_samples = 2093  in dataset mri_gt_test         with sample size = torch.Size([1, 145, 145])\n",
      "Got n_samples = 137   in dataset bsd_synth_0.01_train with sample size = torch.Size([1, 321, 481])\n",
      "Got n_samples = 77    in dataset bsd_synth_0.01_test with sample size = torch.Size([1, 321, 481])\n",
      "Got n_samples = 12296 in dataset sidd_train          with sample size = torch.Size([3, 512, 512])\n",
      "Got n_samples = 3008  in dataset sidd_test           with sample size = torch.Size([3, 512, 512])\n",
      "torch.Size([32, 1, 145, 145]) torch.Size([32, 1, 145, 145])\n",
      "Loaded  model mri-fno-neuralop with n_parameters = 2010449\n",
      "Loaded  model mri-fno-custom   with n_parameters = 2010449\n",
      "Loaded  model mri-fno-dense    with n_parameters = 4476513\n",
      "Loaded  model mri-hno-separable with n_parameters = 2248289\n",
      "Loaded  model mri-hno-v2       with n_parameters = 2248289\n",
      "Loaded  model sidd-fno-run2    with n_parameters = 2011091\n",
      "Loaded  model sidd-fno-run3    with n_parameters = 2011091\n",
      "Loaded  model sidd-fno-run4    with n_parameters = 2028627\n",
      "Loaded  model bsd-fno          with n_parameters = 2010449\n",
      "Created model mri-hno-v2       with n_parameters = 45621\n",
      "Logging to wandb enabled: False\n",
      "Training on 8380 samples\n",
      "Testing on [2093] samples         on resolutions ['test'].\n",
      "Raw outputs of shape torch.Size([32, 1, 145, 145])\n",
      "[0] time=27.72, avg_loss=0.1369, train_err=4.3780\n",
      "Eval: test_h1=0.1093, test_l2=0.0644\n",
      "Saved training state to ckpt\n",
      "[1] time=26.27, avg_loss=0.1088, train_err=3.4792\n",
      "Eval: test_h1=0.1090, test_l2=0.0473\n",
      "Saved training state to ckpt\n",
      "[2] time=26.21, avg_loss=0.1086, train_err=3.4732\n",
      "Eval: test_h1=0.1098, test_l2=0.0433\n"
     ]
    },
    {
     "name": "stderr",
     "output_type": "stream",
     "text": [
      "[I 2025-04-18 11:19:27,225] Trial 20 finished with value: 0.10982754081487656 and parameters: {'n_layers': 4, 'hidden_channels': 20, 'n_modes': 6, 'lifting_channel_ratio': 5, 'projection_channel_ratio': 3, 'lr': 0.008872729287776196}. Best is trial 13 with value: 0.10859087109565735.\n"
     ]
    },
    {
     "name": "stdout",
     "output_type": "stream",
     "text": [
      "Saved training state to ckpt\n",
      "Trial 20 finished with value: 0.10982754081487656 and parameters: {'n_layers': 4, 'hidden_channels': 20, 'n_modes': 6, 'lifting_channel_ratio': 5, 'projection_channel_ratio': 3, 'lr': 0.008872729287776196}. Best is trial 13 with value: 0.10859087109565735.\n",
      "Trial 20 finished with value: 0.10982754081487656 and parameters: {'n_layers': 4, 'hidden_channels': 20, 'n_modes': 6, 'lifting_channel_ratio': 5, 'projection_channel_ratio': 3, 'lr': 0.008872729287776196}. Best is trial 13 with value: 0.10859087109565735.\n",
      "Trial 20 finished with value: 0.10982754081487656 and parameters: {'n_layers': 4, 'hidden_channels': 20, 'n_modes': 6, 'lifting_channel_ratio': 5, 'projection_channel_ratio': 3, 'lr': 0.008872729287776196}. Best is trial 13 with value: 0.10859087109565735.\n",
      "Running with n_layers=2, hidden_channels=52, n_modes=9, lifting_channel_ratio=3, projection_channel_ratio=13 lr=0.0291840183541753\n",
      "Got n_samples = 8380  in dataset mri_pm_train        with sample size = torch.Size([1, 145, 145])\n",
      "Got n_samples = 2093  in dataset mri_pm_test         with sample size = torch.Size([1, 145, 145])\n",
      "Got n_samples = 2093  in dataset mri_gt_test         with sample size = torch.Size([1, 145, 145])\n",
      "Got n_samples = 137   in dataset bsd_synth_0.01_train with sample size = torch.Size([1, 321, 481])\n",
      "Got n_samples = 77    in dataset bsd_synth_0.01_test with sample size = torch.Size([1, 321, 481])\n",
      "Got n_samples = 12296 in dataset sidd_train          with sample size = torch.Size([3, 512, 512])\n",
      "Got n_samples = 3008  in dataset sidd_test           with sample size = torch.Size([3, 512, 512])\n",
      "torch.Size([32, 1, 145, 145]) torch.Size([32, 1, 145, 145])\n",
      "Loaded  model mri-fno-neuralop with n_parameters = 2010449\n",
      "Loaded  model mri-fno-custom   with n_parameters = 2010449\n",
      "Loaded  model mri-fno-dense    with n_parameters = 4476513\n",
      "Loaded  model mri-hno-separable with n_parameters = 2248289\n",
      "Loaded  model mri-hno-v2       with n_parameters = 2248289\n",
      "Loaded  model sidd-fno-run2    with n_parameters = 2011091\n",
      "Loaded  model sidd-fno-run3    with n_parameters = 2011091\n",
      "Loaded  model sidd-fno-run4    with n_parameters = 2028627\n",
      "Loaded  model bsd-fno          with n_parameters = 2010449\n",
      "Created model mri-hno-v2       with n_parameters = 299833\n",
      "Logging to wandb enabled: False\n",
      "Training on 8380 samples\n",
      "Testing on [2093] samples         on resolutions ['test'].\n",
      "Raw outputs of shape torch.Size([32, 1, 145, 145])\n",
      "[0] time=40.34, avg_loss=3.2072, train_err=102.5829\n",
      "Eval: test_h1=0.1118, test_l2=0.3397\n",
      "Saved training state to ckpt\n",
      "[1] time=39.83, avg_loss=0.1115, train_err=3.5677\n",
      "Eval: test_h1=0.1125, test_l2=1.1178\n"
     ]
    },
    {
     "name": "stderr",
     "output_type": "stream",
     "text": [
      "[I 2025-04-18 11:20:57,470] Trial 21 pruned. \n"
     ]
    },
    {
     "name": "stdout",
     "output_type": "stream",
     "text": [
      "Trial 21 pruned. \n",
      "Trial 21 pruned. \n",
      "Trial 21 pruned. \n",
      "Running with n_layers=2, hidden_channels=4, n_modes=8, lifting_channel_ratio=4, projection_channel_ratio=8 lr=0.02104741326193117\n",
      "Got n_samples = 8380  in dataset mri_pm_train        with sample size = torch.Size([1, 145, 145])\n",
      "Got n_samples = 2093  in dataset mri_pm_test         with sample size = torch.Size([1, 145, 145])\n",
      "Got n_samples = 2093  in dataset mri_gt_test         with sample size = torch.Size([1, 145, 145])\n",
      "Got n_samples = 137   in dataset bsd_synth_0.01_train with sample size = torch.Size([1, 321, 481])\n",
      "Got n_samples = 77    in dataset bsd_synth_0.01_test with sample size = torch.Size([1, 321, 481])\n",
      "Got n_samples = 12296 in dataset sidd_train          with sample size = torch.Size([3, 512, 512])\n",
      "Got n_samples = 3008  in dataset sidd_test           with sample size = torch.Size([3, 512, 512])\n",
      "torch.Size([32, 1, 145, 145]) torch.Size([32, 1, 145, 145])\n",
      "Loaded  model mri-fno-neuralop with n_parameters = 2010449\n",
      "Loaded  model mri-fno-custom   with n_parameters = 2010449\n",
      "Loaded  model mri-fno-dense    with n_parameters = 4476513\n",
      "Loaded  model mri-hno-separable with n_parameters = 2248289\n",
      "Loaded  model mri-hno-v2       with n_parameters = 2248289\n",
      "Loaded  model sidd-fno-run2    with n_parameters = 2011091\n",
      "Loaded  model sidd-fno-run3    with n_parameters = 2011091\n",
      "Loaded  model sidd-fno-run4    with n_parameters = 2028627\n",
      "Loaded  model bsd-fno          with n_parameters = 2010449\n",
      "Created model mri-hno-v2       with n_parameters = 1697\n",
      "Logging to wandb enabled: False\n",
      "Training on 8380 samples\n",
      "Testing on [2093] samples         on resolutions ['test'].\n",
      "Raw outputs of shape torch.Size([32, 1, 145, 145])\n",
      "[0] time=12.00, avg_loss=0.1413, train_err=4.5210\n",
      "Eval: test_h1=0.1198, test_l2=0.0756\n"
     ]
    },
    {
     "name": "stderr",
     "output_type": "stream",
     "text": [
      "[I 2025-04-18 11:21:11,984] Trial 22 pruned. \n"
     ]
    },
    {
     "name": "stdout",
     "output_type": "stream",
     "text": [
      "Trial 22 pruned. \n",
      "Trial 22 pruned. \n",
      "Trial 22 pruned. \n",
      "Running with n_layers=2, hidden_channels=50, n_modes=11, lifting_channel_ratio=4, projection_channel_ratio=23 lr=0.08808860574819805\n",
      "Got n_samples = 8380  in dataset mri_pm_train        with sample size = torch.Size([1, 145, 145])\n",
      "Got n_samples = 2093  in dataset mri_pm_test         with sample size = torch.Size([1, 145, 145])\n",
      "Got n_samples = 2093  in dataset mri_gt_test         with sample size = torch.Size([1, 145, 145])\n",
      "Got n_samples = 137   in dataset bsd_synth_0.01_train with sample size = torch.Size([1, 321, 481])\n",
      "Got n_samples = 77    in dataset bsd_synth_0.01_test with sample size = torch.Size([1, 321, 481])\n",
      "Got n_samples = 12296 in dataset sidd_train          with sample size = torch.Size([3, 512, 512])\n",
      "Got n_samples = 3008  in dataset sidd_test           with sample size = torch.Size([3, 512, 512])\n",
      "torch.Size([32, 1, 145, 145]) torch.Size([32, 1, 145, 145])\n",
      "Loaded  model mri-fno-neuralop with n_parameters = 2010449\n",
      "Loaded  model mri-fno-custom   with n_parameters = 2010449\n",
      "Loaded  model mri-fno-dense    with n_parameters = 4476513\n",
      "Loaded  model mri-hno-separable with n_parameters = 2248289\n",
      "Loaded  model mri-hno-v2       with n_parameters = 2248289\n",
      "Loaded  model sidd-fno-run2    with n_parameters = 2011091\n",
      "Loaded  model sidd-fno-run3    with n_parameters = 2011091\n",
      "Loaded  model sidd-fno-run4    with n_parameters = 2028627\n",
      "Loaded  model bsd-fno          with n_parameters = 2010449\n",
      "Created model mri-hno-v2       with n_parameters = 411001\n",
      "Logging to wandb enabled: False\n",
      "Training on 8380 samples\n",
      "Testing on [2093] samples         on resolutions ['test'].\n",
      "Raw outputs of shape torch.Size([32, 1, 145, 145])\n",
      "[0] time=48.50, avg_loss=133.2310, train_err=4261.3581\n",
      "Eval: test_h1=0.9999, test_l2=0.8953\n"
     ]
    },
    {
     "name": "stderr",
     "output_type": "stream",
     "text": [
      "[I 2025-04-18 11:22:06,678] Trial 23 pruned. \n"
     ]
    },
    {
     "name": "stdout",
     "output_type": "stream",
     "text": [
      "Trial 23 pruned. \n",
      "Trial 23 pruned. \n",
      "Trial 23 pruned. \n",
      "Running with n_layers=4, hidden_channels=63, n_modes=13, lifting_channel_ratio=6, projection_channel_ratio=13 lr=0.0028160287651627877\n",
      "Got n_samples = 8380  in dataset mri_pm_train        with sample size = torch.Size([1, 145, 145])\n",
      "Got n_samples = 2093  in dataset mri_pm_test         with sample size = torch.Size([1, 145, 145])\n",
      "Got n_samples = 2093  in dataset mri_gt_test         with sample size = torch.Size([1, 145, 145])\n",
      "Got n_samples = 137   in dataset bsd_synth_0.01_train with sample size = torch.Size([1, 321, 481])\n",
      "Got n_samples = 77    in dataset bsd_synth_0.01_test with sample size = torch.Size([1, 321, 481])\n",
      "Got n_samples = 12296 in dataset sidd_train          with sample size = torch.Size([3, 512, 512])\n",
      "Got n_samples = 3008  in dataset sidd_test           with sample size = torch.Size([3, 512, 512])\n",
      "torch.Size([32, 1, 145, 145]) torch.Size([32, 1, 145, 145])\n",
      "Loaded  model mri-fno-neuralop with n_parameters = 2010449\n",
      "Loaded  model mri-fno-custom   with n_parameters = 2010449\n",
      "Loaded  model mri-fno-dense    with n_parameters = 4476513\n",
      "Loaded  model mri-hno-separable with n_parameters = 2248289\n",
      "Loaded  model mri-hno-v2       with n_parameters = 2248289\n",
      "Loaded  model sidd-fno-run2    with n_parameters = 2011091\n",
      "Loaded  model sidd-fno-run3    with n_parameters = 2011091\n",
      "Loaded  model sidd-fno-run4    with n_parameters = 2028627\n",
      "Loaded  model bsd-fno          with n_parameters = 2010449\n",
      "Created model mri-hno-v2       with n_parameters = 1556229\n",
      "Logging to wandb enabled: False\n",
      "Training on 8380 samples\n",
      "Testing on [2093] samples         on resolutions ['test'].\n",
      "Raw outputs of shape torch.Size([32, 1, 145, 145])\n"
     ]
    }
   ],
   "source": [
    "# init trials storage and sampler pickle\n",
    "optuna.logging.get_logger('optuna').addHandler(logging.StreamHandler(sys.stdout))\n",
    "storage_name = 'sqlite:///{}.db'.format(study_name)\n",
    "restored_sampler = None\n",
    "if sampler_path.exists():\n",
    "    print(f'Restore sampler from path: {sampler_path}')\n",
    "    restored_sampler = pickle.load(Path.open(sampler_path, 'rb'))\n",
    "\n",
    "# create new study or restore\n",
    "study = optuna.create_study(\n",
    "    study_name=study_name,\n",
    "    storage=storage_name,\n",
    "    direction='minimize',\n",
    "    sampler=restored_sampler,\n",
    "    load_if_exists=True,\n",
    ")\n",
    "\n",
    "if not sampler_path.exists():\n",
    "    print(f'Caching sampler in: {sampler_path}')\n",
    "    pickle.dump(study.sampler, Path.open(sampler_path, 'wb'))\n",
    "\n",
    "# run optimization\n",
    "study.optimize(objective, n_trials=1000, timeout=600)"
   ]
  },
  {
   "cell_type": "code",
   "execution_count": null,
   "id": "2f7b8d34-a081-4af7-b1b3-d4df7d0e760f",
   "metadata": {},
   "outputs": [],
   "source": []
  },
  {
   "cell_type": "code",
   "execution_count": 11,
   "id": "8e68ac1f-902d-4e17-a7db-a1e90fc88270",
   "metadata": {},
   "outputs": [
    {
     "name": "stdout",
     "output_type": "stream",
     "text": [
      "Study statistics: \n",
      "  Number of finished trials:  16\n",
      "  Number of pruned trials:  9\n",
      "  Number of complete trials:  7\n",
      "Best trial:\n",
      "  Value:  0.10859087109565735\n",
      "  Params: \n",
      "    n_layers: 2\n",
      "    hidden_channels: 41\n",
      "    n_modes: 8\n",
      "    lifting_channel_ratio: 6\n",
      "    projection_channel_ratio: 32\n",
      "    lr: 0.0026019787737744096\n"
     ]
    }
   ],
   "source": [
    "pruned_trials = study.get_trials(deepcopy=False, states=[TrialState.PRUNED])\n",
    "complete_trials = study.get_trials(deepcopy=False, states=[TrialState.COMPLETE])\n",
    "\n",
    "print('Study statistics: ')\n",
    "print('  Number of finished trials: ', len(study.trials))\n",
    "print('  Number of pruned trials: ', len(pruned_trials))\n",
    "print('  Number of complete trials: ', len(complete_trials))\n",
    "\n",
    "print('Best trial:')\n",
    "trial = study.best_trial\n",
    "\n",
    "print('  Value: ', trial.value)\n",
    "\n",
    "print('  Params: ')\n",
    "for key, value in trial.params.items():\n",
    "    print('    {}: {}'.format(key, value))"
   ]
  },
  {
   "cell_type": "code",
   "execution_count": 16,
   "id": "3bddc271-505f-4f55-8908-12ff56cace8d",
   "metadata": {},
   "outputs": [],
   "source": [
    "# HNO-v2, test_l2\n",
    "\n",
    "# Study statistics:\n",
    "#   Number of finished trials:  31\n",
    "#   Number of pruned trials:  13\n",
    "#   Number of complete trials:  17\n",
    "# Best trial:\n",
    "#   Value:  0.043848007917404175\n",
    "#   Params:\n",
    "#     n_layers: 3\n",
    "#     hidden_channels: 49\n",
    "#     n_modes: 16\n",
    "#     lifting_channel_ratio: 6\n",
    "#     projection_channel_ratio: 12\n",
    "#     lr: 0.0074820412780186325"
   ]
  },
  {
   "cell_type": "code",
   "execution_count": null,
   "id": "fc5f2aa8-64da-4ee1-b33a-9fddb50166ec",
   "metadata": {},
   "outputs": [],
   "source": []
  },
  {
   "cell_type": "code",
   "execution_count": null,
   "id": "3bf7c313-3b9b-48fb-b2d5-7dbaacfb251b",
   "metadata": {},
   "outputs": [],
   "source": []
  },
  {
   "cell_type": "code",
   "execution_count": null,
   "id": "99f7e335-666c-44a3-891e-98e4967a985c",
   "metadata": {},
   "outputs": [],
   "source": []
  },
  {
   "cell_type": "code",
   "execution_count": null,
   "id": "2726ff26-df7e-4f63-b3c2-74a746c238f4",
   "metadata": {},
   "outputs": [],
   "source": []
  },
  {
   "cell_type": "code",
   "execution_count": null,
   "id": "1cec6797-9808-44a4-8e94-d3921bb574f5",
   "metadata": {},
   "outputs": [],
   "source": []
  },
  {
   "cell_type": "code",
   "execution_count": null,
   "id": "9ae32836-af75-4446-9aee-24764a35adad",
   "metadata": {},
   "outputs": [],
   "source": []
  },
  {
   "cell_type": "code",
   "execution_count": null,
   "id": "cc565710-10bd-4a97-ae71-5dcbd2309995",
   "metadata": {},
   "outputs": [],
   "source": []
  }
 ],
 "metadata": {
  "kernelspec": {
   "display_name": "Python 3 (ipykernel)",
   "language": "python",
   "name": "python3"
  },
  "language_info": {
   "codemirror_mode": {
    "name": "ipython",
    "version": 3
   },
   "file_extension": ".py",
   "mimetype": "text/x-python",
   "name": "python",
   "nbconvert_exporter": "python",
   "pygments_lexer": "ipython3",
   "version": "3.10.16"
  }
 },
 "nbformat": 4,
 "nbformat_minor": 5
}
